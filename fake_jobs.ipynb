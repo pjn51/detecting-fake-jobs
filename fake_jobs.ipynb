{
 "cells": [
  {
   "cell_type": "markdown",
   "metadata": {
    "heading_collapsed": "true"
   },
   "source": [
    "# Data import"
   ]
  },
  {
   "cell_type": "markdown",
   "metadata": {},
   "source": [
    "I got the data [here](https://www.kaggle.com/shivamb/real-or-fake-fake-jobposting-prediction)"
   ]
  },
  {
   "cell_type": "code",
   "execution_count": 1,
   "metadata": {},
   "outputs": [],
   "source": [
    "import pandas as pd\n",
    "import matplotlib.pyplot as plt\n",
    "import seaborn as sns"
   ]
  },
  {
   "cell_type": "code",
   "execution_count": 2,
   "metadata": {},
   "outputs": [
    {
     "data": {
      "text/html": [
       "<div>\n",
       "<style scoped>\n",
       "    .dataframe tbody tr th:only-of-type {\n",
       "        vertical-align: middle;\n",
       "    }\n",
       "\n",
       "    .dataframe tbody tr th {\n",
       "        vertical-align: top;\n",
       "    }\n",
       "\n",
       "    .dataframe thead th {\n",
       "        text-align: right;\n",
       "    }\n",
       "</style>\n",
       "<table border=\"1\" class=\"dataframe\">\n",
       "  <thead>\n",
       "    <tr style=\"text-align: right;\">\n",
       "      <th></th>\n",
       "      <th>job_id</th>\n",
       "      <th>title</th>\n",
       "      <th>location</th>\n",
       "      <th>department</th>\n",
       "      <th>salary_range</th>\n",
       "      <th>company_profile</th>\n",
       "      <th>description</th>\n",
       "      <th>requirements</th>\n",
       "      <th>benefits</th>\n",
       "      <th>telecommuting</th>\n",
       "      <th>has_company_logo</th>\n",
       "      <th>has_questions</th>\n",
       "      <th>employment_type</th>\n",
       "      <th>required_experience</th>\n",
       "      <th>required_education</th>\n",
       "      <th>industry</th>\n",
       "      <th>function</th>\n",
       "      <th>fraudulent</th>\n",
       "    </tr>\n",
       "  </thead>\n",
       "  <tbody>\n",
       "    <tr>\n",
       "      <th>0</th>\n",
       "      <td>1</td>\n",
       "      <td>Marketing Intern</td>\n",
       "      <td>US, NY, New York</td>\n",
       "      <td>Marketing</td>\n",
       "      <td>NaN</td>\n",
       "      <td>We're Food52, and we've created a groundbreaki...</td>\n",
       "      <td>Food52, a fast-growing, James Beard Award-winn...</td>\n",
       "      <td>Experience with content management systems a m...</td>\n",
       "      <td>NaN</td>\n",
       "      <td>0</td>\n",
       "      <td>1</td>\n",
       "      <td>0</td>\n",
       "      <td>Other</td>\n",
       "      <td>Internship</td>\n",
       "      <td>NaN</td>\n",
       "      <td>NaN</td>\n",
       "      <td>Marketing</td>\n",
       "      <td>0</td>\n",
       "    </tr>\n",
       "    <tr>\n",
       "      <th>1</th>\n",
       "      <td>2</td>\n",
       "      <td>Customer Service - Cloud Video Production</td>\n",
       "      <td>NZ, , Auckland</td>\n",
       "      <td>Success</td>\n",
       "      <td>NaN</td>\n",
       "      <td>90 Seconds, the worlds Cloud Video Production ...</td>\n",
       "      <td>Organised - Focused - Vibrant - Awesome!Do you...</td>\n",
       "      <td>What we expect from you:Your key responsibilit...</td>\n",
       "      <td>What you will get from usThrough being part of...</td>\n",
       "      <td>0</td>\n",
       "      <td>1</td>\n",
       "      <td>0</td>\n",
       "      <td>Full-time</td>\n",
       "      <td>Not Applicable</td>\n",
       "      <td>NaN</td>\n",
       "      <td>Marketing and Advertising</td>\n",
       "      <td>Customer Service</td>\n",
       "      <td>0</td>\n",
       "    </tr>\n",
       "    <tr>\n",
       "      <th>2</th>\n",
       "      <td>3</td>\n",
       "      <td>Commissioning Machinery Assistant (CMA)</td>\n",
       "      <td>US, IA, Wever</td>\n",
       "      <td>NaN</td>\n",
       "      <td>NaN</td>\n",
       "      <td>Valor Services provides Workforce Solutions th...</td>\n",
       "      <td>Our client, located in Houston, is actively se...</td>\n",
       "      <td>Implement pre-commissioning and commissioning ...</td>\n",
       "      <td>NaN</td>\n",
       "      <td>0</td>\n",
       "      <td>1</td>\n",
       "      <td>0</td>\n",
       "      <td>NaN</td>\n",
       "      <td>NaN</td>\n",
       "      <td>NaN</td>\n",
       "      <td>NaN</td>\n",
       "      <td>NaN</td>\n",
       "      <td>0</td>\n",
       "    </tr>\n",
       "    <tr>\n",
       "      <th>3</th>\n",
       "      <td>4</td>\n",
       "      <td>Account Executive - Washington DC</td>\n",
       "      <td>US, DC, Washington</td>\n",
       "      <td>Sales</td>\n",
       "      <td>NaN</td>\n",
       "      <td>Our passion for improving quality of life thro...</td>\n",
       "      <td>THE COMPANY: ESRI – Environmental Systems Rese...</td>\n",
       "      <td>EDUCATION: Bachelor’s or Master’s in GIS, busi...</td>\n",
       "      <td>Our culture is anything but corporate—we have ...</td>\n",
       "      <td>0</td>\n",
       "      <td>1</td>\n",
       "      <td>0</td>\n",
       "      <td>Full-time</td>\n",
       "      <td>Mid-Senior level</td>\n",
       "      <td>Bachelor's Degree</td>\n",
       "      <td>Computer Software</td>\n",
       "      <td>Sales</td>\n",
       "      <td>0</td>\n",
       "    </tr>\n",
       "    <tr>\n",
       "      <th>4</th>\n",
       "      <td>5</td>\n",
       "      <td>Bill Review Manager</td>\n",
       "      <td>US, FL, Fort Worth</td>\n",
       "      <td>NaN</td>\n",
       "      <td>NaN</td>\n",
       "      <td>SpotSource Solutions LLC is a Global Human Cap...</td>\n",
       "      <td>JOB TITLE: Itemization Review ManagerLOCATION:...</td>\n",
       "      <td>QUALIFICATIONS:RN license in the State of Texa...</td>\n",
       "      <td>Full Benefits Offered</td>\n",
       "      <td>0</td>\n",
       "      <td>1</td>\n",
       "      <td>1</td>\n",
       "      <td>Full-time</td>\n",
       "      <td>Mid-Senior level</td>\n",
       "      <td>Bachelor's Degree</td>\n",
       "      <td>Hospital &amp; Health Care</td>\n",
       "      <td>Health Care Provider</td>\n",
       "      <td>0</td>\n",
       "    </tr>\n",
       "  </tbody>\n",
       "</table>\n",
       "</div>"
      ],
      "text/plain": [
       "   job_id                                      title            location  \\\n",
       "0       1                           Marketing Intern    US, NY, New York   \n",
       "1       2  Customer Service - Cloud Video Production      NZ, , Auckland   \n",
       "2       3    Commissioning Machinery Assistant (CMA)       US, IA, Wever   \n",
       "3       4          Account Executive - Washington DC  US, DC, Washington   \n",
       "4       5                        Bill Review Manager  US, FL, Fort Worth   \n",
       "\n",
       "  department salary_range                                    company_profile  \\\n",
       "0  Marketing          NaN  We're Food52, and we've created a groundbreaki...   \n",
       "1    Success          NaN  90 Seconds, the worlds Cloud Video Production ...   \n",
       "2        NaN          NaN  Valor Services provides Workforce Solutions th...   \n",
       "3      Sales          NaN  Our passion for improving quality of life thro...   \n",
       "4        NaN          NaN  SpotSource Solutions LLC is a Global Human Cap...   \n",
       "\n",
       "                                         description  \\\n",
       "0  Food52, a fast-growing, James Beard Award-winn...   \n",
       "1  Organised - Focused - Vibrant - Awesome!Do you...   \n",
       "2  Our client, located in Houston, is actively se...   \n",
       "3  THE COMPANY: ESRI – Environmental Systems Rese...   \n",
       "4  JOB TITLE: Itemization Review ManagerLOCATION:...   \n",
       "\n",
       "                                        requirements  \\\n",
       "0  Experience with content management systems a m...   \n",
       "1  What we expect from you:Your key responsibilit...   \n",
       "2  Implement pre-commissioning and commissioning ...   \n",
       "3  EDUCATION: Bachelor’s or Master’s in GIS, busi...   \n",
       "4  QUALIFICATIONS:RN license in the State of Texa...   \n",
       "\n",
       "                                            benefits  telecommuting  \\\n",
       "0                                                NaN              0   \n",
       "1  What you will get from usThrough being part of...              0   \n",
       "2                                                NaN              0   \n",
       "3  Our culture is anything but corporate—we have ...              0   \n",
       "4                              Full Benefits Offered              0   \n",
       "\n",
       "   has_company_logo  has_questions employment_type required_experience  \\\n",
       "0                 1              0           Other          Internship   \n",
       "1                 1              0       Full-time      Not Applicable   \n",
       "2                 1              0             NaN                 NaN   \n",
       "3                 1              0       Full-time    Mid-Senior level   \n",
       "4                 1              1       Full-time    Mid-Senior level   \n",
       "\n",
       "  required_education                   industry              function  \\\n",
       "0                NaN                        NaN             Marketing   \n",
       "1                NaN  Marketing and Advertising      Customer Service   \n",
       "2                NaN                        NaN                   NaN   \n",
       "3  Bachelor's Degree          Computer Software                 Sales   \n",
       "4  Bachelor's Degree     Hospital & Health Care  Health Care Provider   \n",
       "\n",
       "   fraudulent  \n",
       "0           0  \n",
       "1           0  \n",
       "2           0  \n",
       "3           0  \n",
       "4           0  "
      ]
     },
     "execution_count": 2,
     "metadata": {},
     "output_type": "execute_result"
    }
   ],
   "source": [
    "df = pd.read_csv('/Users/patricknorman/Downloads/fake_job_postings.csv')\n",
    "df.head()"
   ]
  },
  {
   "cell_type": "markdown",
   "metadata": {
    "heading_collapsed": "true"
   },
   "source": [
    "# Data Overview"
   ]
  },
  {
   "cell_type": "markdown",
   "metadata": {},
   "source": [
    "The data has 17,880 job postings, of which 866 are fraudulent. This represents only 4.8% of the data. "
   ]
  },
  {
   "cell_type": "markdown",
   "metadata": {
    "heading_collapsed": true
   },
   "source": [
    "# EDA"
   ]
  },
  {
   "cell_type": "code",
   "execution_count": 3,
   "metadata": {
    "hidden": true
   },
   "outputs": [
    {
     "data": {
      "text/plain": [
       "0    17014\n",
       "1      866\n",
       "Name: fraudulent, dtype: int64"
      ]
     },
     "execution_count": 3,
     "metadata": {},
     "output_type": "execute_result"
    }
   ],
   "source": [
    "df.fraudulent.value_counts()"
   ]
  },
  {
   "cell_type": "markdown",
   "metadata": {
    "hidden": true
   },
   "source": [
    "We have 17,014 genuine postings, 866 frauduent"
   ]
  },
  {
   "cell_type": "code",
   "execution_count": 4,
   "metadata": {
    "hidden": true
   },
   "outputs": [
    {
     "data": {
      "text/html": [
       "<div>\n",
       "<style scoped>\n",
       "    .dataframe tbody tr th:only-of-type {\n",
       "        vertical-align: middle;\n",
       "    }\n",
       "\n",
       "    .dataframe tbody tr th {\n",
       "        vertical-align: top;\n",
       "    }\n",
       "\n",
       "    .dataframe thead th {\n",
       "        text-align: right;\n",
       "    }\n",
       "</style>\n",
       "<table border=\"1\" class=\"dataframe\">\n",
       "  <thead>\n",
       "    <tr style=\"text-align: right;\">\n",
       "      <th></th>\n",
       "      <th>job_id</th>\n",
       "      <th>title</th>\n",
       "      <th>location</th>\n",
       "      <th>department</th>\n",
       "      <th>salary_range</th>\n",
       "      <th>company_profile</th>\n",
       "      <th>description</th>\n",
       "      <th>requirements</th>\n",
       "      <th>benefits</th>\n",
       "      <th>telecommuting</th>\n",
       "      <th>has_company_logo</th>\n",
       "      <th>has_questions</th>\n",
       "      <th>employment_type</th>\n",
       "      <th>required_experience</th>\n",
       "      <th>required_education</th>\n",
       "      <th>industry</th>\n",
       "      <th>function</th>\n",
       "      <th>fraudulent</th>\n",
       "    </tr>\n",
       "  </thead>\n",
       "  <tbody>\n",
       "    <tr>\n",
       "      <th>98</th>\n",
       "      <td>99</td>\n",
       "      <td>IC&amp;E Technician</td>\n",
       "      <td>US, , Stocton, CA</td>\n",
       "      <td>Oil &amp; Energy</td>\n",
       "      <td>95000-115000</td>\n",
       "      <td>...</td>\n",
       "      <td>IC&amp;amp;E Technician | Bakersfield, CA Mt. Poso...</td>\n",
       "      <td>QualificationsKnowledge, Skills &amp;amp; Abilitie...</td>\n",
       "      <td>BENEFITSWhat is offered:Competitive compensati...</td>\n",
       "      <td>0</td>\n",
       "      <td>1</td>\n",
       "      <td>1</td>\n",
       "      <td>Full-time</td>\n",
       "      <td>Mid-Senior level</td>\n",
       "      <td>High School or equivalent</td>\n",
       "      <td>Oil &amp; Energy</td>\n",
       "      <td>Other</td>\n",
       "      <td>1</td>\n",
       "    </tr>\n",
       "    <tr>\n",
       "      <th>144</th>\n",
       "      <td>145</td>\n",
       "      <td>Forward Cap.</td>\n",
       "      <td>NaN</td>\n",
       "      <td>NaN</td>\n",
       "      <td>NaN</td>\n",
       "      <td>NaN</td>\n",
       "      <td>The group has raised a fund for the purchase o...</td>\n",
       "      <td>NaN</td>\n",
       "      <td>NaN</td>\n",
       "      <td>0</td>\n",
       "      <td>0</td>\n",
       "      <td>0</td>\n",
       "      <td>NaN</td>\n",
       "      <td>NaN</td>\n",
       "      <td>NaN</td>\n",
       "      <td>NaN</td>\n",
       "      <td>NaN</td>\n",
       "      <td>1</td>\n",
       "    </tr>\n",
       "    <tr>\n",
       "      <th>173</th>\n",
       "      <td>174</td>\n",
       "      <td>Technician Instrument &amp; Controls</td>\n",
       "      <td>US</td>\n",
       "      <td>Power Plant &amp; Energy</td>\n",
       "      <td>NaN</td>\n",
       "      <td>Edison International and Refined Resources hav...</td>\n",
       "      <td>Technician Instrument &amp;amp; ControlsLocation D...</td>\n",
       "      <td>JOB QUALIFICATIONS-Ability to understand proce...</td>\n",
       "      <td>we are a team of almost 8,000 employees who he...</td>\n",
       "      <td>0</td>\n",
       "      <td>1</td>\n",
       "      <td>1</td>\n",
       "      <td>Full-time</td>\n",
       "      <td>Mid-Senior level</td>\n",
       "      <td>Certification</td>\n",
       "      <td>Electrical/Electronic Manufacturing</td>\n",
       "      <td>Other</td>\n",
       "      <td>1</td>\n",
       "    </tr>\n",
       "    <tr>\n",
       "      <th>180</th>\n",
       "      <td>181</td>\n",
       "      <td>Sales Executive</td>\n",
       "      <td>PK, SD, Karachi</td>\n",
       "      <td>Sales</td>\n",
       "      <td>NaN</td>\n",
       "      <td>NaN</td>\n",
       "      <td>Sales Executive</td>\n",
       "      <td>Sales Executive</td>\n",
       "      <td>Sales Executive</td>\n",
       "      <td>0</td>\n",
       "      <td>0</td>\n",
       "      <td>0</td>\n",
       "      <td>NaN</td>\n",
       "      <td>NaN</td>\n",
       "      <td>NaN</td>\n",
       "      <td>NaN</td>\n",
       "      <td>Sales</td>\n",
       "      <td>1</td>\n",
       "    </tr>\n",
       "    <tr>\n",
       "      <th>215</th>\n",
       "      <td>216</td>\n",
       "      <td>IC&amp;E Technician Mt Poso</td>\n",
       "      <td>US, CA, Bakersfield, CA / Mt. Poso</td>\n",
       "      <td>Oil &amp; Energy</td>\n",
       "      <td>95000-115000</td>\n",
       "      <td>...</td>\n",
       "      <td>IC&amp;amp;E Technician | Bakersfield, CA Mt. Poso...</td>\n",
       "      <td>QualificationsKnowledge, Skills &amp;amp; Abiliti...</td>\n",
       "      <td>BENEFITSWhat is offered:Competitive compensati...</td>\n",
       "      <td>0</td>\n",
       "      <td>1</td>\n",
       "      <td>1</td>\n",
       "      <td>Full-time</td>\n",
       "      <td>Mid-Senior level</td>\n",
       "      <td>High School or equivalent</td>\n",
       "      <td>Oil &amp; Energy</td>\n",
       "      <td>Other</td>\n",
       "      <td>1</td>\n",
       "    </tr>\n",
       "    <tr>\n",
       "      <th>...</th>\n",
       "      <td>...</td>\n",
       "      <td>...</td>\n",
       "      <td>...</td>\n",
       "      <td>...</td>\n",
       "      <td>...</td>\n",
       "      <td>...</td>\n",
       "      <td>...</td>\n",
       "      <td>...</td>\n",
       "      <td>...</td>\n",
       "      <td>...</td>\n",
       "      <td>...</td>\n",
       "      <td>...</td>\n",
       "      <td>...</td>\n",
       "      <td>...</td>\n",
       "      <td>...</td>\n",
       "      <td>...</td>\n",
       "      <td>...</td>\n",
       "      <td>...</td>\n",
       "    </tr>\n",
       "    <tr>\n",
       "      <th>17827</th>\n",
       "      <td>17828</td>\n",
       "      <td>Student Positions Part-Time and Full-Time.</td>\n",
       "      <td>US, CA, Los Angeles</td>\n",
       "      <td>NaN</td>\n",
       "      <td>NaN</td>\n",
       "      <td>NaN</td>\n",
       "      <td>Student Positions Part-Time and Full-Time.You ...</td>\n",
       "      <td>NaN</td>\n",
       "      <td>NaN</td>\n",
       "      <td>0</td>\n",
       "      <td>0</td>\n",
       "      <td>0</td>\n",
       "      <td>Part-time</td>\n",
       "      <td>NaN</td>\n",
       "      <td>NaN</td>\n",
       "      <td>NaN</td>\n",
       "      <td>NaN</td>\n",
       "      <td>1</td>\n",
       "    </tr>\n",
       "    <tr>\n",
       "      <th>17828</th>\n",
       "      <td>17829</td>\n",
       "      <td>Sales Associate</td>\n",
       "      <td>AU, NSW, Sydney</td>\n",
       "      <td>Sales and Marketing</td>\n",
       "      <td>NaN</td>\n",
       "      <td>NaN</td>\n",
       "      <td>LEARN TO EARN AN EXECUTIVE LEVEL INCOMEFULL TR...</td>\n",
       "      <td>What You Can Do. • Have the potential to earn ...</td>\n",
       "      <td>Who We Are We are a Global Leadership Developm...</td>\n",
       "      <td>0</td>\n",
       "      <td>0</td>\n",
       "      <td>1</td>\n",
       "      <td>NaN</td>\n",
       "      <td>NaN</td>\n",
       "      <td>NaN</td>\n",
       "      <td>NaN</td>\n",
       "      <td>NaN</td>\n",
       "      <td>1</td>\n",
       "    </tr>\n",
       "    <tr>\n",
       "      <th>17829</th>\n",
       "      <td>17830</td>\n",
       "      <td>Android Developer</td>\n",
       "      <td>PL, MZ, Warsaw</td>\n",
       "      <td>NaN</td>\n",
       "      <td>NaN</td>\n",
       "      <td>NaN</td>\n",
       "      <td>inFullMobile Sp. z o.o. is a mobile software d...</td>\n",
       "      <td>• A proven track record in Android / JAVA proj...</td>\n",
       "      <td>attractive salary (adequate to the candidate s...</td>\n",
       "      <td>0</td>\n",
       "      <td>0</td>\n",
       "      <td>0</td>\n",
       "      <td>NaN</td>\n",
       "      <td>NaN</td>\n",
       "      <td>NaN</td>\n",
       "      <td>NaN</td>\n",
       "      <td>NaN</td>\n",
       "      <td>1</td>\n",
       "    </tr>\n",
       "    <tr>\n",
       "      <th>17830</th>\n",
       "      <td>17831</td>\n",
       "      <td>Payroll Clerk</td>\n",
       "      <td>US, NY, New York</td>\n",
       "      <td>NaN</td>\n",
       "      <td>NaN</td>\n",
       "      <td>NaN</td>\n",
       "      <td>JOB DESCRIPTIONWe are seeking a full time payr...</td>\n",
       "      <td>JOB REQUIREMENTS•    High school diploma or eq...</td>\n",
       "      <td>We offer a competitive salary and benefits pac...</td>\n",
       "      <td>0</td>\n",
       "      <td>0</td>\n",
       "      <td>0</td>\n",
       "      <td>Full-time</td>\n",
       "      <td>NaN</td>\n",
       "      <td>NaN</td>\n",
       "      <td>Apparel &amp; Fashion</td>\n",
       "      <td>Accounting/Auditing</td>\n",
       "      <td>1</td>\n",
       "    </tr>\n",
       "    <tr>\n",
       "      <th>17831</th>\n",
       "      <td>17832</td>\n",
       "      <td>Furniture mover</td>\n",
       "      <td>US, IL, Chicago</td>\n",
       "      <td>NaN</td>\n",
       "      <td>NaN</td>\n",
       "      <td>Anthony Warren is a Marketing and Advertising ...</td>\n",
       "      <td>earn $500 to $1000 a week as a mover.  Must ha...</td>\n",
       "      <td>Good liftflexibile schedulegeat attitude</td>\n",
       "      <td>NaN</td>\n",
       "      <td>0</td>\n",
       "      <td>1</td>\n",
       "      <td>0</td>\n",
       "      <td>NaN</td>\n",
       "      <td>NaN</td>\n",
       "      <td>NaN</td>\n",
       "      <td>NaN</td>\n",
       "      <td>NaN</td>\n",
       "      <td>1</td>\n",
       "    </tr>\n",
       "  </tbody>\n",
       "</table>\n",
       "<p>866 rows × 18 columns</p>\n",
       "</div>"
      ],
      "text/plain": [
       "       job_id                                       title  \\\n",
       "98         99                             IC&E Technician   \n",
       "144       145                                Forward Cap.   \n",
       "173       174           Technician Instrument & Controls    \n",
       "180       181                             Sales Executive   \n",
       "215       216                     IC&E Technician Mt Poso   \n",
       "...       ...                                         ...   \n",
       "17827   17828  Student Positions Part-Time and Full-Time.   \n",
       "17828   17829                             Sales Associate   \n",
       "17829   17830                           Android Developer   \n",
       "17830   17831                              Payroll Clerk    \n",
       "17831   17832                             Furniture mover   \n",
       "\n",
       "                                 location            department  salary_range  \\\n",
       "98                      US, , Stocton, CA          Oil & Energy  95000-115000   \n",
       "144                                   NaN                   NaN           NaN   \n",
       "173                                    US  Power Plant & Energy           NaN   \n",
       "180                       PK, SD, Karachi                 Sales           NaN   \n",
       "215    US, CA, Bakersfield, CA / Mt. Poso          Oil & Energy  95000-115000   \n",
       "...                                   ...                   ...           ...   \n",
       "17827                 US, CA, Los Angeles                   NaN           NaN   \n",
       "17828                     AU, NSW, Sydney   Sales and Marketing           NaN   \n",
       "17829                      PL, MZ, Warsaw                   NaN           NaN   \n",
       "17830                    US, NY, New York                   NaN           NaN   \n",
       "17831                     US, IL, Chicago                   NaN           NaN   \n",
       "\n",
       "                                         company_profile  \\\n",
       "98                                                   ...   \n",
       "144                                                  NaN   \n",
       "173    Edison International and Refined Resources hav...   \n",
       "180                                                  NaN   \n",
       "215                                                  ...   \n",
       "...                                                  ...   \n",
       "17827                                                NaN   \n",
       "17828                                                NaN   \n",
       "17829                                                NaN   \n",
       "17830                                                NaN   \n",
       "17831  Anthony Warren is a Marketing and Advertising ...   \n",
       "\n",
       "                                             description  \\\n",
       "98     IC&amp;E Technician | Bakersfield, CA Mt. Poso...   \n",
       "144    The group has raised a fund for the purchase o...   \n",
       "173    Technician Instrument &amp; ControlsLocation D...   \n",
       "180                                      Sales Executive   \n",
       "215    IC&amp;E Technician | Bakersfield, CA Mt. Poso...   \n",
       "...                                                  ...   \n",
       "17827  Student Positions Part-Time and Full-Time.You ...   \n",
       "17828  LEARN TO EARN AN EXECUTIVE LEVEL INCOMEFULL TR...   \n",
       "17829  inFullMobile Sp. z o.o. is a mobile software d...   \n",
       "17830  JOB DESCRIPTIONWe are seeking a full time payr...   \n",
       "17831  earn $500 to $1000 a week as a mover.  Must ha...   \n",
       "\n",
       "                                            requirements  \\\n",
       "98     QualificationsKnowledge, Skills &amp; Abilitie...   \n",
       "144                                                  NaN   \n",
       "173    JOB QUALIFICATIONS-Ability to understand proce...   \n",
       "180                                      Sales Executive   \n",
       "215     QualificationsKnowledge, Skills &amp; Abiliti...   \n",
       "...                                                  ...   \n",
       "17827                                                NaN   \n",
       "17828  What You Can Do. • Have the potential to earn ...   \n",
       "17829  • A proven track record in Android / JAVA proj...   \n",
       "17830  JOB REQUIREMENTS•    High school diploma or eq...   \n",
       "17831           Good liftflexibile schedulegeat attitude   \n",
       "\n",
       "                                                benefits  telecommuting  \\\n",
       "98     BENEFITSWhat is offered:Competitive compensati...              0   \n",
       "144                                                  NaN              0   \n",
       "173    we are a team of almost 8,000 employees who he...              0   \n",
       "180                                      Sales Executive              0   \n",
       "215    BENEFITSWhat is offered:Competitive compensati...              0   \n",
       "...                                                  ...            ...   \n",
       "17827                                                NaN              0   \n",
       "17828  Who We Are We are a Global Leadership Developm...              0   \n",
       "17829  attractive salary (adequate to the candidate s...              0   \n",
       "17830  We offer a competitive salary and benefits pac...              0   \n",
       "17831                                                NaN              0   \n",
       "\n",
       "       has_company_logo  has_questions employment_type required_experience  \\\n",
       "98                    1              1       Full-time    Mid-Senior level   \n",
       "144                   0              0             NaN                 NaN   \n",
       "173                   1              1       Full-time    Mid-Senior level   \n",
       "180                   0              0             NaN                 NaN   \n",
       "215                   1              1       Full-time    Mid-Senior level   \n",
       "...                 ...            ...             ...                 ...   \n",
       "17827                 0              0       Part-time                 NaN   \n",
       "17828                 0              1             NaN                 NaN   \n",
       "17829                 0              0             NaN                 NaN   \n",
       "17830                 0              0       Full-time                 NaN   \n",
       "17831                 1              0             NaN                 NaN   \n",
       "\n",
       "              required_education                             industry  \\\n",
       "98     High School or equivalent                         Oil & Energy   \n",
       "144                          NaN                                  NaN   \n",
       "173                Certification  Electrical/Electronic Manufacturing   \n",
       "180                          NaN                                  NaN   \n",
       "215    High School or equivalent                         Oil & Energy   \n",
       "...                          ...                                  ...   \n",
       "17827                        NaN                                  NaN   \n",
       "17828                        NaN                                  NaN   \n",
       "17829                        NaN                                  NaN   \n",
       "17830                        NaN                    Apparel & Fashion   \n",
       "17831                        NaN                                  NaN   \n",
       "\n",
       "                  function  fraudulent  \n",
       "98                   Other           1  \n",
       "144                    NaN           1  \n",
       "173                  Other           1  \n",
       "180                  Sales           1  \n",
       "215                  Other           1  \n",
       "...                    ...         ...  \n",
       "17827                  NaN           1  \n",
       "17828                  NaN           1  \n",
       "17829                  NaN           1  \n",
       "17830  Accounting/Auditing           1  \n",
       "17831                  NaN           1  \n",
       "\n",
       "[866 rows x 18 columns]"
      ]
     },
     "execution_count": 4,
     "metadata": {},
     "output_type": "execute_result"
    }
   ],
   "source": [
    " df[df.fraudulent == 1]"
   ]
  },
  {
   "cell_type": "code",
   "execution_count": 5,
   "metadata": {
    "hidden": true
   },
   "outputs": [
    {
     "data": {
      "text/plain": [
       "Index(['job_id', 'title', 'location', 'department', 'salary_range',\n",
       "       'company_profile', 'description', 'requirements', 'benefits',\n",
       "       'telecommuting', 'has_company_logo', 'has_questions', 'employment_type',\n",
       "       'required_experience', 'required_education', 'industry', 'function',\n",
       "       'fraudulent'],\n",
       "      dtype='object')"
      ]
     },
     "execution_count": 5,
     "metadata": {},
     "output_type": "execute_result"
    }
   ],
   "source": [
    "df.columns"
   ]
  },
  {
   "cell_type": "code",
   "execution_count": 6,
   "metadata": {
    "hidden": true
   },
   "outputs": [
    {
     "data": {
      "text/plain": [
       "job_id                     0\n",
       "title                      0\n",
       "location                 346\n",
       "department             11547\n",
       "salary_range           15012\n",
       "company_profile         3308\n",
       "description                1\n",
       "requirements            2695\n",
       "benefits                7210\n",
       "telecommuting              0\n",
       "has_company_logo           0\n",
       "has_questions              0\n",
       "employment_type         3471\n",
       "required_experience     7050\n",
       "required_education      8105\n",
       "industry                4903\n",
       "function                6455\n",
       "fraudulent                 0\n",
       "dtype: int64"
      ]
     },
     "execution_count": 6,
     "metadata": {},
     "output_type": "execute_result"
    }
   ],
   "source": [
    "df.isna().sum()"
   ]
  },
  {
   "cell_type": "code",
   "execution_count": 7,
   "metadata": {
    "hidden": true
   },
   "outputs": [],
   "source": [
    "df = df.fillna(' ')"
   ]
  },
  {
   "cell_type": "code",
   "execution_count": 8,
   "metadata": {
    "hidden": true
   },
   "outputs": [
    {
     "data": {
      "text/plain": [
       "job_id                 0\n",
       "title                  0\n",
       "location               0\n",
       "department             0\n",
       "salary_range           0\n",
       "company_profile        0\n",
       "description            0\n",
       "requirements           0\n",
       "benefits               0\n",
       "telecommuting          0\n",
       "has_company_logo       0\n",
       "has_questions          0\n",
       "employment_type        0\n",
       "required_experience    0\n",
       "required_education     0\n",
       "industry               0\n",
       "function               0\n",
       "fraudulent             0\n",
       "dtype: int64"
      ]
     },
     "execution_count": 8,
     "metadata": {},
     "output_type": "execute_result"
    }
   ],
   "source": [
    "df.isna().sum()"
   ]
  },
  {
   "cell_type": "markdown",
   "metadata": {
    "heading_collapsed": "true"
   },
   "source": [
    "# Train / Validate - Test Split"
   ]
  },
  {
   "cell_type": "code",
   "execution_count": 9,
   "metadata": {},
   "outputs": [],
   "source": [
    "from sklearn.model_selection import train_test_split"
   ]
  },
  {
   "cell_type": "code",
   "execution_count": 10,
   "metadata": {},
   "outputs": [],
   "source": [
    "x = df[['job_id', 'title', 'location', 'department', 'salary_range',\n",
    "       'company_profile', 'description', 'requirements', 'benefits',\n",
    "       'telecommuting', 'has_company_logo', 'has_questions', 'employment_type',\n",
    "       'required_experience', 'required_education', 'industry', 'function']]\n",
    "\n",
    "y = df['fraudulent']"
   ]
  },
  {
   "cell_type": "code",
   "execution_count": 11,
   "metadata": {},
   "outputs": [],
   "source": [
    "x_tr_val, x_test, y_tr_val, y_test = train_test_split(x, y, test_size = 0.2, stratify=y)"
   ]
  },
  {
   "cell_type": "code",
   "execution_count": 12,
   "metadata": {},
   "outputs": [],
   "source": [
    "x_t, x_v, y_t, y_v = train_test_split(x_tr_val, y_tr_val, test_size = 0.2, stratify=y_tr_val)"
   ]
  },
  {
   "cell_type": "markdown",
   "metadata": {
    "heading_collapsed": "true"
   },
   "source": [
    "# Confusion matrix function"
   ]
  },
  {
   "cell_type": "code",
   "execution_count": 13,
   "metadata": {},
   "outputs": [],
   "source": [
    "def print_confusion_matrix(confusion_matrix, class_names, figsize = (10,7), fontsize=18):\n",
    "    \"\"\"Prints a confusion matrix, as returned by sklearn.metrics.confusion_matrix, as a heatmap.\n",
    "    \n",
    "    Arguments\n",
    "    ---------\n",
    "    confusion_matrix: numpy.ndarray\n",
    "        The numpy.ndarray object returned from a call to sklearn.metrics.confusion_matrix. \n",
    "        Similarly constructed ndarrays can also be used.\n",
    "    class_names: list\n",
    "        An ordered list of class names, in the order they index the given confusion matrix.\n",
    "    figsize: tuple\n",
    "        A 2-long tuple, the first value determining the horizontal size of the ouputted figure,\n",
    "        the second determining the vertical size. Defaults to (10,7).\n",
    "    fontsize: int\n",
    "        Font size for axes labels. Defaults to 14.\n",
    "        \n",
    "    Returns\n",
    "    -------\n",
    "    matplotlib.figure.Figure\n",
    "        The resulting confusion matrix figure\n",
    "    \"\"\"\n",
    "    df_cm = pd.DataFrame(confusion_matrix, index=class_names, columns=class_names, )\n",
    "    fig = plt.figure(figsize=figsize)\n",
    "    try:\n",
    "        heatmap = sns.heatmap(df_cm, annot=True, fmt=\"d\")\n",
    "    except ValueError:\n",
    "        raise ValueError(\"Confusion matrix values must be integers.\")\n",
    "    heatmap.yaxis.set_ticklabels(heatmap.yaxis.get_ticklabels(), rotation=0, ha='right', fontsize=fontsize)\n",
    "    heatmap.xaxis.set_ticklabels(heatmap.xaxis.get_ticklabels(), rotation=45, ha='right', fontsize=fontsize)\n",
    "    plt.ylabel('True label')\n",
    "    plt.xlabel('Predicted label')\n",
    "    return fig"
   ]
  },
  {
   "cell_type": "markdown",
   "metadata": {
    "heading_collapsed": "true"
   },
   "source": [
    "# Applying CountVectorizer to desc only"
   ]
  },
  {
   "cell_type": "code",
   "execution_count": 14,
   "metadata": {},
   "outputs": [],
   "source": [
    "x_t_desc = x_t[['job_id', 'description']]\n",
    "x_v_desc = x_v[['job_id', 'description']]"
   ]
  },
  {
   "cell_type": "code",
   "execution_count": 15,
   "metadata": {},
   "outputs": [
    {
     "data": {
      "text/html": [
       "<div>\n",
       "<style scoped>\n",
       "    .dataframe tbody tr th:only-of-type {\n",
       "        vertical-align: middle;\n",
       "    }\n",
       "\n",
       "    .dataframe tbody tr th {\n",
       "        vertical-align: top;\n",
       "    }\n",
       "\n",
       "    .dataframe thead th {\n",
       "        text-align: right;\n",
       "    }\n",
       "</style>\n",
       "<table border=\"1\" class=\"dataframe\">\n",
       "  <thead>\n",
       "    <tr style=\"text-align: right;\">\n",
       "      <th></th>\n",
       "      <th>job_id</th>\n",
       "      <th>description</th>\n",
       "    </tr>\n",
       "  </thead>\n",
       "  <tbody>\n",
       "    <tr>\n",
       "      <th>6496</th>\n",
       "      <td>6497</td>\n",
       "      <td>We are looking for a talented and driven Engli...</td>\n",
       "    </tr>\n",
       "    <tr>\n",
       "      <th>9193</th>\n",
       "      <td>9194</td>\n",
       "      <td>Provide admin support for MD. ‘Filter’ telep...</td>\n",
       "    </tr>\n",
       "    <tr>\n",
       "      <th>16941</th>\n",
       "      <td>16942</td>\n",
       "      <td>Our clients are interested home owners who wou...</td>\n",
       "    </tr>\n",
       "    <tr>\n",
       "      <th>1799</th>\n",
       "      <td>1800</td>\n",
       "      <td>We are looking for an Partnerships/Business De...</td>\n",
       "    </tr>\n",
       "    <tr>\n",
       "      <th>1203</th>\n",
       "      <td>1204</td>\n",
       "      <td>We are looking for a Head of Platform &amp;amp; In...</td>\n",
       "    </tr>\n",
       "    <tr>\n",
       "      <th>...</th>\n",
       "      <td>...</td>\n",
       "      <td>...</td>\n",
       "    </tr>\n",
       "    <tr>\n",
       "      <th>13227</th>\n",
       "      <td>13228</td>\n",
       "      <td>Baesman Group is looking to hire motivated ind...</td>\n",
       "    </tr>\n",
       "    <tr>\n",
       "      <th>14980</th>\n",
       "      <td>14981</td>\n",
       "      <td>To apply please visit our website at #URL_06ae...</td>\n",
       "    </tr>\n",
       "    <tr>\n",
       "      <th>6761</th>\n",
       "      <td>6762</td>\n",
       "      <td>How will you spend your time at Cloudreach?We ...</td>\n",
       "    </tr>\n",
       "    <tr>\n",
       "      <th>667</th>\n",
       "      <td>668</td>\n",
       "      <td>Luxury beauty &amp;amp; fragrance consultants need...</td>\n",
       "    </tr>\n",
       "    <tr>\n",
       "      <th>1139</th>\n",
       "      <td>1140</td>\n",
       "      <td>We are hiring on behalf our international clie...</td>\n",
       "    </tr>\n",
       "  </tbody>\n",
       "</table>\n",
       "<p>11443 rows × 2 columns</p>\n",
       "</div>"
      ],
      "text/plain": [
       "       job_id                                        description\n",
       "6496     6497  We are looking for a talented and driven Engli...\n",
       "9193     9194  Provide admin support for MD. ‘Filter’ telep...\n",
       "16941   16942  Our clients are interested home owners who wou...\n",
       "1799     1800  We are looking for an Partnerships/Business De...\n",
       "1203     1204  We are looking for a Head of Platform &amp; In...\n",
       "...       ...                                                ...\n",
       "13227   13228  Baesman Group is looking to hire motivated ind...\n",
       "14980   14981  To apply please visit our website at #URL_06ae...\n",
       "6761     6762  How will you spend your time at Cloudreach?We ...\n",
       "667       668  Luxury beauty &amp; fragrance consultants need...\n",
       "1139     1140  We are hiring on behalf our international clie...\n",
       "\n",
       "[11443 rows x 2 columns]"
      ]
     },
     "execution_count": 15,
     "metadata": {},
     "output_type": "execute_result"
    }
   ],
   "source": [
    "x_t_desc"
   ]
  },
  {
   "cell_type": "code",
   "execution_count": 16,
   "metadata": {},
   "outputs": [],
   "source": [
    "from sklearn.feature_extraction.text import CountVectorizer"
   ]
  },
  {
   "cell_type": "code",
   "execution_count": 17,
   "metadata": {},
   "outputs": [],
   "source": [
    "vectorizer = CountVectorizer(stop_words = 'english' )"
   ]
  },
  {
   "cell_type": "code",
   "execution_count": 18,
   "metadata": {},
   "outputs": [],
   "source": [
    "x_t_desc_vec = vectorizer.fit_transform(x_t_desc['description'])\n",
    "x_v_desc_vec = vectorizer.transform(x_v_desc['description'])"
   ]
  },
  {
   "cell_type": "code",
   "execution_count": 19,
   "metadata": {},
   "outputs": [
    {
     "data": {
      "text/plain": [
       "48228"
      ]
     },
     "execution_count": 19,
     "metadata": {},
     "output_type": "execute_result"
    }
   ],
   "source": [
    "len(vectorizer.get_feature_names())"
   ]
  },
  {
   "cell_type": "markdown",
   "metadata": {},
   "source": [
    "# "
   ]
  },
  {
   "cell_type": "markdown",
   "metadata": {
    "heading_collapsed": "true"
   },
   "source": [
    "# ROUND 1: Modeling based on description, standard sampling"
   ]
  },
  {
   "cell_type": "markdown",
   "metadata": {
    "heading_collapsed": "true"
   },
   "source": [
    "## MODEL NB-1: MultinomialNB trained on CountVectorized description"
   ]
  },
  {
   "cell_type": "code",
   "execution_count": 20,
   "metadata": {},
   "outputs": [],
   "source": [
    "from sklearn.naive_bayes import MultinomialNB"
   ]
  },
  {
   "cell_type": "code",
   "execution_count": 21,
   "metadata": {},
   "outputs": [],
   "source": [
    "nb_1 = MultinomialNB()"
   ]
  },
  {
   "cell_type": "code",
   "execution_count": 22,
   "metadata": {},
   "outputs": [
    {
     "data": {
      "text/plain": [
       "MultinomialNB()"
      ]
     },
     "execution_count": 22,
     "metadata": {},
     "output_type": "execute_result"
    }
   ],
   "source": [
    "nb_1.fit(x_t_desc_vec, y_t)"
   ]
  },
  {
   "cell_type": "code",
   "execution_count": 23,
   "metadata": {},
   "outputs": [
    {
     "data": {
      "text/plain": [
       "0.9663549768417373"
      ]
     },
     "execution_count": 23,
     "metadata": {},
     "output_type": "execute_result"
    }
   ],
   "source": [
    "#testing\n",
    "nb_1.score(x_t_desc_vec, y_t)"
   ]
  },
  {
   "cell_type": "code",
   "execution_count": 24,
   "metadata": {},
   "outputs": [
    {
     "data": {
      "text/plain": [
       "0.9632995456134219"
      ]
     },
     "execution_count": 24,
     "metadata": {},
     "output_type": "execute_result"
    }
   ],
   "source": [
    "#validation\n",
    "nb_1.score(x_v_desc_vec, y_v)"
   ]
  },
  {
   "cell_type": "markdown",
   "metadata": {},
   "source": [
    "96% correct for Multinomial Naive Bayes model, trained on description only? Maybe this isn't taking the unbalanced nature of the classes into account. "
   ]
  },
  {
   "cell_type": "code",
   "execution_count": 25,
   "metadata": {},
   "outputs": [],
   "source": [
    "import sklearn.metrics as metrics"
   ]
  },
  {
   "cell_type": "code",
   "execution_count": 26,
   "metadata": {},
   "outputs": [
    {
     "data": {
      "text/plain": [
       "<sklearn.metrics._plot.roc_curve.RocCurveDisplay at 0x7f89dd1e32e0>"
      ]
     },
     "execution_count": 26,
     "metadata": {},
     "output_type": "execute_result"
    },
    {
     "data": {
      "image/png": "[encoded data removed]",
      "text/plain": [
       "<Figure size 432x288 with 1 Axes>"
      ]
     },
     "metadata": {
      "needs_background": "light"
     },
     "output_type": "display_data"
    }
   ],
   "source": [
    "metrics.plot_roc_curve(nb_1, x_v_desc_vec, y_v)"
   ]
  },
  {
   "cell_type": "markdown",
   "metadata": {},
   "source": [
    "## MODEL LR-1: LogisticRegression trained on CountVectorized description"
   ]
  },
  {
   "cell_type": "code",
   "execution_count": 27,
   "metadata": {},
   "outputs": [],
   "source": [
    "from sklearn.linear_model import LogisticRegression"
   ]
  },
  {
   "cell_type": "code",
   "execution_count": 28,
   "metadata": {},
   "outputs": [
    {
     "data": {
      "text/plain": [
       "LogisticRegression(C=0.3)"
      ]
     },
     "execution_count": 28,
     "metadata": {},
     "output_type": "execute_result"
    }
   ],
   "source": [
    "lr_1 = LogisticRegression(C=.3)\n",
    "\n",
    "lr_1.fit(x_t_desc_vec, y_t)"
   ]
  },
  {
   "cell_type": "code",
   "execution_count": 29,
   "metadata": {},
   "outputs": [
    {
     "data": {
      "text/plain": [
       "0.995455737131871"
      ]
     },
     "execution_count": 29,
     "metadata": {},
     "output_type": "execute_result"
    }
   ],
   "source": [
    "#training\n",
    "lr_1.score(x_t_desc_vec, y_t)"
   ]
  },
  {
   "cell_type": "code",
   "execution_count": 30,
   "metadata": {},
   "outputs": [
    {
     "data": {
      "text/plain": [
       "0.9804264243271583"
      ]
     },
     "execution_count": 30,
     "metadata": {},
     "output_type": "execute_result"
    }
   ],
   "source": [
    "#validation\n",
    "lr_1.score(x_v_desc_vec, y_v)"
   ]
  },
  {
   "cell_type": "code",
   "execution_count": 31,
   "metadata": {},
   "outputs": [
    {
     "data": {
      "text/plain": [
       "<sklearn.metrics._plot.roc_curve.RocCurveDisplay at 0x7f89dae128b0>"
      ]
     },
     "execution_count": 31,
     "metadata": {},
     "output_type": "execute_result"
    },
    {
     "data": {
      "image/png": "[encoded data removed]",
      "text/plain": [
       "<Figure size 432x288 with 1 Axes>"
      ]
     },
     "metadata": {
      "needs_background": "light"
     },
     "output_type": "display_data"
    }
   ],
   "source": [
    "metrics.plot_roc_curve(lr_1, x_v_desc_vec, y_v)"
   ]
  },
  {
   "cell_type": "markdown",
   "metadata": {},
   "source": [
    "## Model RF-1: Random Forest trained on CountVectorized description"
   ]
  },
  {
   "cell_type": "code",
   "execution_count": 32,
   "metadata": {},
   "outputs": [],
   "source": [
    "from sklearn.ensemble import RandomForestClassifier\n",
    "from sklearn.metrics import confusion_matrix"
   ]
  },
  {
   "cell_type": "code",
   "execution_count": 33,
   "metadata": {},
   "outputs": [],
   "source": [
    "rf_1 = RandomForestClassifier()"
   ]
  },
  {
   "cell_type": "code",
   "execution_count": 34,
   "metadata": {},
   "outputs": [
    {
     "data": {
      "text/plain": [
       "RandomForestClassifier()"
      ]
     },
     "execution_count": 34,
     "metadata": {},
     "output_type": "execute_result"
    }
   ],
   "source": [
    "rf_1.fit(x_t_desc_vec, y_t)"
   ]
  },
  {
   "cell_type": "code",
   "execution_count": 35,
   "metadata": {},
   "outputs": [
    {
     "data": {
      "text/plain": [
       "0.9998252206589181"
      ]
     },
     "execution_count": 35,
     "metadata": {},
     "output_type": "execute_result"
    }
   ],
   "source": [
    "#testing\n",
    "rf_1.score(x_t_desc_vec, y_t)"
   ]
  },
  {
   "cell_type": "code",
   "execution_count": 36,
   "metadata": {},
   "outputs": [
    {
     "data": {
      "text/plain": [
       "0.9807759524641734"
      ]
     },
     "execution_count": 36,
     "metadata": {},
     "output_type": "execute_result"
    }
   ],
   "source": [
    "#validation\n",
    "rf_1.score(x_v_desc_vec, y_v)"
   ]
  },
  {
   "cell_type": "code",
   "execution_count": 37,
   "metadata": {},
   "outputs": [],
   "source": [
    "rf_1_pred = rf_1.predict(x_v_desc_vec)"
   ]
  },
  {
   "cell_type": "code",
   "execution_count": 38,
   "metadata": {},
   "outputs": [
    {
     "name": "stdout",
     "output_type": "stream",
     "text": [
      "[[2722    0]\n",
      " [  55   84]]\n"
     ]
    }
   ],
   "source": [
    "rf1_cm = confusion_matrix(y_v, rf_1_pred)\n",
    "print(rf1_cm)"
   ]
  },
  {
   "cell_type": "code",
   "execution_count": 39,
   "metadata": {},
   "outputs": [
    {
     "data": {
      "text/plain": [
       "<sklearn.metrics._plot.roc_curve.RocCurveDisplay at 0x7f89dccbce20>"
      ]
     },
     "execution_count": 39,
     "metadata": {},
     "output_type": "execute_result"
    },
    {
     "data": {
      "image/png": "[encoded data removed]",
      "text/plain": [
       "<Figure size 432x288 with 1 Axes>"
      ]
     },
     "metadata": {
      "needs_background": "light"
     },
     "output_type": "display_data"
    }
   ],
   "source": [
    "metrics.plot_roc_curve(rf_1, x_v_desc_vec, y_v)"
   ]
  },
  {
   "cell_type": "markdown",
   "metadata": {},
   "source": [
    "So the models ranked in at...\n",
    "1. Random Forest (0.95 ROC AUC)\n",
    "2. Logistic Regression (0.93 ROC AUC)\n",
    "3. Multinomial Naive Bayes (0.90 ROC AUC)"
   ]
  },
  {
   "cell_type": "markdown",
   "metadata": {},
   "source": [
    "# "
   ]
  },
  {
   "cell_type": "markdown",
   "metadata": {
    "heading_collapsed": "true"
   },
   "source": [
    "# Oversampling fraudulent postings"
   ]
  },
  {
   "cell_type": "code",
   "execution_count": 40,
   "metadata": {},
   "outputs": [],
   "source": [
    "from imblearn.over_sampling import RandomOverSampler"
   ]
  },
  {
   "cell_type": "code",
   "execution_count": 41,
   "metadata": {},
   "outputs": [],
   "source": [
    "ros = RandomOverSampler(random_state = 51)"
   ]
  },
  {
   "cell_type": "code",
   "execution_count": 42,
   "metadata": {},
   "outputs": [],
   "source": [
    "# resampling x_t_desc_vec and y_t\n",
    "x_t_r, y_t_r = ros.fit_sample(x_t_desc_vec, y_t)"
   ]
  },
  {
   "cell_type": "markdown",
   "metadata": {},
   "source": [
    "# "
   ]
  },
  {
   "cell_type": "markdown",
   "metadata": {
    "heading_collapsed": "true"
   },
   "source": [
    "# ROUND 2: Modeling based on description, oversampled frauds"
   ]
  },
  {
   "cell_type": "markdown",
   "metadata": {},
   "source": [
    "## Model NB-2: Multinomial Naive Bayes, trained on description, oversampled"
   ]
  },
  {
   "cell_type": "code",
   "execution_count": 43,
   "metadata": {},
   "outputs": [],
   "source": [
    "nb_2 = MultinomialNB()"
   ]
  },
  {
   "cell_type": "code",
   "execution_count": 44,
   "metadata": {},
   "outputs": [
    {
     "data": {
      "text/plain": [
       "MultinomialNB()"
      ]
     },
     "execution_count": 44,
     "metadata": {},
     "output_type": "execute_result"
    }
   ],
   "source": [
    "nb_2.fit(x_t_r, y_t_r)"
   ]
  },
  {
   "cell_type": "code",
   "execution_count": 45,
   "metadata": {},
   "outputs": [
    {
     "data": {
      "text/plain": [
       "<sklearn.metrics._plot.roc_curve.RocCurveDisplay at 0x7f89dd0d4d30>"
      ]
     },
     "execution_count": 45,
     "metadata": {},
     "output_type": "execute_result"
    },
    {
     "data": {
      "image/png": "[encoded data removed]",
      "text/plain": [
       "<Figure size 432x288 with 1 Axes>"
      ]
     },
     "metadata": {
      "needs_background": "light"
     },
     "output_type": "display_data"
    }
   ],
   "source": [
    "metrics.plot_roc_curve(nb_2, x_v_desc_vec, y_v)"
   ]
  },
  {
   "cell_type": "markdown",
   "metadata": {},
   "source": [
    "So the NB model went from 0.90 to 0.94 after resampling."
   ]
  },
  {
   "cell_type": "markdown",
   "metadata": {},
   "source": [
    "## Model LR-2: Logistic regression, trained on description, oversampled"
   ]
  },
  {
   "cell_type": "code",
   "execution_count": 46,
   "metadata": {},
   "outputs": [],
   "source": [
    "lr_2 = LogisticRegression(C = 0.01)"
   ]
  },
  {
   "cell_type": "code",
   "execution_count": 47,
   "metadata": {},
   "outputs": [
    {
     "data": {
      "text/plain": [
       "LogisticRegression(C=0.01)"
      ]
     },
     "execution_count": 47,
     "metadata": {},
     "output_type": "execute_result"
    }
   ],
   "source": [
    "lr_2.fit(x_t_r, y_t_r)"
   ]
  },
  {
   "cell_type": "code",
   "execution_count": 48,
   "metadata": {
    "scrolled": true
   },
   "outputs": [
    {
     "data": {
      "image/png": "[encoded data removed]",
      "text/plain": [
       "<Figure size 432x288 with 1 Axes>"
      ]
     },
     "metadata": {
      "needs_background": "light"
     },
     "output_type": "display_data"
    }
   ],
   "source": [
    "metrics.plot_roc_curve(lr_2, x_v_desc_vec, y_v);"
   ]
  },
  {
   "cell_type": "markdown",
   "metadata": {},
   "source": [
    "This model performed the same."
   ]
  },
  {
   "cell_type": "markdown",
   "metadata": {},
   "source": [
    "## Model RF-2: Random Forest trained on description, oversampled"
   ]
  },
  {
   "cell_type": "code",
   "execution_count": 49,
   "metadata": {},
   "outputs": [],
   "source": [
    "rf_2 = RandomForestClassifier()"
   ]
  },
  {
   "cell_type": "code",
   "execution_count": 50,
   "metadata": {},
   "outputs": [
    {
     "data": {
      "text/plain": [
       "RandomForestClassifier()"
      ]
     },
     "execution_count": 50,
     "metadata": {},
     "output_type": "execute_result"
    }
   ],
   "source": [
    "rf_2.fit(x_t_r, y_t_r)"
   ]
  },
  {
   "cell_type": "code",
   "execution_count": 51,
   "metadata": {},
   "outputs": [
    {
     "data": {
      "text/plain": [
       "<sklearn.metrics._plot.roc_curve.RocCurveDisplay at 0x7f89dccc44f0>"
      ]
     },
     "execution_count": 51,
     "metadata": {},
     "output_type": "execute_result"
    },
    {
     "data": {
      "image/png": "[encoded data removed]",
      "text/plain": [
       "<Figure size 432x288 with 1 Axes>"
      ]
     },
     "metadata": {
      "needs_background": "light"
     },
     "output_type": "display_data"
    }
   ],
   "source": [
    "metrics.plot_roc_curve(rf_2, x_v_desc_vec, y_v)"
   ]
  },
  {
   "cell_type": "markdown",
   "metadata": {},
   "source": [
    "This model did a little better, up to 0.97 from 0.95.  "
   ]
  },
  {
   "cell_type": "markdown",
   "metadata": {},
   "source": [
    "## Model XGB-1: XGBoost trained on description, oversampled"
   ]
  },
  {
   "cell_type": "code",
   "execution_count": 52,
   "metadata": {},
   "outputs": [],
   "source": [
    "import xgboost as xgb"
   ]
  },
  {
   "cell_type": "code",
   "execution_count": 53,
   "metadata": {},
   "outputs": [],
   "source": [
    "xgb_1 = xgb.XGBClassifier(\n",
    "                        n_estimators = 100,\n",
    "                        max_depth = 3,\n",
    "                        #objective = ,\n",
    "                        learning_rate = 0.1,\n",
    "                        subsample = 1,\n",
    "                        min_child_weight = 1,\n",
    "                        colsample_bytree = 1\n",
    ")"
   ]
  },
  {
   "cell_type": "code",
   "execution_count": 54,
   "metadata": {},
   "outputs": [
    {
     "name": "stderr",
     "output_type": "stream",
     "text": [
      "/Users/patricknorman/anaconda3/envs/metis/lib/python3.8/site-packages/xgboost/sklearn.py:888: UserWarning: The use of label encoder in XGBClassifier is deprecated and will be removed in a future release. To remove this warning, do the following: 1) Pass option use_label_encoder=False when constructing XGBClassifier object; and 2) Encode your labels (y) as integers starting with 0, i.e. 0, 1, 2, ..., [num_class - 1].\n",
      "  warnings.warn(label_encoder_deprecation_msg, UserWarning)\n"
     ]
    },
    {
     "name": "stdout",
     "output_type": "stream",
     "text": [
      "[09:43:59] WARNING: /Users/runner/miniforge3/conda-bld/xgboost_1607604592557/work/src/learner.cc:1061: Starting in XGBoost 1.3.0, the default evaluation metric used with the objective 'binary:logistic' was changed from 'error' to 'logloss'. Explicitly set eval_metric if you'd like to restore the old behavior.\n"
     ]
    },
    {
     "data": {
      "text/plain": [
       "XGBClassifier(base_score=0.5, booster='gbtree', colsample_bylevel=1,\n",
       "              colsample_bynode=1, colsample_bytree=1, gamma=0, gpu_id=-1,\n",
       "              importance_type='gain', interaction_constraints='',\n",
       "              learning_rate=0.1, max_delta_step=0, max_depth=3,\n",
       "              min_child_weight=1, missing=nan, monotone_constraints='()',\n",
       "              n_estimators=100, n_jobs=8, num_parallel_tree=1, random_state=0,\n",
       "              reg_alpha=0, reg_lambda=1, scale_pos_weight=1, subsample=1,\n",
       "              tree_method='exact', validate_parameters=1, verbosity=None)"
      ]
     },
     "execution_count": 54,
     "metadata": {},
     "output_type": "execute_result"
    }
   ],
   "source": [
    "xgb_1.fit(x_t_r, y_t_r)"
   ]
  },
  {
   "cell_type": "code",
   "execution_count": 55,
   "metadata": {},
   "outputs": [
    {
     "data": {
      "text/plain": [
       "0.9022867113600882"
      ]
     },
     "execution_count": 55,
     "metadata": {},
     "output_type": "execute_result"
    }
   ],
   "source": [
    "xgb_1.score(x_t_r, y_t_r)"
   ]
  },
  {
   "cell_type": "code",
   "execution_count": 56,
   "metadata": {},
   "outputs": [
    {
     "data": {
      "text/plain": [
       "0.8570429919608529"
      ]
     },
     "execution_count": 56,
     "metadata": {},
     "output_type": "execute_result"
    }
   ],
   "source": [
    "xgb_1.score(x_v_desc_vec, y_v)"
   ]
  },
  {
   "cell_type": "code",
   "execution_count": 57,
   "metadata": {},
   "outputs": [
    {
     "data": {
      "text/plain": [
       "<sklearn.metrics._plot.roc_curve.RocCurveDisplay at 0x7f89ddda8970>"
      ]
     },
     "execution_count": 57,
     "metadata": {},
     "output_type": "execute_result"
    },
    {
     "data": {
      "image/png": "[encoded data removed]",
      "text/plain": [
       "<Figure size 432x288 with 1 Axes>"
      ]
     },
     "metadata": {
      "needs_background": "light"
     },
     "output_type": "display_data"
    }
   ],
   "source": [
    "metrics.plot_roc_curve(xgb_1, x_v_desc_vec, y_v)"
   ]
  },
  {
   "cell_type": "markdown",
   "metadata": {},
   "source": [
    "# "
   ]
  },
  {
   "cell_type": "markdown",
   "metadata": {
    "heading_collapsed": "true"
   },
   "source": [
    "# Combining all text fields"
   ]
  },
  {
   "cell_type": "code",
   "execution_count": 58,
   "metadata": {},
   "outputs": [
    {
     "data": {
      "text/html": [
       "<div>\n",
       "<style scoped>\n",
       "    .dataframe tbody tr th:only-of-type {\n",
       "        vertical-align: middle;\n",
       "    }\n",
       "\n",
       "    .dataframe tbody tr th {\n",
       "        vertical-align: top;\n",
       "    }\n",
       "\n",
       "    .dataframe thead th {\n",
       "        text-align: right;\n",
       "    }\n",
       "</style>\n",
       "<table border=\"1\" class=\"dataframe\">\n",
       "  <thead>\n",
       "    <tr style=\"text-align: right;\">\n",
       "      <th></th>\n",
       "      <th>job_id</th>\n",
       "      <th>title</th>\n",
       "      <th>location</th>\n",
       "      <th>department</th>\n",
       "      <th>salary_range</th>\n",
       "      <th>company_profile</th>\n",
       "      <th>description</th>\n",
       "      <th>requirements</th>\n",
       "      <th>benefits</th>\n",
       "      <th>telecommuting</th>\n",
       "      <th>has_company_logo</th>\n",
       "      <th>has_questions</th>\n",
       "      <th>employment_type</th>\n",
       "      <th>required_experience</th>\n",
       "      <th>required_education</th>\n",
       "      <th>industry</th>\n",
       "      <th>function</th>\n",
       "      <th>fraudulent</th>\n",
       "    </tr>\n",
       "  </thead>\n",
       "  <tbody>\n",
       "    <tr>\n",
       "      <th>0</th>\n",
       "      <td>1</td>\n",
       "      <td>Marketing Intern</td>\n",
       "      <td>US, NY, New York</td>\n",
       "      <td>Marketing</td>\n",
       "      <td></td>\n",
       "      <td>We're Food52, and we've created a groundbreaki...</td>\n",
       "      <td>Food52, a fast-growing, James Beard Award-winn...</td>\n",
       "      <td>Experience with content management systems a m...</td>\n",
       "      <td></td>\n",
       "      <td>0</td>\n",
       "      <td>1</td>\n",
       "      <td>0</td>\n",
       "      <td>Other</td>\n",
       "      <td>Internship</td>\n",
       "      <td></td>\n",
       "      <td></td>\n",
       "      <td>Marketing</td>\n",
       "      <td>0</td>\n",
       "    </tr>\n",
       "    <tr>\n",
       "      <th>1</th>\n",
       "      <td>2</td>\n",
       "      <td>Customer Service - Cloud Video Production</td>\n",
       "      <td>NZ, , Auckland</td>\n",
       "      <td>Success</td>\n",
       "      <td></td>\n",
       "      <td>90 Seconds, the worlds Cloud Video Production ...</td>\n",
       "      <td>Organised - Focused - Vibrant - Awesome!Do you...</td>\n",
       "      <td>What we expect from you:Your key responsibilit...</td>\n",
       "      <td>What you will get from usThrough being part of...</td>\n",
       "      <td>0</td>\n",
       "      <td>1</td>\n",
       "      <td>0</td>\n",
       "      <td>Full-time</td>\n",
       "      <td>Not Applicable</td>\n",
       "      <td></td>\n",
       "      <td>Marketing and Advertising</td>\n",
       "      <td>Customer Service</td>\n",
       "      <td>0</td>\n",
       "    </tr>\n",
       "    <tr>\n",
       "      <th>2</th>\n",
       "      <td>3</td>\n",
       "      <td>Commissioning Machinery Assistant (CMA)</td>\n",
       "      <td>US, IA, Wever</td>\n",
       "      <td></td>\n",
       "      <td></td>\n",
       "      <td>Valor Services provides Workforce Solutions th...</td>\n",
       "      <td>Our client, located in Houston, is actively se...</td>\n",
       "      <td>Implement pre-commissioning and commissioning ...</td>\n",
       "      <td></td>\n",
       "      <td>0</td>\n",
       "      <td>1</td>\n",
       "      <td>0</td>\n",
       "      <td></td>\n",
       "      <td></td>\n",
       "      <td></td>\n",
       "      <td></td>\n",
       "      <td></td>\n",
       "      <td>0</td>\n",
       "    </tr>\n",
       "    <tr>\n",
       "      <th>3</th>\n",
       "      <td>4</td>\n",
       "      <td>Account Executive - Washington DC</td>\n",
       "      <td>US, DC, Washington</td>\n",
       "      <td>Sales</td>\n",
       "      <td></td>\n",
       "      <td>Our passion for improving quality of life thro...</td>\n",
       "      <td>THE COMPANY: ESRI – Environmental Systems Rese...</td>\n",
       "      <td>EDUCATION: Bachelor’s or Master’s in GIS, busi...</td>\n",
       "      <td>Our culture is anything but corporate—we have ...</td>\n",
       "      <td>0</td>\n",
       "      <td>1</td>\n",
       "      <td>0</td>\n",
       "      <td>Full-time</td>\n",
       "      <td>Mid-Senior level</td>\n",
       "      <td>Bachelor's Degree</td>\n",
       "      <td>Computer Software</td>\n",
       "      <td>Sales</td>\n",
       "      <td>0</td>\n",
       "    </tr>\n",
       "    <tr>\n",
       "      <th>4</th>\n",
       "      <td>5</td>\n",
       "      <td>Bill Review Manager</td>\n",
       "      <td>US, FL, Fort Worth</td>\n",
       "      <td></td>\n",
       "      <td></td>\n",
       "      <td>SpotSource Solutions LLC is a Global Human Cap...</td>\n",
       "      <td>JOB TITLE: Itemization Review ManagerLOCATION:...</td>\n",
       "      <td>QUALIFICATIONS:RN license in the State of Texa...</td>\n",
       "      <td>Full Benefits Offered</td>\n",
       "      <td>0</td>\n",
       "      <td>1</td>\n",
       "      <td>1</td>\n",
       "      <td>Full-time</td>\n",
       "      <td>Mid-Senior level</td>\n",
       "      <td>Bachelor's Degree</td>\n",
       "      <td>Hospital &amp; Health Care</td>\n",
       "      <td>Health Care Provider</td>\n",
       "      <td>0</td>\n",
       "    </tr>\n",
       "  </tbody>\n",
       "</table>\n",
       "</div>"
      ],
      "text/plain": [
       "   job_id                                      title            location  \\\n",
       "0       1                           Marketing Intern    US, NY, New York   \n",
       "1       2  Customer Service - Cloud Video Production      NZ, , Auckland   \n",
       "2       3    Commissioning Machinery Assistant (CMA)       US, IA, Wever   \n",
       "3       4          Account Executive - Washington DC  US, DC, Washington   \n",
       "4       5                        Bill Review Manager  US, FL, Fort Worth   \n",
       "\n",
       "  department salary_range                                    company_profile  \\\n",
       "0  Marketing               We're Food52, and we've created a groundbreaki...   \n",
       "1    Success               90 Seconds, the worlds Cloud Video Production ...   \n",
       "2                          Valor Services provides Workforce Solutions th...   \n",
       "3      Sales               Our passion for improving quality of life thro...   \n",
       "4                          SpotSource Solutions LLC is a Global Human Cap...   \n",
       "\n",
       "                                         description  \\\n",
       "0  Food52, a fast-growing, James Beard Award-winn...   \n",
       "1  Organised - Focused - Vibrant - Awesome!Do you...   \n",
       "2  Our client, located in Houston, is actively se...   \n",
       "3  THE COMPANY: ESRI – Environmental Systems Rese...   \n",
       "4  JOB TITLE: Itemization Review ManagerLOCATION:...   \n",
       "\n",
       "                                        requirements  \\\n",
       "0  Experience with content management systems a m...   \n",
       "1  What we expect from you:Your key responsibilit...   \n",
       "2  Implement pre-commissioning and commissioning ...   \n",
       "3  EDUCATION: Bachelor’s or Master’s in GIS, busi...   \n",
       "4  QUALIFICATIONS:RN license in the State of Texa...   \n",
       "\n",
       "                                            benefits  telecommuting  \\\n",
       "0                                                                 0   \n",
       "1  What you will get from usThrough being part of...              0   \n",
       "2                                                                 0   \n",
       "3  Our culture is anything but corporate—we have ...              0   \n",
       "4                              Full Benefits Offered              0   \n",
       "\n",
       "   has_company_logo  has_questions employment_type required_experience  \\\n",
       "0                 1              0           Other          Internship   \n",
       "1                 1              0       Full-time      Not Applicable   \n",
       "2                 1              0                                       \n",
       "3                 1              0       Full-time    Mid-Senior level   \n",
       "4                 1              1       Full-time    Mid-Senior level   \n",
       "\n",
       "  required_education                   industry              function  \\\n",
       "0                                                           Marketing   \n",
       "1                     Marketing and Advertising      Customer Service   \n",
       "2                                                                       \n",
       "3  Bachelor's Degree          Computer Software                 Sales   \n",
       "4  Bachelor's Degree     Hospital & Health Care  Health Care Provider   \n",
       "\n",
       "   fraudulent  \n",
       "0           0  \n",
       "1           0  \n",
       "2           0  \n",
       "3           0  \n",
       "4           0  "
      ]
     },
     "execution_count": 58,
     "metadata": {},
     "output_type": "execute_result"
    }
   ],
   "source": [
    "df.head()"
   ]
  },
  {
   "cell_type": "code",
   "execution_count": 59,
   "metadata": {},
   "outputs": [],
   "source": [
    "x['text'] = x.title + ' '  + x.location+ ' '  + x.department+ ' '  + x.company_profile+ ' '  + x.description+ ' '  + x.requirements+ ' '  + x.benefits+ ' '  + x.employment_type+ ' '  + x.required_experience+ ' '  + x.required_education+ ' '  + x.industry+ ' '  + x.function"
   ]
  },
  {
   "cell_type": "code",
   "execution_count": 131,
   "metadata": {},
   "outputs": [
    {
     "data": {
      "text/plain": [
       "17880"
      ]
     },
     "execution_count": 131,
     "metadata": {},
     "output_type": "execute_result"
    }
   ],
   "source": [
    "(x['text'].str.split(' ')"
   ]
  },
  {
   "cell_type": "code",
   "execution_count": null,
   "metadata": {},
   "outputs": [],
   "source": []
  },
  {
   "cell_type": "markdown",
   "metadata": {
    "heading_collapsed": "true"
   },
   "source": [
    "# Re-Splitting and oversampling"
   ]
  },
  {
   "cell_type": "code",
   "execution_count": 61,
   "metadata": {},
   "outputs": [],
   "source": [
    "x_tr_val, x_test, y_tr_val, y_test = train_test_split(x, y, test_size = 0.2, stratify=y)\n",
    "x_t, x_v, y_t, y_v = train_test_split(x_tr_val, y_tr_val, test_size = 0.2, stratify=y_tr_val)"
   ]
  },
  {
   "cell_type": "code",
   "execution_count": 62,
   "metadata": {},
   "outputs": [],
   "source": [
    "ros = RandomOverSampler(random_state = 51)\n",
    "x_t_r, y_t_r = ros.fit_sample(x_t, y_t)"
   ]
  },
  {
   "cell_type": "markdown",
   "metadata": {
    "heading_collapsed": "true"
   },
   "source": [
    "# Applying CountVectorizer to all text"
   ]
  },
  {
   "cell_type": "code",
   "execution_count": 63,
   "metadata": {},
   "outputs": [],
   "source": [
    "cvtext = CountVectorizer(stop_words = 'english')"
   ]
  },
  {
   "cell_type": "code",
   "execution_count": 64,
   "metadata": {},
   "outputs": [],
   "source": [
    "x_t_txt = cvtext.fit_transform(x_t_r['text'])\n",
    "x_v_txt = cvtext.transform(x_v['text'])"
   ]
  },
  {
   "cell_type": "code",
   "execution_count": 65,
   "metadata": {},
   "outputs": [
    {
     "data": {
      "text/plain": [
       "81271"
      ]
     },
     "execution_count": 65,
     "metadata": {},
     "output_type": "execute_result"
    }
   ],
   "source": [
    "# number of unique words (features)\n",
    "len(cvtext.get_feature_names())"
   ]
  },
  {
   "cell_type": "code",
   "execution_count": 66,
   "metadata": {},
   "outputs": [],
   "source": [
    "# very long list of all the unique words in the whole dataset\n",
    "\n",
    "# cvtext.get_feature_names()"
   ]
  },
  {
   "cell_type": "code",
   "execution_count": 67,
   "metadata": {},
   "outputs": [],
   "source": [
    "# another very long dict of words and their occurences\n",
    "\n",
    "#print(cvtext.vocabulary_)"
   ]
  },
  {
   "cell_type": "markdown",
   "metadata": {},
   "source": [
    "# "
   ]
  },
  {
   "cell_type": "markdown",
   "metadata": {
    "heading_collapsed": "true"
   },
   "source": [
    "# ROUND 3: Modeling based on all text, oversampled frauds"
   ]
  },
  {
   "cell_type": "markdown",
   "metadata": {
    "heading_collapsed": "true"
   },
   "source": [
    "## Model NB-3: Multinomial Naive Bayes trained on all text (balanced classes)"
   ]
  },
  {
   "cell_type": "code",
   "execution_count": 68,
   "metadata": {},
   "outputs": [
    {
     "data": {
      "text/plain": [
       "0.9804389751124989"
      ]
     },
     "execution_count": 68,
     "metadata": {},
     "output_type": "execute_result"
    }
   ],
   "source": [
    "nb_3 = MultinomialNB()\n",
    "nb_3.fit(x_t_txt, y_t_r)\n",
    "nb_3.score(x_t_txt, y_t_r)"
   ]
  },
  {
   "cell_type": "code",
   "execution_count": 69,
   "metadata": {},
   "outputs": [
    {
     "data": {
      "text/plain": [
       "<sklearn.metrics._plot.roc_curve.RocCurveDisplay at 0x7f89e9857be0>"
      ]
     },
     "execution_count": 69,
     "metadata": {},
     "output_type": "execute_result"
    },
    {
     "data": {
      "image/png": "[encoded data removed]",
      "text/plain": [
       "<Figure size 432x288 with 1 Axes>"
      ]
     },
     "metadata": {
      "needs_background": "light"
     },
     "output_type": "display_data"
    }
   ],
   "source": [
    "metrics.plot_roc_curve(nb_3, x_v_txt, y_v)"
   ]
  },
  {
   "cell_type": "markdown",
   "metadata": {},
   "source": [
    "## Model LR-3: Logistic Regression trained on all text (balanced classes)"
   ]
  },
  {
   "cell_type": "code",
   "execution_count": 70,
   "metadata": {},
   "outputs": [
    {
     "name": "stderr",
     "output_type": "stream",
     "text": [
      "/Users/patricknorman/anaconda3/envs/metis/lib/python3.8/site-packages/sklearn/linear_model/_logistic.py:763: ConvergenceWarning: lbfgs failed to converge (status=1):\n",
      "STOP: TOTAL NO. of ITERATIONS REACHED LIMIT.\n",
      "\n",
      "Increase the number of iterations (max_iter) or scale the data as shown in:\n",
      "    https://scikit-learn.org/stable/modules/preprocessing.html\n",
      "Please also refer to the documentation for alternative solver options:\n",
      "    https://scikit-learn.org/stable/modules/linear_model.html#logistic-regression\n",
      "  n_iter_i = _check_optimize_result(\n"
     ]
    },
    {
     "data": {
      "text/plain": [
       "0.9999540821012031"
      ]
     },
     "execution_count": 70,
     "metadata": {},
     "output_type": "execute_result"
    }
   ],
   "source": [
    "lr_3 = LogisticRegression()\n",
    "lr_3.fit(x_t_txt, y_t_r)\n",
    "lr_3.score(x_t_txt, y_t_r)"
   ]
  },
  {
   "cell_type": "code",
   "execution_count": 71,
   "metadata": {},
   "outputs": [
    {
     "data": {
      "text/plain": [
       "array([0, 0, 0, ..., 0, 0, 0])"
      ]
     },
     "execution_count": 71,
     "metadata": {},
     "output_type": "execute_result"
    }
   ],
   "source": [
    "lr_3_pred = lr_3.predict(x_v_txt)\n",
    "lr_3_pred"
   ]
  },
  {
   "cell_type": "code",
   "execution_count": 72,
   "metadata": {},
   "outputs": [
    {
     "data": {
      "text/plain": [
       "<sklearn.metrics._plot.roc_curve.RocCurveDisplay at 0x7f89ead1cac0>"
      ]
     },
     "execution_count": 72,
     "metadata": {},
     "output_type": "execute_result"
    },
    {
     "data": {
      "image/png": "[encoded data removed]",
      "text/plain": [
       "<Figure size 432x288 with 1 Axes>"
      ]
     },
     "metadata": {
      "needs_background": "light"
     },
     "output_type": "display_data"
    }
   ],
   "source": [
    "metrics.plot_roc_curve(lr_3, x_v_txt, y_v)"
   ]
  },
  {
   "cell_type": "markdown",
   "metadata": {
    "heading_collapsed": "true"
   },
   "source": [
    "## Model RF-3: Random Forest trained on all text (balanced classes)"
   ]
  },
  {
   "cell_type": "code",
   "execution_count": 73,
   "metadata": {},
   "outputs": [
    {
     "data": {
      "text/plain": [
       "1.0"
      ]
     },
     "execution_count": 73,
     "metadata": {},
     "output_type": "execute_result"
    }
   ],
   "source": [
    "rf_3 = RandomForestClassifier()\n",
    "rf_3.fit(x_t_txt, y_t_r)\n",
    "rf_3.score(x_t_txt, y_t_r)"
   ]
  },
  {
   "cell_type": "code",
   "execution_count": 74,
   "metadata": {},
   "outputs": [
    {
     "data": {
      "text/plain": [
       "<sklearn.metrics._plot.roc_curve.RocCurveDisplay at 0x7f89e7616730>"
      ]
     },
     "execution_count": 74,
     "metadata": {},
     "output_type": "execute_result"
    },
    {
     "data": {
      "image/png": "[encoded data removed]",
      "text/plain": [
       "<Figure size 432x288 with 1 Axes>"
      ]
     },
     "metadata": {
      "needs_background": "light"
     },
     "output_type": "display_data"
    }
   ],
   "source": [
    "metrics.plot_roc_curve(rf_3, x_v_txt, y_v)\n",
    "#plt.savefig('rf-3.jpeg', dpi=300)"
   ]
  },
  {
   "cell_type": "markdown",
   "metadata": {},
   "source": [
    "RandomForest went from 0.97 to 0.98. "
   ]
  },
  {
   "cell_type": "markdown",
   "metadata": {
    "heading_collapsed": "true"
   },
   "source": [
    "## Model XGB-2: XGBoost trained on all text (balanced classes)"
   ]
  },
  {
   "cell_type": "code",
   "execution_count": 75,
   "metadata": {},
   "outputs": [],
   "source": [
    "xgb_2 = xgb.XGBClassifier(\n",
    "                        n_estimators = 100,\n",
    "                        max_depth = 3,\n",
    "                        #objective = ,\n",
    "                        learning_rate = 0.1,\n",
    "                        subsample = 1,\n",
    "                        min_child_weight = 1,\n",
    "                        colsample_bytree = 1\n",
    ")"
   ]
  },
  {
   "cell_type": "code",
   "execution_count": 76,
   "metadata": {},
   "outputs": [
    {
     "name": "stderr",
     "output_type": "stream",
     "text": [
      "/Users/patricknorman/anaconda3/envs/metis/lib/python3.8/site-packages/xgboost/sklearn.py:888: UserWarning: The use of label encoder in XGBClassifier is deprecated and will be removed in a future release. To remove this warning, do the following: 1) Pass option use_label_encoder=False when constructing XGBClassifier object; and 2) Encode your labels (y) as integers starting with 0, i.e. 0, 1, 2, ..., [num_class - 1].\n",
      "  warnings.warn(label_encoder_deprecation_msg, UserWarning)\n"
     ]
    },
    {
     "name": "stdout",
     "output_type": "stream",
     "text": [
      "[09:44:18] WARNING: /Users/runner/miniforge3/conda-bld/xgboost_1607604592557/work/src/learner.cc:1061: Starting in XGBoost 1.3.0, the default evaluation metric used with the objective 'binary:logistic' was changed from 'error' to 'logloss'. Explicitly set eval_metric if you'd like to restore the old behavior.\n"
     ]
    },
    {
     "data": {
      "text/plain": [
       "XGBClassifier(base_score=0.5, booster='gbtree', colsample_bylevel=1,\n",
       "              colsample_bynode=1, colsample_bytree=1, gamma=0, gpu_id=-1,\n",
       "              importance_type='gain', interaction_constraints='',\n",
       "              learning_rate=0.1, max_delta_step=0, max_depth=3,\n",
       "              min_child_weight=1, missing=nan, monotone_constraints='()',\n",
       "              n_estimators=100, n_jobs=8, num_parallel_tree=1, random_state=0,\n",
       "              reg_alpha=0, reg_lambda=1, scale_pos_weight=1, subsample=1,\n",
       "              tree_method='exact', validate_parameters=1, verbosity=None)"
      ]
     },
     "execution_count": 76,
     "metadata": {},
     "output_type": "execute_result"
    }
   ],
   "source": [
    "xgb_2.fit(x_t_txt, y_t_r)"
   ]
  },
  {
   "cell_type": "code",
   "execution_count": 77,
   "metadata": {},
   "outputs": [
    {
     "data": {
      "text/plain": [
       "<sklearn.metrics._plot.roc_curve.RocCurveDisplay at 0x7f89e8be8040>"
      ]
     },
     "execution_count": 77,
     "metadata": {},
     "output_type": "execute_result"
    },
    {
     "data": {
      "image/png": "[encoded data removed]",
      "text/plain": [
       "<Figure size 432x288 with 1 Axes>"
      ]
     },
     "metadata": {
      "needs_background": "light"
     },
     "output_type": "display_data"
    }
   ],
   "source": [
    "metrics.plot_roc_curve(xgb_2, x_v_txt, y_v)"
   ]
  },
  {
   "cell_type": "markdown",
   "metadata": {},
   "source": [
    "XGBoost went from 0.93 to 0.97. "
   ]
  },
  {
   "cell_type": "markdown",
   "metadata": {},
   "source": [
    "# "
   ]
  },
  {
   "cell_type": "markdown",
   "metadata": {
    "heading_collapsed": "true"
   },
   "source": [
    "# Check-in after round 3"
   ]
  },
  {
   "cell_type": "markdown",
   "metadata": {},
   "source": [
    "So far, my models are performing pretty well. \n",
    "\n",
    "\n",
    "\n",
    "| Name         | Description | Oversampled Description | All Text Oversampled |\n",
    "| ------------ | ----------- | ----------------------- | -------------------- |\n",
    "| Naive Bayes  | 0.9 AUC     | 0.94 AUC                | 0.98 AUC             |\n",
    "| LogReg       | 0.93 AUC    | 0.93 AUC                | 0.96 AUC             |\n",
    "| RandomForest | 0.95 AUC    | 0.97 AUC                | 0.98 AUC             |\n",
    "| XGBoost      | N/A         | 0.93 AUC                | 0.97 AUC             | \n"
   ]
  },
  {
   "cell_type": "markdown",
   "metadata": {},
   "source": [
    "So far the best model is a tie between the Multinomial NB and RandomForest, both trained on all text, with minority class oversampled. I need to investigate by using more error metrics than just ROC AUC"
   ]
  },
  {
   "cell_type": "markdown",
   "metadata": {
    "heading_collapsed": "true"
   },
   "source": [
    "# Error Investigations"
   ]
  },
  {
   "cell_type": "markdown",
   "metadata": {
    "heading_collapsed": "true"
   },
   "source": [
    "## NB-3"
   ]
  },
  {
   "cell_type": "code",
   "execution_count": 78,
   "metadata": {},
   "outputs": [
    {
     "name": "stdout",
     "output_type": "stream",
     "text": [
      "Log loss for nb-3:  0.562\n",
      "ROC AUC for nb-3:  0.971\n",
      "F1 for nb-3:  0.715\n"
     ]
    }
   ],
   "source": [
    "from sklearn.metrics import log_loss, precision_score, recall_score\n",
    "from sklearn.metrics import roc_auc_score, f1_score\n",
    "\n",
    "nb_3_ll = log_loss(y_v, nb_3.predict_proba(x_v_txt))\n",
    "nb3_roc_auc = roc_auc_score(y_v, nb_3.predict_proba(x_v_txt)[:, 1])\n",
    "nb_3_f1 = f1_score(y_v, nb_3.predict(x_v_txt) )\n",
    "\n",
    "\n",
    "print('Log loss for nb-3: ', round(nb_3_ll,3))\n",
    "print('ROC AUC for nb-3: ', round(nb3_roc_auc,3))\n",
    "print('F1 for nb-3: ', round(nb_3_f1,3))"
   ]
  },
  {
   "cell_type": "markdown",
   "metadata": {
    "heading_collapsed": "true"
   },
   "source": [
    "## LR-3"
   ]
  },
  {
   "cell_type": "code",
   "execution_count": 89,
   "metadata": {},
   "outputs": [
    {
     "name": "stdout",
     "output_type": "stream",
     "text": [
      "Log loss for lr_3:  0.085\n",
      "ROC AUC for lr_3:  0.969\n",
      "F1 for lr_3:  0.78\n",
      "Recall for lr_3:  0.791\n",
      "Precision for lr_3:  0.769\n"
     ]
    }
   ],
   "source": [
    "lr_3_ll = log_loss(y_v, lr_3.predict_proba(x_v_txt))\n",
    "lr_3_roc_auc = roc_auc_score(y_v, lr_3.predict_proba(x_v_txt)[:, 1])\n",
    "lr_3_f1 = f1_score(y_v, lr_3.predict(x_v_txt) )\n",
    "lr_3_rec = recall_score(y_v, lr_3.predict(x_v_txt))\n",
    "lr_3_precision = precision_score(y_v, lr_3.predict(x_v_txt))\n",
    "\n",
    "\n",
    "print('Log loss for lr_3: ', round(lr_3_ll,3))\n",
    "print('ROC AUC for lr_3: ', round(lr_3_roc_auc,3))\n",
    "print('F1 for lr_3: ', round(lr_3_f1,3))\n",
    "print('Recall for lr_3: ', round(lr_3_rec,3))\n",
    "print('Precision for lr_3: ', round(lr_3_precision,3))"
   ]
  },
  {
   "cell_type": "markdown",
   "metadata": {},
   "source": [
    "Accuracy and precision in plain english: 77% of jobs that were predicted to be frauds were actually fraudulent. 79% of fraudulent jobs were detected and classified as such. "
   ]
  },
  {
   "cell_type": "markdown",
   "metadata": {},
   "source": [
    "## RF-3"
   ]
  },
  {
   "cell_type": "code",
   "execution_count": 151,
   "metadata": {},
   "outputs": [
    {
     "name": "stdout",
     "output_type": "stream",
     "text": [
      "Log loss for rf_3:  0.073\n",
      "ROC AUC for rf_3:  0.972\n",
      "F1 for rf_3:  0.776\n",
      "Recall for rf_3:  0.662\n",
      "Precision for rf_3:  0.939\n"
     ]
    }
   ],
   "source": [
    "rf_3_ll = log_loss(y_v, rf_3.predict_proba(x_v_txt))\n",
    "rf_3_roc_auc = roc_auc_score(y_v, rf_3.predict_proba(x_v_txt)[:, 1])\n",
    "rf_3_f1 = f1_score(y_v, rf_3.predict(x_v_txt) )\n",
    "rf_3_rec = recall_score(y_v, rf_3.predict(x_v_txt))\n",
    "rf_3_precision = precision_score(y_v, rf_3.predict(x_v_txt))\n",
    "\n",
    "\n",
    "print('Log loss for rf_3: ', round(rf_3_ll,3))\n",
    "print('ROC AUC for rf_3: ', round(rf_3_roc_auc,3))\n",
    "print('F1 for rf_3: ', round(rf_3_f1,3))\n",
    "print('Recall for rf_3: ', round(rf_3_rec,3))\n",
    "print('Precision for rf_3: ', round(rf_3_precision,3))"
   ]
  },
  {
   "cell_type": "markdown",
   "metadata": {
    "heading_collapsed": "true"
   },
   "source": [
    "## XGB-2"
   ]
  },
  {
   "cell_type": "code",
   "execution_count": 81,
   "metadata": {},
   "outputs": [
    {
     "name": "stdout",
     "output_type": "stream",
     "text": [
      "Log loss for xgb_2:  0.21\n",
      "ROC AUC for xgb_2:  0.968\n",
      "F1 for xgb_2:  0.553\n"
     ]
    }
   ],
   "source": [
    "xgb_2_ll = log_loss(y_v, xgb_2.predict_proba(x_v_txt))\n",
    "xgb_2_roc_auc = roc_auc_score(y_v, xgb_2.predict_proba(x_v_txt)[:, 1])\n",
    "xgb_2_f1 = f1_score(y_v, xgb_2.predict(x_v_txt) )\n",
    "\n",
    "\n",
    "print('Log loss for xgb_2: ', round(xgb_2_ll,3))\n",
    "print('ROC AUC for xgb_2: ', round(xgb_2_roc_auc,3))\n",
    "print('F1 for xgb_2: ', round(xgb_2_f1,3))"
   ]
  },
  {
   "cell_type": "markdown",
   "metadata": {
    "heading_collapsed": "true"
   },
   "source": [
    "## Error summary"
   ]
  },
  {
   "cell_type": "markdown",
   "metadata": {},
   "source": [
    "| Model | F1        | Log-Loss  | ROC AUC   |\n",
    "| ----- | --------- | --------- | --------- |\n",
    "| NB-3  | 0.712     | 0.527     | 0.979     |\n",
    "| LR-3  | **0.826** | 0.09      | 0.962     |\n",
    "| RF-3  | 0.763     | **0.069** | **0.983** |\n",
    "| XGB-2 | 0.508     | 0.226     | 0.969     |\n",
    "\n",
    "The Random Forest model was the best in terms of ROC AUC and log-loss, while the Logistic Regression model won in terms of F1 score."
   ]
  },
  {
   "cell_type": "markdown",
   "metadata": {
    "heading_collapsed": "true"
   },
   "source": [
    "# "
   ]
  },
  {
   "cell_type": "markdown",
   "metadata": {
    "heading_collapsed": "true"
   },
   "source": [
    "# Investigating Logistic Regression"
   ]
  },
  {
   "cell_type": "code",
   "execution_count": 82,
   "metadata": {
    "collapsed": true,
    "jupyter": {
     "outputs_hidden": true
    }
   },
   "outputs": [
    {
     "data": {
      "text/plain": [
       "[('rohan', 2.292925699418123),\n",
       " ('northwestern', 1.332989781307327),\n",
       " ('companies', -1.191751696985518),\n",
       " ('link', 1.190840467490338),\n",
       " ('warsaw', 1.1751790146981096),\n",
       " ('aptitude', 1.1074136262091447),\n",
       " ('english', -1.1033556544311602),\n",
       " ('mz', 1.0883780198861652),\n",
       " ('reliable', -1.0754581953152191),\n",
       " ('gr', -1.0752513969917594),\n",
       " ('gb', -1.0404070095558062),\n",
       " ('accountant', 0.9219951657006263),\n",
       " ('descripción', 0.8715840558700816),\n",
       " ('prueba', 0.8715840558700816),\n",
       " ('email_00e35a10817c0d8e20fb7b138204884f53bb960cf21350f2232d5cb7cd8ff070',\n",
       "  -0.8635399003090527),\n",
       " ('financing', 0.8605255821797915),\n",
       " ('businesses', -0.8423837320637642),\n",
       " ('money', 0.8286558687750474),\n",
       " ('send', 0.8147597832183541),\n",
       " ('accion', 0.8022055477433343),\n",
       " ('type', 0.790073558387543),\n",
       " ('pl', 0.7765670270778451),\n",
       " ('digital', -0.7746836042116441),\n",
       " ('exceptional', -0.7573909982546964),\n",
       " ('wages', 0.7565681300699638),\n",
       " ('comfortable', -0.7530371572421063),\n",
       " ('ny', 0.7436897271464457),\n",
       " ('migration', 0.7309501483155364),\n",
       " ('fit', -0.7274539833934148),\n",
       " ('csr', 0.7273688603997838),\n",
       " ('package', 0.71641752717772),\n",
       " ('associate', -0.716411686958606),\n",
       " ('athens', -0.7098750226766115),\n",
       " ('investments', 0.7067315308079073),\n",
       " ('earn', 0.7060579053702251),\n",
       " ('books', 0.7039414783949737),\n",
       " ('entry', 0.6995195622392157),\n",
       " ('oil', 0.6923862341726209),\n",
       " ('auditing', 0.6851392956558253),\n",
       " ('talented', -0.682701417720549),\n",
       " ('hospital', 0.6809680303050374),\n",
       " ('clerk', 0.6759995789004544),\n",
       " ('university', -0.6740274460996377),\n",
       " ('organizational', -0.6716249265070785),\n",
       " ('trends', 0.6610765234994602),\n",
       " ('helps', -0.6540116202699772),\n",
       " ('warehouse', -0.651427657884813),\n",
       " ('000', 0.6507902215249249),\n",
       " ('post', 0.6491176038681815),\n",
       " ('agency', -0.6410789762679834),\n",
       " ('american', 0.6377616405321759),\n",
       " ('asap', 0.6366486306118087),\n",
       " ('allied', -0.6339819046331926),\n",
       " ('administrative', 0.6335072042932778),\n",
       " ('web', -0.6323934943935849),\n",
       " ('size', 0.6286669938278795),\n",
       " ('candidate', -0.6285335766032532),\n",
       " ('achieve', 0.623547441529612),\n",
       " ('know', -0.6208942197496713),\n",
       " ('handling', -0.6189240090193464),\n",
       " ('guys', 0.6184793125900051),\n",
       " ('graphite', 0.6129232149661262),\n",
       " ('answering', 0.6052876368915068),\n",
       " ('teacher', -0.5993230985099681),\n",
       " ('1000', 0.5944798443938603),\n",
       " ('cloud', -0.5928177779928211),\n",
       " ('limited', 0.5897892772862555),\n",
       " ('personable', 0.5893958916091132),\n",
       " ('timejob', 0.5876768891695),\n",
       " ('hardware', -0.582504384413295),\n",
       " ('surgery', 0.5802412986079039),\n",
       " ('years', -0.5777304200522397),\n",
       " ('leveraging', 0.577669940623029),\n",
       " ('pre', -0.5776556625054382),\n",
       " ('tv2', 0.5754248081236394),\n",
       " ('tasks', -0.5744938122090454),\n",
       " ('executive', 0.573955137579363),\n",
       " ('50', -0.5736072378121672),\n",
       " ('helpful', 0.5731965218541354),\n",
       " ('year', -0.5642908240096165),\n",
       " ('sigma', 0.5627099452229062),\n",
       " ('custom', -0.5567314935079855),\n",
       " ('cruise', 0.556383373279474),\n",
       " ('stock', 0.5545849003139207),\n",
       " ('focuses', 0.5535773173638932),\n",
       " ('sti', 0.5469434606656688),\n",
       " ('search', -0.5458248219195904),\n",
       " ('encouraged', 0.5456303121493211),\n",
       " ('accounting', 0.5442008701952846),\n",
       " ('want', -0.5419229112291349),\n",
       " ('brightedge', 0.5400000667160444),\n",
       " ('admin', 0.5394209575413171),\n",
       " ('days', -0.5392776989114215),\n",
       " ('reporting', -0.538791251727216),\n",
       " ('word', 0.5381539639721149),\n",
       " ('commissions', -0.5370411231354256),\n",
       " ('tn', -0.5316482276484636),\n",
       " ('28', 0.531570125946677),\n",
       " ('egovernment', 0.5315517162830492),\n",
       " ('email_b08cf5e4101b4b7b7594fe3081f94f7f9a0f2d6192fb5d4a1a72ecf03c816e83',\n",
       "  0.5315517162830492),\n",
       " ('au', 0.5314472240454122),\n",
       " ('earliest', 0.5290134854763769),\n",
       " ('fun', -0.5264017883786479),\n",
       " ('wilmington', -0.5244163809981812),\n",
       " ('skillsgood', -0.5243937122080926),\n",
       " ('industry', 0.523981940513851),\n",
       " ('boys', 0.5220363267588954),\n",
       " ('right', -0.5195755597096642),\n",
       " ('basic', -0.5188069588967149),\n",
       " ('temporary', -0.5177888938812689),\n",
       " ('rsquo', 0.5161202312103751),\n",
       " ('earning', 0.5158726821445552),\n",
       " ('pc', 0.5141340005300177),\n",
       " ('major', -0.5128347183203336),\n",
       " ('site', -0.5119384755798632),\n",
       " ('molding', 0.5116135587410259),\n",
       " ('changes', -0.5109409082545135),\n",
       " ('ensures', 0.5083707772883549),\n",
       " ('applicants', 0.5052452428813972),\n",
       " ('ux', 0.5045622702068246),\n",
       " ('lean', 0.5023253806433895),\n",
       " ('gary', 0.502048811366841),\n",
       " ('order', -0.5010247015633331),\n",
       " ('restaurant', -0.500044389355605),\n",
       " ('cultural', 0.49862462475029024),\n",
       " ('oriented', 0.49858131946268),\n",
       " ('title', -0.49856364302134915),\n",
       " ('growth', -0.49755902537538693),\n",
       " ('ma', -0.4975533013403458),\n",
       " ('20', 0.4973553053026733),\n",
       " ('usability', 0.4971278499429323),\n",
       " ('va', -0.49546777001493253),\n",
       " ('teaching', -0.49525091195003734),\n",
       " ('activity', -0.4942320699239537),\n",
       " ('place', 0.49266735736461065),\n",
       " ('retail', -0.4909862752605397),\n",
       " ('feel', -0.48920240777263674),\n",
       " ('hse', 0.4889231324682117),\n",
       " ('accesshome', 0.4870474259821211),\n",
       " ('bosshours', 0.4870474259821211),\n",
       " ('commissionbe', 0.4870474259821211),\n",
       " ('laptopcommitment', 0.4870474259821211),\n",
       " ('url_0a7c4df3a2fd5dd5a67beb9cf6c0ba4f8d53ae8372db9449011f37a9deaf7e64',\n",
       "  0.4870474259821211),\n",
       " ('startup', -0.4859937590521411),\n",
       " ('developer', -0.485738733145506),\n",
       " ('forward', 0.48546247313654795),\n",
       " ('internship', -0.48519703533476477),\n",
       " ('cash', 0.4839868035704658),\n",
       " ('usa', -0.4838760729006209),\n",
       " ('procurement', -0.48348923241896),\n",
       " ('restaurants', -0.482833592603135),\n",
       " ('tech', -0.4826110109175431),\n",
       " ('php', -0.4790713212568633),\n",
       " ('clients', -0.4764669013019051),\n",
       " ('franchise', 0.47609684924181983),\n",
       " ('location', -0.47364673375692445),\n",
       " ('00', -0.4735659201302243),\n",
       " ('revenue', -0.47338458060625466),\n",
       " ('backgrounds', -0.4724153351774048),\n",
       " ('following', -0.47225132970219313),\n",
       " ('girls', 0.4720305271997521),\n",
       " ('clearmark', 0.4713711109475777),\n",
       " ('bachelor', -0.4688216495852096),\n",
       " ('room', 0.46841492917432154),\n",
       " ('vam', 0.4664161099887712),\n",
       " ('good', -0.4652410882982503),\n",
       " ('social', -0.46511309936413936),\n",
       " ('living', -0.4646654124365177),\n",
       " ('programs', -0.46337091883979037),\n",
       " ('selling', -0.458425877805094),\n",
       " ('preparation', 0.4584193407521353),\n",
       " ('relations', 0.4580799871400155),\n",
       " ('ui', -0.45798232299032704),\n",
       " ('select', 0.45788617000486626),\n",
       " ('list', -0.4576803549689172),\n",
       " ('volume', 0.4576626232242001),\n",
       " ('exciting', 0.45736420008818635),\n",
       " ('sign', -0.4572386336489532),\n",
       " ('efficiently', -0.45650643029732535),\n",
       " ('packages', -0.4546329327685616),\n",
       " ('wellness', 0.4527158906687729),\n",
       " ('sacremento', 0.4510683188183118),\n",
       " ('expected', -0.450751379695533),\n",
       " ('improve', -0.4505800635565387),\n",
       " ('leverage', -0.45037462470278966),\n",
       " ('base', -0.44994526167142357),\n",
       " ('ios', -0.44914376953136514),\n",
       " ('opportunity', 0.44825762151787957),\n",
       " ('desired', -0.4479398334994629),\n",
       " ('essential', -0.4479243116344479),\n",
       " ('graphic', -0.4463617498435016),\n",
       " ('rapidly', -0.44600782409632456),\n",
       " ('documentation', -0.445582560276799),\n",
       " ('sensitive', 0.44324972582995675),\n",
       " ('minutes', 0.44127787510203076),\n",
       " ('1500', -0.4396336814684942),\n",
       " ('louis', 0.4380537167531999),\n",
       " ('analyst', -0.43757013592163885),\n",
       " ('care', -0.4366376115361705),\n",
       " ('salary', -0.43663003657542027),\n",
       " ('coding', -0.4359421993897795),\n",
       " ('vemma', 0.43562001797312677),\n",
       " ('optical', 0.4351352766909091),\n",
       " ('pse', 0.43502448349506634),\n",
       " ('balance', 0.43466165598415757),\n",
       " ('scalable', 0.4343713089617),\n",
       " ('engineering', 0.43264740075722186),\n",
       " ('pace', 0.4324542088354422),\n",
       " ('solving', 0.43196926720758655),\n",
       " ('online', 0.43167753551339766),\n",
       " ('suitable', 0.4307620440203513),\n",
       " ('debug', 0.4306782340534298),\n",
       " ('conduct', 0.4302938256845896),\n",
       " ('possible', -0.43007892447852025),\n",
       " ('efficient', 0.4295881961512381),\n",
       " ('dermatology', 0.4294285728769593),\n",
       " ('portfolio', -0.4292050683406231),\n",
       " ('karachi', 0.42852743277651545),\n",
       " ('abroad', -0.42826108162911675),\n",
       " ('match', -0.4281502404695767),\n",
       " ('expro', 0.4279472838214435),\n",
       " ('phone', 0.427515657966836),\n",
       " ('surgical', 0.42714841492204564),\n",
       " ('strategic', 0.42671975644248594),\n",
       " ('asset', -0.4262969082991058),\n",
       " ('weather', 0.4261995532661442),\n",
       " ('mail', 0.4246219691686064),\n",
       " ('entered', 0.42436927411827835),\n",
       " ('offers', -0.4243480174179916),\n",
       " ('screening', -0.42317532619786613),\n",
       " ('networking', 0.42179215565026584),\n",
       " ('jacksonville', -0.42117725014852514),\n",
       " ('reps', 0.421097560895705),\n",
       " ('law', -0.42094403360646415),\n",
       " ('persons', 0.42032345030409096),\n",
       " ('reviewing', -0.41988378844316154),\n",
       " ('bw', 0.4196544882035881),\n",
       " ('friends', -0.41933249382016746),\n",
       " ('monday', -0.4185717573514224),\n",
       " ('existing', -0.4184508068660196),\n",
       " ('pk', 0.4167957192817957),\n",
       " ('positive', -0.4165451115993865),\n",
       " ('mid', -0.4154551034442418),\n",
       " ('unspecified', 0.4153533269851476),\n",
       " ('transportation', -0.4152954178770623),\n",
       " ('cold', 0.4134870433415237),\n",
       " ('income', 0.41339731451647765),\n",
       " ('extra', 0.41284230777181263),\n",
       " ('bank', -0.41230860386187507),\n",
       " ('maximizing', 0.4122073825643823),\n",
       " ('academy', -0.4113233579328762),\n",
       " ('groups', 0.40975967597047386),\n",
       " ('skillsability', -0.4091865747706237),\n",
       " ('fast', -0.40882891364655044),\n",
       " ('blogs', 0.4088208689866134),\n",
       " ('rn', 0.4087073075858267),\n",
       " ('creative', -0.4086155366638511),\n",
       " ('love', -0.4084197094142855),\n",
       " ('lot', 0.4079954837534906),\n",
       " ('niche', 0.4078294690461764),\n",
       " ('billing', 0.4073900554042033),\n",
       " ('jobs', 0.407334051868447),\n",
       " ('openings', -0.40465702780012586),\n",
       " ('comprehensive', 0.4038962567886678),\n",
       " ('geographical', 0.4035520739525143),\n",
       " ('effective', -0.40350965372477),\n",
       " ('fiit', 0.4034521350417748),\n",
       " ('makeing', 0.4034521350417748),\n",
       " ('recruitng', 0.4034521350417748),\n",
       " ('profession', 0.40248263419972957),\n",
       " ('eye', -0.4024263857972181),\n",
       " ('lift', -0.4018115986083402),\n",
       " ('qualified', 0.40162697037044504),\n",
       " ('closing', -0.40111439644804764),\n",
       " ('customers', -0.4009942322440418),\n",
       " ('class', -0.40065993812374995),\n",
       " ('servo', 0.4001997266629997),\n",
       " ('signing', 0.4001078257229127),\n",
       " ('integrity', 0.3998162859648901),\n",
       " ('450', 0.3997845220111265),\n",
       " ('ensure', -0.39883803945353746),\n",
       " ('az', -0.3984811683772436),\n",
       " ('health', -0.3984368694784846),\n",
       " ('culture', 0.3982367594143846),\n",
       " ('case', -0.39792687831441315),\n",
       " ('open', -0.3979155532685409),\n",
       " ('clerical', 0.39732594562643153),\n",
       " ('term', 0.39728130283459534),\n",
       " ('meet', 0.39720512179463824),\n",
       " ('duration', 0.39643794227821594),\n",
       " ('realistic', 0.3959590497925647),\n",
       " ('operators', 0.3955942068651136),\n",
       " ('nursing', 0.39543318283712114),\n",
       " ('valor', -0.39497320688160714),\n",
       " ('address', 0.39456262421269045),\n",
       " ('externally', 0.3944021560361874),\n",
       " ('operating', 0.39436195081218134),\n",
       " ('end', -0.3935553079627337),\n",
       " ('prior', 0.39354827291608585),\n",
       " ('ceo', -0.39243446184289166),\n",
       " ('developments', 0.3917419388379819),\n",
       " ('school', 0.39122402220503727),\n",
       " ('energetic', 0.39033045772905806),\n",
       " ('entrepreneurial', 0.38969691130783896),\n",
       " ('building', -0.3892645036853381),\n",
       " ('negotiable', -0.3892143608249934),\n",
       " ('eit', 0.38904148624848006),\n",
       " ('200', 0.38844364951995314),\n",
       " ('direction', 0.38761773930740506),\n",
       " ('brands', -0.38625499066578667),\n",
       " ('corp', -0.3861157278364018),\n",
       " ('contractors', 0.3858718752414644),\n",
       " ('configuration', -0.3847754788141624),\n",
       " ('domain', 0.38454724148409997),\n",
       " ('medical', -0.3841294971486542),\n",
       " ('decisions', -0.38400703225309823),\n",
       " ('legitimate', 0.3833171854733516),\n",
       " ('develop', 0.38330144627726326),\n",
       " ('leading', -0.38309256279030374),\n",
       " ('hourly', -0.3826526865868636),\n",
       " ('active', -0.3825770810879513),\n",
       " ('casual', -0.3824511234486153),\n",
       " ('body', -0.38214581478168214),\n",
       " ('passionate', -0.380975113819688),\n",
       " ('large', -0.3807640439046225),\n",
       " ('knocking', 0.38044659411217496),\n",
       " ('fantastic', -0.3799589900934137),\n",
       " ('scope', 0.3791796964305351),\n",
       " ('access', 0.3790290562908994),\n",
       " ('federal', -0.37801088731902827),\n",
       " ('team', -0.37787583787411566),\n",
       " ('systems', 0.3769296844216083),\n",
       " ('2007', 0.3763986018126766),\n",
       " ('provider', -0.37597133281709283),\n",
       " ('novation', 0.37556900638861185),\n",
       " ('unlimited', 0.37522226894566385),\n",
       " ('course', -0.3751895232571347),\n",
       " ('method', 0.3743203020207653),\n",
       " ('alliance', 0.3739563484944609),\n",
       " ('founded', -0.3727931368096829),\n",
       " ('coffee', -0.3724940740948588),\n",
       " ('transport', -0.372370808513763),\n",
       " ('accepting', 0.37226799204378686),\n",
       " ('3d', -0.3707737720006102),\n",
       " ('ohio', 0.368762609059888),\n",
       " ('beverage', 0.36836674522963075),\n",
       " ('near', -0.36754569253295266),\n",
       " ('hair', -0.3671727831393218),\n",
       " ('south', -0.3669260671710478),\n",
       " ('times', 0.36584284010025614),\n",
       " ('starting', -0.3657030896765104),\n",
       " ('suit', 0.36563002752161106),\n",
       " ('pto', -0.36545567091935793),\n",
       " ('compliance', 0.36526284302462647),\n",
       " ('coordinator', 0.3649868001296281),\n",
       " ('establish', 0.36485635082542656),\n",
       " ('return', -0.3644827709684346),\n",
       " ('station', -0.3642979360756295),\n",
       " ('dealer', -0.36362696680116363),\n",
       " ('technical', -0.36333897158361356),\n",
       " ('tests', -0.36313767016161885),\n",
       " ('accurately', -0.3631281171761512),\n",
       " ('objective', -0.36271110720511757),\n",
       " ('software', -0.36244979358722107),\n",
       " ('immingham', 0.36149037979850496),\n",
       " ('sites', 0.36123984189379466),\n",
       " ('partnered', 0.3612009751951819),\n",
       " ('colorado', 0.36109304944356435),\n",
       " ('offer', 0.360584453133062),\n",
       " ('mtkz', 0.36036497837836573),\n",
       " ('url_dc6a4e8df8c88cf7bb611c27fadf835b2ea6d40cec837463b39bb6ba9bca8852',\n",
       "  0.36036497837836573),\n",
       " ('continuously', 0.36013951484128714),\n",
       " ('voice', -0.3599096615480765),\n",
       " ('ultra', 0.3596367294670548),\n",
       " ('subsea', 0.3582342709631066),\n",
       " ('helping', -0.3582207248162241),\n",
       " ('client', -0.357925658242646),\n",
       " ('value', -0.35756848232991),\n",
       " ('extraordinary', 0.3575280249059014),\n",
       " ('11', -0.35740812472087513),\n",
       " ('mo', 0.35738381275396774),\n",
       " ('doesn', 0.3569890628157948),\n",
       " ('caregiver', -0.35574916215017344),\n",
       " ('en', -0.3553898733655628),\n",
       " ('paper', 0.3552252148576696),\n",
       " ('daily', 0.35494249622029805),\n",
       " ('components', -0.3544698480204161),\n",
       " ('bay', -0.3544128022174513),\n",
       " ('receptionist', 0.3539985080801229),\n",
       " ('oh', -0.35237142228017515),\n",
       " ('infrastructure', -0.35170382844041254),\n",
       " ('net', -0.35162191866253517),\n",
       " ('desirable', 0.3514863454105082),\n",
       " ('driving', -0.35144173803297335),\n",
       " ('response', 0.35110710253636734),\n",
       " ('license', -0.3507699666010798),\n",
       " ('innovate', 0.35036679751227123),\n",
       " ('os', 0.35020342007167565),\n",
       " ('format', 0.3499716091325938),\n",
       " ('report', -0.3499594406853589),\n",
       " ('supporting', 0.3499078133242156),\n",
       " ('cover', -0.3494174515120735),\n",
       " ('motors', 0.3493084010042209),\n",
       " ('contracting', 0.34880158700376146),\n",
       " ('requires', -0.3479618851866574),\n",
       " ('build', 0.34759914233957373),\n",
       " ('healthcare', -0.3475579223240517),\n",
       " ('remediation', 0.3473144391574163),\n",
       " ('friday', -0.34700600845488927),\n",
       " ('physical', -0.3469646851882537),\n",
       " ('personality', 0.3465973954487594),\n",
       " ('tune', 0.3464075254600803),\n",
       " ('legal', -0.34592554261253533),\n",
       " ('degree', -0.3458814315906219),\n",
       " ('broad', 0.34579137346818134),\n",
       " ('angeles', 0.34575925306886),\n",
       " ('rise', 0.34540482854609456),\n",
       " ('nationwide', 0.34540317308269364),\n",
       " ('eclinical', 0.3448739417341252),\n",
       " ('remain', -0.34463113024129527),\n",
       " ('employment', -0.3443348213674383),\n",
       " ('sell', -0.3442391775000267),\n",
       " ('gt', -0.3442029757264226),\n",
       " ('vizion', 0.34374948679048944),\n",
       " ('getter', 0.3436042522796588),\n",
       " ('communication', 0.343490980022252),\n",
       " ('expert', 0.3427042048265191),\n",
       " ('understand', -0.34212766724815863),\n",
       " ('bright', 0.3420956060584667),\n",
       " ('contributes', -0.34132078849263775),\n",
       " ('date', -0.3412801373641597),\n",
       " ('option', 0.34069933878231),\n",
       " ('center', 0.34011397383290076),\n",
       " ('21', -0.3399493376005716),\n",
       " ('farmington', 0.3396912867814606),\n",
       " ('friendly', 0.33935601379726743),\n",
       " ('identify', 0.33926729861896565),\n",
       " ('fields', 0.33915656796817134),\n",
       " ('serves', 0.3381901615351359),\n",
       " ('scaling', 0.3379809020902006),\n",
       " ('lines', 0.3374396117791868),\n",
       " ('new', -0.33708496124217835),\n",
       " ('sector', -0.3365573331758633),\n",
       " ('productivity', -0.3365471567971816),\n",
       " ('aae', 0.3358513786174951),\n",
       " ('calling', 0.33582759684275987),\n",
       " ('licensed', 0.335737146985903),\n",
       " ('mold', 0.3354697124743231),\n",
       " ('responsible', -0.33532942844743574),\n",
       " ('app', -0.3352607781052861),\n",
       " ('medium', -0.3352272235184658),\n",
       " ('starts', -0.33516603017840585),\n",
       " ('catering', 0.3350132527488323),\n",
       " ('32k', 0.3350132464603878),\n",
       " ('servers', -0.33490789289127654),\n",
       " ('cartwright', 0.33470402289392176),\n",
       " ('homes', 0.33440234082233844),\n",
       " ('science', 0.33414704145874147),\n",
       " ('expenses', 0.3338018385464546),\n",
       " ('immediate', 0.3334002250748245),\n",
       " ('global', 0.33330989473955563),\n",
       " ('rep', 0.33314856390181596),\n",
       " ('exceed', 0.33276706860529254),\n",
       " ('collaboration', 0.3325107110079251),\n",
       " ('daygive', 0.3321416539616508),\n",
       " ('phone_bac6e5a8b28f5d51045623cf4488c20f1cd62740bd168931bb0d7945f156a384',\n",
       "  0.3321416539616508),\n",
       " ('representativeswe', 0.3321416539616508),\n",
       " ('resorceful', 0.3321416539616508),\n",
       " ('lots', -0.33180703143140383),\n",
       " ('bodies', 0.33156887082244907),\n",
       " ('sd', 0.3315347150444981),\n",
       " ('affordable', -0.331103064691031),\n",
       " ('functional', 0.33046813969788696),\n",
       " ('organizations', -0.32994387856988033),\n",
       " ('stories', 0.3298468604820539),\n",
       " ('initiate', 0.3297421544698997),\n",
       " ('distribution', -0.32924209686281525),\n",
       " ('optician', 0.3292074110494667),\n",
       " ('growing', -0.3290454670951229),\n",
       " ('shortly', 0.3284832161176072),\n",
       " ('multitask', 0.32817967444146323),\n",
       " ('months', -0.3280549843369962),\n",
       " ('financial', -0.32788324364998955),\n",
       " ('optometric', 0.32768247364006625),\n",
       " ('negotiations', 0.32765849563172256),\n",
       " ('direct', -0.3272382739934837),\n",
       " ('creation', -0.32712673056429625),\n",
       " ('denver', 0.32706236800175803),\n",
       " ('improvement', -0.32608289183343664),\n",
       " ('supervisor', 0.3260602016884354),\n",
       " ('skillsbe', 0.32604120510659024),\n",
       " ('hours', -0.3259184760417871),\n",
       " ('waiting', 0.3255049304725199),\n",
       " ('bilingual', -0.32507212669708613),\n",
       " ('facilitating', 0.324993964209733),\n",
       " ('applicant', 0.32461363478704025),\n",
       " ('straight', 0.32424187539991406),\n",
       " ('delivers', -0.3241198326686191),\n",
       " ('phoenix', -0.3239611420348012),\n",
       " ('investors', -0.32387949631188423),\n",
       " ('multi', 0.32364007625081015),\n",
       " ('conducts', -0.3232771348081689),\n",
       " ('register', 0.3232112841131983),\n",
       " ('america', -0.32270170382786406),\n",
       " ('uah', 0.3222706263293166),\n",
       " ('rs', -0.3220859862755688),\n",
       " ('certified', -0.3218524787330789),\n",
       " ('foundation', -0.32171706460552735),\n",
       " ('iso', 0.3209976873754741),\n",
       " ('dealing', 0.3209448109450613),\n",
       " ('internally', 0.32072253813129326),\n",
       " ('ok', 0.3202001459173997),\n",
       " ('kentucky', 0.3197794112198409),\n",
       " ('background', -0.31970338137363835),\n",
       " ('interviews', -0.31942751039055145),\n",
       " ('older', -0.31941676401380265),\n",
       " ('plant', -0.3193521824427625),\n",
       " ('16', -0.3192375246027652),\n",
       " ('input', 0.31917325439116884),\n",
       " ('fluent', -0.31914070855991095),\n",
       " ('directly', -0.31905386697507615),\n",
       " ('micro', 0.3184809159829929),\n",
       " ('investment', -0.31822254431274954),\n",
       " ('md', 0.3181849872412778),\n",
       " ('setting', -0.3181230848624155),\n",
       " ('qld', 0.3179144810110558),\n",
       " ('interactive', -0.31765174070897617),\n",
       " ('gold', 0.31754971744690136),\n",
       " ('conceptual', 0.31710930330424636),\n",
       " ('communities', 0.31676843888170436),\n",
       " ('inbound', -0.31647689854066574),\n",
       " ('pride', -0.31626002257680796),\n",
       " ('started', 0.31601533578135504),\n",
       " ('hills', 0.3157471455613501),\n",
       " ('located', -0.31524262173625744),\n",
       " ('learner', -0.3151028969254465),\n",
       " ('internships', -0.31510106746555844),\n",
       " ('proficient', 0.31475779185482977),\n",
       " ('amazing', -0.31444809930598594),\n",
       " ('door', 0.31435341429189134),\n",
       " ('approach', -0.31425828932783734),\n",
       " ('phone_0814f032f01156c9557f6d4239ae10ac57a7260aada4d863cb1db34574f86466',\n",
       "  0.31424445874416007),\n",
       " ('story', 0.3140897902634206),\n",
       " ('independence', -0.31368552238177877),\n",
       " ('halliburton', 0.3134359076690787),\n",
       " ('media', -0.3134343955789315),\n",
       " ('tax', -0.31335629942057963),\n",
       " ('refined', 0.31309171055820134),\n",
       " ('chemical', -0.3129943914997869),\n",
       " ('workplace', -0.31298161440235445),\n",
       " ('uncapped', 0.3126269666529602),\n",
       " ('agile', 0.3125810732731156),\n",
       " ('possess', -0.3115629761693213),\n",
       " ('assist', 0.3112758409325589),\n",
       " ('unmatched', 0.31118386834275735),\n",
       " ('like', -0.3106699177724837),\n",
       " ('version', 0.3105429846454989),\n",
       " ('aker', 0.3105404521711144),\n",
       " ('submit', -0.31041078030119),\n",
       " ('info', 0.3101618020366231),\n",
       " ('includes', 0.3094920632040588),\n",
       " ('intecsea', 0.3092755063143678),\n",
       " ('120', 0.3090591627969451),\n",
       " ('prospects', 0.30904898910028095),\n",
       " ('wifi', 0.30895053277260087),\n",
       " ('feedback', 0.3087226686101179),\n",
       " ('inspections', 0.30847988824524314),\n",
       " ('serving', 0.30842836520505446),\n",
       " ('way', -0.3082388627977629),\n",
       " ('provides', -0.3079216055700076),\n",
       " ('urgently', 0.3078314431638586),\n",
       " ('change', 0.30739088630394684),\n",
       " ('offshore', 0.30734484937014356),\n",
       " ('ventures', -0.3071969595109103),\n",
       " ('writer', -0.3070160128556958),\n",
       " ('hood', 0.3067148748266223),\n",
       " ('having', -0.30657315665798274),\n",
       " ('providers', -0.3061677320314527),\n",
       " ('bonus', 0.305495740869556),\n",
       " ('deadlines', -0.3054700463021243),\n",
       " ('minimal', 0.30544357106022024),\n",
       " ('onlyclick', 0.30534395605920517),\n",
       " ('tour', 0.30508625337591644),\n",
       " ('community', -0.30504738986601776),\n",
       " ('enhance', -0.30500433298182333),\n",
       " ('note', 0.3046733297669573),\n",
       " ('industries', -0.30415407359901786),\n",
       " ('appraisal', 0.30352411713901634),\n",
       " ('inquires', 0.3035114258187288),\n",
       " ('analytical', -0.30318115079194907),\n",
       " ('equal', 0.30296270995042734),\n",
       " ('discounts', 0.30240054965447866),\n",
       " ('touch', -0.30217140784541124),\n",
       " ('suited', 0.3012408616913056),\n",
       " ('focused', 0.3009069450232065),\n",
       " ('cashier', -0.30085225051342335),\n",
       " ('west', -0.300789331495253),\n",
       " ('users', -0.3006203284492483),\n",
       " ('00gbp', 0.3002524259163616),\n",
       " ('outbound', -0.29969264143202984),\n",
       " ('hazelcrest', 0.2995784368002621),\n",
       " ('guide', 0.29941061804742497),\n",
       " ('specialist', -0.29893578054021386),\n",
       " ('language', 0.29890161673067683),\n",
       " ('hoa', 0.2988484716866974),\n",
       " ('professionals', 0.2986844539925894),\n",
       " ('camera', 0.2986536460582089),\n",
       " ('trading', 0.2985768226415831),\n",
       " ('evaluate', 0.2985448852280418),\n",
       " ('prove', 0.2982992592945386),\n",
       " ('outstanding', -0.2982954338852718),\n",
       " ('engineeringmachine', -0.29814781192421463),\n",
       " ('engineeringsystems', -0.29814781192421463),\n",
       " ('learningweb', -0.29814781192421463),\n",
       " ('necessary', 0.29811099526221585),\n",
       " ('critical', -0.297813405708028),\n",
       " ('calls', 0.2975194637648356),\n",
       " ('assisted', 0.29746623828350527),\n",
       " ('consultants', -0.29743355678857103),\n",
       " ('retirement', 0.29730951001451233),\n",
       " ('non', -0.29702268147156646),\n",
       " ('30k', 0.2970150264017196),\n",
       " ('customer', 0.296989840158518),\n",
       " ('collaboratively', -0.2968755805163865),\n",
       " ('sports', -0.29633921443183514),\n",
       " ('url_ec64af2b4fe2ca316e828f93b0cd098c22f8beba98dcac09d4dd7384b221a5e8',\n",
       "  -0.29627293188489956),\n",
       " ('construction', -0.2962649539796101),\n",
       " ('release', -0.2961204798423892),\n",
       " ('installation', -0.29610579521762637),\n",
       " ('progressive', -0.29568533729272467),\n",
       " ('motor', 0.2954910648160399),\n",
       " ('recruitment', -0.29514271423213667),\n",
       " ('happy', -0.2951173743324816),\n",
       " ('solaris', -0.29464074784547456),\n",
       " ('needed', 0.29450323452664245),\n",
       " ('windows', -0.2942560301982425),\n",
       " ('laptop', 0.29408203705903896),\n",
       " ('job', -0.2940434366704922),\n",
       " ('weekends', 0.29384510818299814),\n",
       " ('sprinkman', -0.2938393902326779),\n",
       " ('align', 0.2937111584658613),\n",
       " ('sets', 0.29344442025578843),\n",
       " ('assessments', 0.29276541985018956),\n",
       " ('motivated', 0.2927653879559865),\n",
       " ('jr', -0.2925581198367674),\n",
       " ('allow', -0.2924869959308762),\n",
       " ('practical', 0.29243498212276514),\n",
       " ('forecast', -0.29228115178483977),\n",
       " ('dedication', -0.2921626684671647),\n",
       " ('seattle', 0.29182703120214315),\n",
       " ('freedom', -0.2917650678486649),\n",
       " ('beautiful', -0.2915183556719608),\n",
       " ('space', 0.29111519464013147),\n",
       " ('url_a0fb001321b0fff947b0a19a393a8a3387585f345c45c7d54fa7ff492852e0b4',\n",
       "  0.2910760306548575),\n",
       " ('creating', -0.2908139498871574),\n",
       " ('cap', 0.2897125387710039),\n",
       " ('presidents', 0.2896606076420174),\n",
       " ('dining', -0.28940325762520613),\n",
       " ('driver', -0.2893302499154111),\n",
       " ('creates', -0.2892956338910573),\n",
       " ('connection', -0.28906079302036003),\n",
       " ('month', -0.2887093876267993),\n",
       " ('manufacturinglocation', 0.2887064822899099),\n",
       " ('government', -0.2885180296016866),\n",
       " ('attitude', -0.2884905194971376),\n",
       " ('competitive', -0.2884364907588667),\n",
       " ('machine', -0.2883889822723391),\n",
       " ('consume', 0.28824527493612884),\n",
       " ('conversion', -0.28813942375219737),\n",
       " ('senior', -0.288079685431715),\n",
       " ('mediaroom', 0.2877124040618197),\n",
       " ('valid', -0.2874051631511542),\n",
       " ('recommendations', 0.28739700234517157),\n",
       " ('goal', -0.28735225831045424),\n",
       " ('parents', -0.2868759333730439),\n",
       " ('requisitions', 0.2868209815111798),\n",
       " ('bills', 0.28599738557561644),\n",
       " ('architecture', 0.2859742280603796),\n",
       " ('texas', -0.2858578134830059),\n",
       " ('responsibility', 0.2857073652697307),\n",
       " ('peers', 0.285469109115512),\n",
       " ('maximum', 0.2851061285449403),\n",
       " ('content', -0.28506495796914566),\n",
       " ('uae', 0.285027823765588),\n",
       " ('seeing', -0.2850123917012201),\n",
       " ('mu', -0.2847947534245799),\n",
       " ('accessible', -0.2846985365401473),\n",
       " ('affairs', 0.2843827159837233),\n",
       " ('preventive', 0.2843366922077514),\n",
       " ('biomedical', -0.28396525921604715),\n",
       " ('account', -0.28391075725338044),\n",
       " ('expanding', -0.28331802903866976),\n",
       " ('atmosphere', -0.28304888171574477),\n",
       " ('continue', 0.2829180976728225),\n",
       " ('vessel', 0.2827900526115482),\n",
       " ('street', -0.28260013351494434),\n",
       " ('pass', -0.28200358265106923),\n",
       " ('leaders', -0.2819391466265442),\n",
       " ('southeast', 0.2815861327259487),\n",
       " ('add', 0.28142856103134667),\n",
       " ('needs', 0.2809654607745932),\n",
       " ('today', 0.28047338582562864),\n",
       " ('constraints', 0.2803934265721059),\n",
       " ('corporationserving', 0.2802459985407991),\n",
       " ('engineerduration', 0.28024199545243716),\n",
       " ('serve', 0.2799596853188452),\n",
       " ('aspects', -0.2799483714434405),\n",
       " ('antibes', -0.27991511971954275),\n",
       " ('virtually', 0.279909007688545),\n",
       " ('friend', 0.2798792525426141),\n",
       " ('short', -0.27981380351057084),\n",
       " ('internet', 0.2798115698304969),\n",
       " ('permanentlocation', 0.2797948921692659),\n",
       " ('contracts', 0.2796275904054318),\n",
       " ('desktop', -0.27952872004285456),\n",
       " ('strong', -0.27917614604133273),\n",
       " ('concepts', -0.2791613320209114),\n",
       " ('represented', 0.2790261214908425),\n",
       " ('rewarded', 0.27894079883826717),\n",
       " ('typist', 0.27888307598281037),\n",
       " ('commission', -0.2785406476648291),\n",
       " ('simply', 0.27839726501465517),\n",
       " ('difficult', 0.27837757994324563),\n",
       " ('60', -0.2779799207944817),\n",
       " ('values', 0.27768306835922707),\n",
       " ('organize', -0.2773214632136048),\n",
       " ('barcelona', 0.2772263470546945),\n",
       " ('different', 0.27697131839496913),\n",
       " ('mobility', -0.2768557096940137),\n",
       " ('lifecycle', 0.2767327903481342),\n",
       " ('supply', 0.27666987162288975),\n",
       " ('classroom', -0.27665890381118186),\n",
       " ('resumes', -0.27659212724464577),\n",
       " ('founders', -0.27658686838208696),\n",
       " ('clarifying', -0.2762448132267237),\n",
       " ('make', 0.2757855954556876),\n",
       " ('emerging', -0.27512817345190055),\n",
       " ('supported', -0.2748705098621391),\n",
       " ('little', 0.27484121069097744),\n",
       " ('real', 0.27478029498103507),\n",
       " ('instructor', -0.274367673239207),\n",
       " ('assisting', 0.273807175198189),\n",
       " ('laser', 0.2737681017262633),\n",
       " ('acas', 0.2736599360403657),\n",
       " ('cpcu', 0.2736599360403657),\n",
       " ('fcas', 0.2736599360403657),\n",
       " ('freelancer', 0.27363540552839416),\n",
       " ('actuarial', 0.2736151834658013),\n",
       " ('live', -0.2735905852276891),\n",
       " ('confidence', -0.2731896116406625),\n",
       " ('promoting', 0.27318542859748557),\n",
       " ('vilnius', -0.27293912266577774),\n",
       " ('tool', -0.2725946210238089),\n",
       " ('interfacing', -0.272444999339386),\n",
       " ('entries', -0.27231332753131615),\n",
       " ('azco', 0.2721211876154831),\n",
       " ('400', 0.2720112496029975),\n",
       " ('hire', 0.27195160244465316),\n",
       " ('properties', 0.2719327512906809),\n",
       " ('regulatory', 0.27189179017147264),\n",
       " ('therapy', 0.2715314296117677),\n",
       " ('similar', 0.27089630265785497),\n",
       " ('yearly', 0.2706947824140139),\n",
       " ('contractual', 0.27013044196393915),\n",
       " ('performance', -0.27012793175870803),\n",
       " ('speaker', 0.26991856144760684),\n",
       " ('literate', 0.2699128012600767),\n",
       " ('diverse', -0.2696874071406513),\n",
       " ('pharmaceuticals', -0.2695780407602784),\n",
       " ('specialized', -0.2695013082695238),\n",
       " ('bookings', -0.26926065235263463),\n",
       " ('arabia', 0.26908255157888294),\n",
       " ('1st', -0.26906822960259374),\n",
       " ('drug', -0.26870471481752917),\n",
       " ('inctor', 0.26851239267236493),\n",
       " ('enrolled', -0.26846785483093355),\n",
       " ('finding', -0.2684551666883054),\n",
       " ('criminal', -0.2681195220874166),\n",
       " ('recommended', -0.2677969402929306),\n",
       " ('versed', -0.2677247655226433),\n",
       " ('leadshave', 0.2676006246024877),\n",
       " ('marketsachieving', 0.2676006246024877),\n",
       " ('sellingbe', 0.2676006246024877),\n",
       " ('starterbe', 0.2676006246024877),\n",
       " ('targetspromoting', 0.2676006246024877),\n",
       " ('instigating', 0.2675989881332784),\n",
       " ('channels', -0.2672204340974919),\n",
       " ('swf', 0.2669681552319254),\n",
       " ('check', -0.26688752743039673),\n",
       " ('35', -0.2667891012028452),\n",
       " ('mrp', 0.2667604527622742),\n",
       " ('logo', 0.2666870979854272),\n",
       " ('urgent', 0.2666357083630507),\n",
       " ('datasets', 0.26647345343768497),\n",
       " ('motto', 0.26639904251609153),\n",
       " ('applications', 0.265815938784648),\n",
       " ('residential', 0.265720365389356),\n",
       " ('bring', 0.2646083739156064),\n",
       " ('facebook', -0.2644159940540263),\n",
       " ('ca', 0.2640589510044148),\n",
       " ('associates', 0.26403440285310914),\n",
       " ('reception', 0.26383571634425607),\n",
       " ('appointments', -0.26368197875625465),\n",
       " ('implementing', -0.26358123995610266),\n",
       " ('dc', -0.26356187100188433),\n",
       " ('typing', 0.2632354464662985),\n",
       " ('telemarketing', 0.262806067239908),\n",
       " ('cancel', 0.26263952225806947),\n",
       " ('pneumatics', 0.26214340915070095),\n",
       " ('skillsstrong', -0.26170210364519975),\n",
       " ('commitment', 0.2616569640165033),\n",
       " ('mind', -0.2616508339440641),\n",
       " ('vehicles', -0.26146533061778526),\n",
       " ('sacramento', -0.26139008522370905),\n",
       " ('dubai', -0.2613620361473313),\n",
       " ('parallel', 0.2613548709858916),\n",
       " ('ext', 0.26121576388140866),\n",
       " ('standards', 0.26118968205492155),\n",
       " ('kronos', -0.2609238981282431),\n",
       " ('robust', 0.2608193832230471),\n",
       " ('delivering', -0.26062386961599726),\n",
       " ('chicago', 0.26060910370297485),\n",
       " ('tailored', -0.2602913578810917),\n",
       " ('messenger', -0.260091320328793),\n",
       " ('metro', -0.25998702421629977),\n",
       " ('completing', -0.25996406248699705),\n",
       " ('independently', -0.25992613689079974),\n",
       " ('freelance', 0.2598309897725205),\n",
       " ('payments', -0.2594663967804834),\n",
       " ('ulm', 0.2594374736007827),\n",
       " ('platforms', -0.2588494982439105),\n",
       " ('schedule', 0.25873026853634207),\n",
       " ('javascript', -0.25856839320743147),\n",
       " ('tomorrow', -0.25829147130441993),\n",
       " ('cycle', 0.25820580591240966),\n",
       " ('kuala', 0.2581215303267052),\n",
       " ('lumpur', 0.2581215303267052),\n",
       " ('places', -0.25768090578176134),\n",
       " ('scripts', 0.2576596156801133),\n",
       " ('enterprise', -0.25753936544716227),\n",
       " ('saudi', 0.25699974213572513),\n",
       " ('cuts', 0.2569214950291722),\n",
       " ('scheduled', -0.25689665155927993),\n",
       " ('ambassadors', -0.2568473900919105),\n",
       " ('messages', 0.2567995533051905),\n",
       " ('liaison', 0.2567798324646503),\n",
       " ('map', -0.2566070530858645),\n",
       " ('shipping', -0.25656049578043777),\n",
       " ('run', -0.2564279238048806),\n",
       " ('designer', -0.2563374140823253),\n",
       " ('sydney', 0.2561881749856306),\n",
       " ('level', -0.2559366829361265),\n",
       " ('stratford', 0.2557828439123168),\n",
       " ('light', -0.25567666024958957),\n",
       " ('ago', 0.2555933284847329),\n",
       " ('mom', 0.2552752282207115),\n",
       " ('foh', -0.25527272177592186),\n",
       " ('judgment', 0.25512640496039235),\n",
       " ('raised', 0.2550683443949555),\n",
       " ('applicable', 0.2547423165002302),\n",
       " ('dedicated', -0.2543530935412675),\n",
       " ('excellence', 0.25420770153427863),\n",
       " ('assignments', 0.25420599774553154),\n",
       " ('electrical', -0.2536721661815046),\n",
       " ('business', -0.2535602432699311),\n",
       " ('articulate', 0.25355344102054567),\n",
       " ('impression', -0.2534812368172539),\n",
       " ('enthusiasm', -0.25322540824408163),\n",
       " ('ip', 0.2530956114296475),\n",
       " ('teach', -0.2529887471982741),\n",
       " ('nz', -0.2529611416072724),\n",
       " ('aid', -0.25267777398127755),\n",
       " ('shall', 0.252671106725424),\n",
       " ('nice', -0.2526003785301511),\n",
       " ('blackberry', 0.25259927530101606),\n",
       " ('miami', 0.2525036751661578),\n",
       " ('petroleum', 0.2521274711954008),\n",
       " ('london', 0.2521193251297426),\n",
       " ('recorded', 0.2516569872053786),\n",
       " ('highly', -0.2516565344207062),\n",
       " ('ga', 0.2515577009425017),\n",
       " ('electronics', 0.25146736720604884),\n",
       " ('mining', -0.25093268969563925),\n",
       " ('solution', 0.25090896894181686),\n",
       " ('previous', -0.2506995259289163),\n",
       " ('sorts', 0.25041305598926317),\n",
       " ('masters', -0.2503225519669285),\n",
       " ('perioperative', 0.25020174231127723),\n",
       " ('earnings', 0.2501919315485001),\n",
       " ('attractive', 0.24966863108859133),\n",
       " ('parts', -0.24939217461767677),\n",
       " ('price', 0.24910774045057868),\n",
       " ('van', -0.24900224566790496),\n",
       " ('5pm', 0.24881425846382854),\n",
       " ('talent', -0.24869424517756825),\n",
       " ('keeping', -0.2486788835781327),\n",
       " ('private', -0.24866982557044615),\n",
       " ('attract', 0.2485742620955013),\n",
       " ('cosmopolitan', 0.24852972059788572),\n",
       " ('hackensackumc', 0.24852972059788572),\n",
       " ('mountainside', 0.24852972059788572),\n",
       " ('url_84cae77e4a7e59d794047515ef3a88b438de87588afefff1224fad56e0e162f9',\n",
       "  0.24852972059788572),\n",
       " ('montclair', 0.2485264403544832),\n",
       " ('grammar', -0.24836692366359148),\n",
       " ('production', -0.24811718832045512),\n",
       " ('excelling', 0.24810829526222453),\n",
       " ('aecom', 0.24796987116382174),\n",
       " ('proposition', 0.24773872233952413),\n",
       " ('influencing', 0.24771178131557095),\n",
       " ('luxury', 0.2474620947846594),\n",
       " ('seminars', 0.24741018854399877),\n",
       " ('chat', -0.2470866538362749),\n",
       " ('penetration', -0.247020889675993),\n",
       " ('ranging', 0.2466925364239613),\n",
       " ('esp', 0.24635308972059117),\n",
       " ('suneris', -0.24622404924650285),\n",
       " ('superior', -0.24619417395407311),\n",
       " ('tested', -0.2460327458618615),\n",
       " ('demonstrated', -0.24594567733360517),\n",
       " ('secure', -0.2457098475831812),\n",
       " ('suits', -0.24564530714373412),\n",
       " ('library', -0.24561773474868334),\n",
       " ('demonstrates', -0.2455558164891225),\n",
       " ('tier', 0.24544884034178507),\n",
       " ('excuses', 0.24525601379666626),\n",
       " ('eligible', 0.24513051513835224),\n",
       " ('reward', 0.24445047092915578),\n",
       " ('posting', 0.2444449863575097),\n",
       " ('chief', -0.24417218573830302),\n",
       " ('apis', 0.24413672486210544),\n",
       " ('hydraulics', 0.24410746416850346),\n",
       " ('effectiveness', 0.2441002531735891),\n",
       " ('corporation', 0.24408127333699514),\n",
       " ('toronto', 0.24380374457607143),\n",
       " ('funded', -0.24331348405446293),\n",
       " ('offices', -0.24321407141990303),\n",
       " ('module', -0.243000678734267),\n",
       " ('45', -0.24298041583036312),\n",
       " ('contract', -0.242709646940998),\n",
       " ('starter', 0.24253619534591284),\n",
       " ('park', -0.24246954885471028),\n",
       " ('hvac', -0.24198097793107),\n",
       " ('event', -0.24195574781945922),\n",
       " ('insurancepaid', 0.24175134699358364),\n",
       " ('afternoons', 0.2416772701765511),\n",
       " ('washington', -0.24158719291906566),\n",
       " ('hadoop', 0.2415672109712186),\n",
       " ('printing', -0.24151296164654368),\n",
       " ('inquiries', 0.24126347210055996),\n",
       " ('organisation', -0.24114798846379276),\n",
       " ('analyze', 0.2409314037095206),\n",
       " ('management', -0.24075831787292137),\n",
       " ('ll', -0.24037447899963935),\n",
       " ('orientation', 0.23991111450425284),\n",
       " ('rdbms', 0.23968316969010675),\n",
       " ('german', -0.2395303519316838),\n",
       " ('drs', 0.23939636060801395),\n",
       " ('newly', 0.23929858210099347),\n",
       " ('officer', -0.2392355305992233),\n",
       " ('coordinates', 0.23903848632313607),\n",
       " ('stakeholders', 0.23897147417323988),\n",
       " ('worth', 0.23896909138707373),\n",
       " ('python', -0.23876643613091417),\n",
       " ('housekeeping', 0.23875540094584813),\n",
       " ('paid', 0.23872552411081835),\n",
       " ('public', -0.23869808570128345),\n",
       " ('pursue', -0.238665249457896),\n",
       " ('consumer', -0.23863959019955128),\n",
       " ('mi', 0.2385670268500586),\n",
       " ('cars', 0.23855832382472233),\n",
       " ('professionalism', -0.23850797090855055),\n",
       " ('beneficial', 0.23848691743091643),\n",
       " ('diligence', 0.23848660101592914),\n",
       " ('audio', -0.23846672528873744),\n",
       " ('tools', -0.23841548634058662),\n",
       " ('casualty', 0.23825877788234143),\n",
       " ('kids', -0.2381709989394388),\n",
       " ('kinds', -0.23798000362285576),\n",
       " ('designations', 0.23782064270455727),\n",
       " ('rg', 0.2377986005612172),\n",
       " ('yrs', -0.23778720629328348),\n",
       " ('machining', 0.2377389767026414),\n",
       " ('axureillustrator', 0.23757033725275556),\n",
       " ('desgin', 0.23757033725275556),\n",
       " ('steady', -0.23747504237928121),\n",
       " ('record', -0.23729293394934833),\n",
       " ('approachterritory', 0.23728742472382397),\n",
       " ('attitudecareer', 0.23728742472382397),\n",
       " ('classesdetailed', 0.23728742472382397),\n",
       " ('companyrequirementsresponsibilities', 0.23728742472382397),\n",
       " ('customerstraining', 0.23728742472382397),\n",
       " ('mentalityoutgoing', 0.23728742472382397),\n",
       " ('mentorshipbusiness', 0.23728742472382397),\n",
       " ('orientedgreat', 0.23728742472382397),\n",
       " ('personableexperience', 0.23728742472382397),\n",
       " ('servicehuman', 0.23728742472382397),\n",
       " ('training1', 0.23728742472382397),\n",
       " ('focusedteam', 0.2372849611219631),\n",
       " ('managementproviding', 0.23727948660060477),\n",
       " ('advertising', 0.237238130535749),\n",
       " ...]"
      ]
     },
     "execution_count": 82,
     "metadata": {},
     "output_type": "execute_result"
    }
   ],
   "source": [
    "# logistic regression coefficients\n",
    "\n",
    "sorted(list(zip(cvtext.get_feature_names(), lr_3.coef_[0])), key=lambda x: abs(x[1]), reverse=True)"
   ]
  },
  {
   "cell_type": "markdown",
   "metadata": {},
   "source": [
    "The most influential words are \"rohan\", \"northwestern\", and \"mz\". All three of these indicate higher likelihood of fraud.\n",
    "\n",
    "\"english\", \"gb\", and \"digital\" are the top three words indicative of a genuine post. "
   ]
  },
  {
   "cell_type": "code",
   "execution_count": 83,
   "metadata": {},
   "outputs": [
    {
     "data": {
      "text/plain": [
       "'CAD Operator US, NC, Raleigh     CAD Operator – Transmission Engineering. Under general direction, this candidate will create or modify electrical, civil and electrical engineering design drawings, utilizing approved drafting standards to support the construction or maintenance of electric utility substation facilities, generation switchyards, or transmission lines. Direction will be in the form of verbal and written instructions, marked prints, and sketches. Additional duties may include administrative activities associated with updating paper and electronic folders, updating hanging files and assisting engineers and designers with printing/copying/folding of plans for release to Construction &amp; Maintenance.\\xa0 Two years’ experience with Microstation and/or AutoCAD required. Background with electrical drawings for an electric utility is a plus. Ideal candidate would be either a graduate from a college or university with an Associate Degree in Computer Aided Drafting Technology (or equivalent) with 2 to 4 years of experience, or 4 to 8 years of experience and completed (30) credit hours in an approved technical program, or 7 to 14 years equivalent experience with no degree. Valid driver’s license required. Local candidates preferred. No per diem available            '"
      ]
     },
     "execution_count": 83,
     "metadata": {},
     "output_type": "execute_result"
    }
   ],
   "source": [
    "x['text'][100]"
   ]
  },
  {
   "cell_type": "code",
   "execution_count": 99,
   "metadata": {},
   "outputs": [
    {
     "data": {
      "text/plain": [
       "Series([], Name: text, dtype: object)"
      ]
     },
     "execution_count": 99,
     "metadata": {},
     "output_type": "execute_result"
    }
   ],
   "source": [
    "x[x.text.str.contains('rohan')].text"
   ]
  },
  {
   "cell_type": "markdown",
   "metadata": {},
   "source": [
    "I want to see which jobs the logistic regression fails to classify as fraudulent. In order to do that, I will have to create predictions for the validation set, and then append those predictions to a dataframe with the features from those observations. I will also need to append the correct classification. "
   ]
  },
  {
   "cell_type": "code",
   "execution_count": 85,
   "metadata": {},
   "outputs": [
    {
     "data": {
      "text/plain": [
       "array([0, 0, 0, ..., 0, 0, 0])"
      ]
     },
     "execution_count": 85,
     "metadata": {},
     "output_type": "execute_result"
    }
   ],
   "source": [
    "lr_3_pred"
   ]
  },
  {
   "cell_type": "code",
   "execution_count": 86,
   "metadata": {
    "collapsed": true,
    "jupyter": {
     "outputs_hidden": true
    }
   },
   "outputs": [
    {
     "data": {
      "text/plain": [
       "['00',\n",
       " '000',\n",
       " '0000',\n",
       " '0001pt',\n",
       " '0005',\n",
       " '000a',\n",
       " '000aed',\n",
       " '000apply',\n",
       " '000applying',\n",
       " '000bonus',\n",
       " '000cash',\n",
       " '000commission',\n",
       " '000equity',\n",
       " '000generate',\n",
       " '000health',\n",
       " '000high',\n",
       " '000highly',\n",
       " '000hours',\n",
       " '000if',\n",
       " '000location',\n",
       " '000meal',\n",
       " '000medical',\n",
       " '000nationwide',\n",
       " '000overview',\n",
       " '000per',\n",
       " '000plus',\n",
       " '000position',\n",
       " '000reports',\n",
       " '000s',\n",
       " '000skill',\n",
       " '000sq',\n",
       " '000term',\n",
       " '000type',\n",
       " '000uncapped',\n",
       " '001',\n",
       " '001ba',\n",
       " '002pm',\n",
       " '003',\n",
       " '005',\n",
       " '00592duration',\n",
       " '006',\n",
       " '0062834',\n",
       " '0062953',\n",
       " '008',\n",
       " '00a',\n",
       " '00am',\n",
       " '00benefits',\n",
       " '00gbp',\n",
       " '00pay',\n",
       " '00please',\n",
       " '00pm',\n",
       " '00pmfriday',\n",
       " '00pmjoin',\n",
       " '00pmlocation',\n",
       " '00pmoverall',\n",
       " '00pmsaturday',\n",
       " '00pmthursday',\n",
       " '00pmwednesday',\n",
       " '00pmwhere',\n",
       " '00ppay',\n",
       " '00salary',\n",
       " '00type',\n",
       " '01',\n",
       " '011',\n",
       " '01256',\n",
       " '014',\n",
       " '01606phone',\n",
       " '01761',\n",
       " '01858965',\n",
       " '01924',\n",
       " '02',\n",
       " '02061',\n",
       " '0206e',\n",
       " '0245',\n",
       " '02create',\n",
       " '03',\n",
       " '0309',\n",
       " '0381interview',\n",
       " '04',\n",
       " '040',\n",
       " '0400',\n",
       " '0402',\n",
       " '04102',\n",
       " '0415',\n",
       " '0433',\n",
       " '044',\n",
       " '05',\n",
       " '06',\n",
       " '061',\n",
       " '0679',\n",
       " '06f',\n",
       " '06temporary',\n",
       " '07',\n",
       " '07094',\n",
       " '07512',\n",
       " '07568',\n",
       " '07749',\n",
       " '07788',\n",
       " '078',\n",
       " '07880',\n",
       " '08',\n",
       " '0800',\n",
       " '080631',\n",
       " '0822r',\n",
       " '08542',\n",
       " '086',\n",
       " '08840',\n",
       " '08854',\n",
       " '09',\n",
       " '0900',\n",
       " '098',\n",
       " '0amazing',\n",
       " '0bwlqghjsvg7aujzlyzvjd1liqke',\n",
       " '0cm',\n",
       " '0days',\n",
       " '0demonstrated',\n",
       " '0dq',\n",
       " '0e11200093d4b79c99574dd8af67',\n",
       " '0in',\n",
       " '0knowledge',\n",
       " '0location',\n",
       " '0pt',\n",
       " '0ptcontact',\n",
       " '0rg',\n",
       " '0test',\n",
       " '0tz',\n",
       " '10',\n",
       " '100',\n",
       " '1000',\n",
       " '100000',\n",
       " '1000compensation',\n",
       " '1000m',\n",
       " '1000s',\n",
       " '100gbe',\n",
       " '100k',\n",
       " '100kloc',\n",
       " '100kms',\n",
       " '100kmust',\n",
       " '100ksrelocation',\n",
       " '100m',\n",
       " '100mentors',\n",
       " '100mm',\n",
       " '100th',\n",
       " '100x',\n",
       " '101',\n",
       " '10173',\n",
       " '102',\n",
       " '104',\n",
       " '104th',\n",
       " '105',\n",
       " '105k',\n",
       " '105winter',\n",
       " '1060',\n",
       " '107',\n",
       " '1080',\n",
       " '109',\n",
       " '1098t',\n",
       " '1099',\n",
       " '1099assist',\n",
       " '1099s',\n",
       " '1099sact',\n",
       " '1099sassist',\n",
       " '10a',\n",
       " '10am',\n",
       " '10best',\n",
       " '10clouds',\n",
       " '10complete',\n",
       " '10g',\n",
       " '10gbe',\n",
       " '10gbps',\n",
       " '10gig',\n",
       " '10h',\n",
       " '10hours',\n",
       " '10hr',\n",
       " '10industry',\n",
       " '10k',\n",
       " '10location',\n",
       " '10m',\n",
       " '10mb',\n",
       " '10pm',\n",
       " '10pmfriday',\n",
       " '10q',\n",
       " '10s',\n",
       " '10th',\n",
       " '10x',\n",
       " '11',\n",
       " '110',\n",
       " '1100',\n",
       " '110020',\n",
       " '1105philadelphia',\n",
       " '110k',\n",
       " '111',\n",
       " '1118',\n",
       " '11255',\n",
       " '112experienced',\n",
       " '1136',\n",
       " '113experienced',\n",
       " '1140',\n",
       " '114experienced',\n",
       " '115',\n",
       " '1164',\n",
       " '116experienced',\n",
       " '117',\n",
       " '118',\n",
       " '119',\n",
       " '119experienced',\n",
       " '119k',\n",
       " '11a',\n",
       " '11am',\n",
       " '11b',\n",
       " '11g',\n",
       " '11hrno',\n",
       " '11i',\n",
       " '11k',\n",
       " '11m',\n",
       " '11no',\n",
       " '11pm',\n",
       " '11req',\n",
       " '11th',\n",
       " '11x',\n",
       " '11συν_10_1205',\n",
       " '11월',\n",
       " '12',\n",
       " '120',\n",
       " '1200',\n",
       " '12000',\n",
       " '120k',\n",
       " '121',\n",
       " '1212',\n",
       " '1217zspecialties',\n",
       " '121s',\n",
       " '122',\n",
       " '1221',\n",
       " '122100',\n",
       " '122nd',\n",
       " '124',\n",
       " '1240',\n",
       " '124experienced',\n",
       " '125',\n",
       " '1250',\n",
       " '125k',\n",
       " '125kbrief',\n",
       " '125m',\n",
       " '1275',\n",
       " '12am',\n",
       " '12h00',\n",
       " '12hr',\n",
       " '12m',\n",
       " '12months',\n",
       " '12mth',\n",
       " '12pm',\n",
       " '12th',\n",
       " '13',\n",
       " '130',\n",
       " '1300',\n",
       " '130k',\n",
       " '130m',\n",
       " '131job',\n",
       " '131st',\n",
       " '132',\n",
       " '1323',\n",
       " '132job',\n",
       " '133321',\n",
       " '1337',\n",
       " '134',\n",
       " '1340',\n",
       " '13485',\n",
       " '135',\n",
       " '135000',\n",
       " '136',\n",
       " '136job',\n",
       " '138kv',\n",
       " '139',\n",
       " '13k',\n",
       " '13m',\n",
       " '13th',\n",
       " '13wk',\n",
       " '13ο',\n",
       " '14',\n",
       " '140',\n",
       " '1400',\n",
       " '14000',\n",
       " '14000000h3descriptionma',\n",
       " '14000us1',\n",
       " '14001',\n",
       " '1402',\n",
       " '140k',\n",
       " '140m',\n",
       " '141',\n",
       " '1411',\n",
       " '141job',\n",
       " '142',\n",
       " '1428',\n",
       " '143',\n",
       " '144',\n",
       " '144a',\n",
       " '145',\n",
       " '145b',\n",
       " '146',\n",
       " '147job',\n",
       " '148',\n",
       " '14870',\n",
       " '149',\n",
       " '14919',\n",
       " '14971',\n",
       " '14apply',\n",
       " '14end',\n",
       " '14hotel',\n",
       " '14kgroup',\n",
       " '14m',\n",
       " '14q',\n",
       " '14responsibilities',\n",
       " '14th',\n",
       " '15',\n",
       " '150',\n",
       " '1500',\n",
       " '15000',\n",
       " '1500kw',\n",
       " '1502',\n",
       " '150k',\n",
       " '150klocation',\n",
       " '150m',\n",
       " '150mm',\n",
       " '1510',\n",
       " '15124',\n",
       " '152',\n",
       " '15233',\n",
       " '153job',\n",
       " '155000',\n",
       " '155job',\n",
       " '156000',\n",
       " '156k',\n",
       " '157',\n",
       " '158',\n",
       " '1580',\n",
       " '1582',\n",
       " '158987',\n",
       " '159',\n",
       " '159job',\n",
       " '15hr',\n",
       " '15hrs',\n",
       " '15k',\n",
       " '15kv',\n",
       " '15lbs',\n",
       " '15location',\n",
       " '15m',\n",
       " '15mb',\n",
       " '15min',\n",
       " '15mins',\n",
       " '15qualification',\n",
       " '15th',\n",
       " '16',\n",
       " '160',\n",
       " '1600',\n",
       " '160k',\n",
       " '160th',\n",
       " '161',\n",
       " '1612',\n",
       " '164',\n",
       " '165',\n",
       " '1650',\n",
       " '165000',\n",
       " '166job',\n",
       " '16949',\n",
       " '16hrs',\n",
       " '16k',\n",
       " '16th',\n",
       " '17',\n",
       " '170',\n",
       " '1700',\n",
       " '1700pm',\n",
       " '170job',\n",
       " '1736',\n",
       " '174job',\n",
       " '175',\n",
       " '1750',\n",
       " '176',\n",
       " '176job',\n",
       " '17799',\n",
       " '1781',\n",
       " '1781job',\n",
       " '1789',\n",
       " '17hrs',\n",
       " '17k',\n",
       " '17m',\n",
       " '17th',\n",
       " '18',\n",
       " '180',\n",
       " '1800',\n",
       " '18001',\n",
       " '1800s',\n",
       " '18031',\n",
       " '1809',\n",
       " '180k',\n",
       " '180kthis',\n",
       " '181',\n",
       " '1810',\n",
       " '1819',\n",
       " '182',\n",
       " '1825',\n",
       " '183',\n",
       " '1835',\n",
       " '183job',\n",
       " '184',\n",
       " '1843',\n",
       " '1843job',\n",
       " '185',\n",
       " '1850',\n",
       " '1852',\n",
       " '1853',\n",
       " '1857',\n",
       " '186',\n",
       " '1866',\n",
       " '186job',\n",
       " '1871',\n",
       " '1873',\n",
       " '187job',\n",
       " '1884',\n",
       " '1892',\n",
       " '1897',\n",
       " '18a',\n",
       " '18k',\n",
       " '18kcommission',\n",
       " '18m',\n",
       " '18s',\n",
       " '18th',\n",
       " '18yrs',\n",
       " '19',\n",
       " '1901',\n",
       " '1902',\n",
       " '1905',\n",
       " '190job',\n",
       " '190k',\n",
       " '1910',\n",
       " '19103',\n",
       " '1916',\n",
       " '191job',\n",
       " '192',\n",
       " '1926',\n",
       " '1926experience',\n",
       " '1928',\n",
       " '1929',\n",
       " '1930',\n",
       " '1930s',\n",
       " '1940',\n",
       " '1943',\n",
       " '1946',\n",
       " '1949',\n",
       " '1950',\n",
       " '1951',\n",
       " '19512',\n",
       " '1952',\n",
       " '1953',\n",
       " '1956',\n",
       " '1957',\n",
       " '1958',\n",
       " '1959',\n",
       " '195k',\n",
       " '1960',\n",
       " '1963',\n",
       " '1964',\n",
       " '1966',\n",
       " '1970',\n",
       " '1970job',\n",
       " '1971',\n",
       " '1972',\n",
       " '1973',\n",
       " '1974',\n",
       " '1975',\n",
       " '1976',\n",
       " '1977',\n",
       " '1978',\n",
       " '1978our',\n",
       " '1979',\n",
       " '1980',\n",
       " '1980s',\n",
       " '1981',\n",
       " '1982',\n",
       " '1984',\n",
       " '1985',\n",
       " '1985corporate',\n",
       " '1986',\n",
       " '1987',\n",
       " '1988',\n",
       " '1989',\n",
       " '1990',\n",
       " '19900',\n",
       " '1990s',\n",
       " '1991',\n",
       " '1992',\n",
       " '1993',\n",
       " '1994',\n",
       " '1995',\n",
       " '1996',\n",
       " '1997',\n",
       " '1998',\n",
       " '1999',\n",
       " '19k',\n",
       " '19th',\n",
       " '1a',\n",
       " '1ah',\n",
       " '1am',\n",
       " '1b',\n",
       " '1bn',\n",
       " '1bt',\n",
       " '1company',\n",
       " '1details',\n",
       " '1dt',\n",
       " '1ep',\n",
       " '1g',\n",
       " '1gb',\n",
       " '1gbaset',\n",
       " '1gig',\n",
       " '1k',\n",
       " '1la',\n",
       " '1laivgbour',\n",
       " '1location',\n",
       " '1m',\n",
       " '1months',\n",
       " '1ms',\n",
       " '1p',\n",
       " '1pb',\n",
       " '1pm',\n",
       " '1position',\n",
       " '1previous',\n",
       " '1px',\n",
       " '1q',\n",
       " '1ruby',\n",
       " '1s',\n",
       " '1st',\n",
       " '1strong',\n",
       " '1stthere',\n",
       " '1this',\n",
       " '1work',\n",
       " '1x',\n",
       " '1x1',\n",
       " '1xa',\n",
       " '1y',\n",
       " '1year',\n",
       " '1years',\n",
       " '1your',\n",
       " '1yr',\n",
       " '1일',\n",
       " '20',\n",
       " '200',\n",
       " '2000',\n",
       " '2000bs',\n",
       " '2001',\n",
       " '2002',\n",
       " '2003',\n",
       " '2003microsoft',\n",
       " '2004',\n",
       " '2005',\n",
       " '2005css',\n",
       " '2005requirements',\n",
       " '2006',\n",
       " '2007',\n",
       " '2008',\n",
       " '2008html',\n",
       " '2008juniper',\n",
       " '2008r',\n",
       " '2008r2',\n",
       " '2008serverrelevant',\n",
       " '2008sql',\n",
       " '2008subversiongithubyouare',\n",
       " '2008transactional',\n",
       " '2008xmlhtmlcssumljavascript',\n",
       " '2009',\n",
       " '200k',\n",
       " '200khighly',\n",
       " '200m',\n",
       " '200s',\n",
       " '200t',\n",
       " '200x',\n",
       " '200만',\n",
       " '201',\n",
       " '2010',\n",
       " '20103',\n",
       " '2010collaborate',\n",
       " '2010experience',\n",
       " '2011',\n",
       " '2012',\n",
       " '20122',\n",
       " '2012iis',\n",
       " '2012microsoft',\n",
       " '2012personal',\n",
       " '2012prefer',\n",
       " '2012sharepoint',\n",
       " '2012some',\n",
       " '2012the',\n",
       " '2013',\n",
       " '20131101',\n",
       " '201330',\n",
       " '2013contact',\n",
       " '2013description',\n",
       " '2013end',\n",
       " '2013implement',\n",
       " '2013linux',\n",
       " '2013microsoft',\n",
       " '2013occasionally',\n",
       " '2013opportunities',\n",
       " '2013reports',\n",
       " '2013sharepoint',\n",
       " '2013sql',\n",
       " '2013sqlnetwork',\n",
       " '2013top',\n",
       " '2013what',\n",
       " '2013windows',\n",
       " '2013work',\n",
       " '2013年にはソフトバンクベンチャーズコリアから投資を受けました',\n",
       " '2014',\n",
       " '20140308',\n",
       " '201412',\n",
       " '20149',\n",
       " '2014as',\n",
       " '2014community',\n",
       " '2014competitive',\n",
       " '2014description',\n",
       " '2014education',\n",
       " '2014end',\n",
       " '2014hard',\n",
       " '2014have',\n",
       " '2014help',\n",
       " '2014kickstart',\n",
       " '2014learn',\n",
       " '2014location',\n",
       " '2014please',\n",
       " '2014position',\n",
       " '2014presence',\n",
       " '2014pure',\n",
       " '2014rate',\n",
       " '2014responsibilities',\n",
       " '2014ryanair',\n",
       " '2014schedulemonday',\n",
       " '2014summary',\n",
       " '2014the',\n",
       " '2014this',\n",
       " '2014wages',\n",
       " '2014who',\n",
       " '2014년',\n",
       " '2015',\n",
       " '2015christmas',\n",
       " '2015location',\n",
       " '2015technical',\n",
       " '2015the',\n",
       " '2015this',\n",
       " '2015we',\n",
       " '2016',\n",
       " '2016participate',\n",
       " '2017',\n",
       " '20170duration',\n",
       " '2018',\n",
       " '202',\n",
       " '2020',\n",
       " '2020job',\n",
       " '2022',\n",
       " '2022job',\n",
       " '2024',\n",
       " '2025',\n",
       " '203worcester',\n",
       " '2048',\n",
       " '205',\n",
       " '2053',\n",
       " '2053job',\n",
       " '2059',\n",
       " '2060australia',\n",
       " '207',\n",
       " '2071',\n",
       " '20850direct',\n",
       " '20850ph',\n",
       " '20b',\n",
       " '20f',\n",
       " '20h',\n",
       " '20hr',\n",
       " '20hrs',\n",
       " '20job',\n",
       " '20k',\n",
       " '20m',\n",
       " '20million',\n",
       " '20mm',\n",
       " '20tb',\n",
       " '20th',\n",
       " '20x',\n",
       " '20명의',\n",
       " '21',\n",
       " '210',\n",
       " '21093',\n",
       " '2132job',\n",
       " '214',\n",
       " '2141',\n",
       " '2141job',\n",
       " '2168',\n",
       " '2168job',\n",
       " '217',\n",
       " '2170',\n",
       " '2175',\n",
       " '2175job',\n",
       " '2177',\n",
       " '2177job',\n",
       " '21m',\n",
       " '21st',\n",
       " '21yrs',\n",
       " '21ys',\n",
       " '22',\n",
       " '220',\n",
       " '2200',\n",
       " '22000',\n",
       " '220k',\n",
       " '222',\n",
       " '225',\n",
       " '225k',\n",
       " '2275',\n",
       " '22k',\n",
       " '22m',\n",
       " '23',\n",
       " '230',\n",
       " '2300',\n",
       " '230kv',\n",
       " '23185',\n",
       " '23464',\n",
       " '23464attn',\n",
       " '23464our',\n",
       " '23464tidewater',\n",
       " '23464you',\n",
       " '234job',\n",
       " '235',\n",
       " '238',\n",
       " '238job',\n",
       " '23970hiltonhampton',\n",
       " '23b',\n",
       " '23hr',\n",
       " '23k',\n",
       " '23rd',\n",
       " '23ο',\n",
       " '24',\n",
       " '240',\n",
       " '2400',\n",
       " '2430',\n",
       " '244job',\n",
       " '2459',\n",
       " '247job',\n",
       " '249',\n",
       " '24hr',\n",
       " '24hrs',\n",
       " '24job',\n",
       " '24media',\n",
       " '24s',\n",
       " '24th',\n",
       " '24x7',\n",
       " '24x7elaborate',\n",
       " '24x7x365',\n",
       " '25',\n",
       " '250',\n",
       " '2500',\n",
       " '250euros',\n",
       " '250job',\n",
       " '250k',\n",
       " '250m',\n",
       " '252',\n",
       " '255',\n",
       " '256',\n",
       " '258job',\n",
       " '25ft',\n",
       " '25in',\n",
       " '25k',\n",
       " '25lbs',\n",
       " '25m',\n",
       " '25th',\n",
       " '26',\n",
       " '260',\n",
       " '2600',\n",
       " '260job',\n",
       " '261rewards',\n",
       " '2624',\n",
       " '264',\n",
       " '265',\n",
       " '266',\n",
       " '267job',\n",
       " '26k',\n",
       " '26m',\n",
       " '26th',\n",
       " '27',\n",
       " '270',\n",
       " '27001',\n",
       " '27002',\n",
       " '2700d',\n",
       " '271',\n",
       " '272',\n",
       " '272job',\n",
       " '275',\n",
       " '2750',\n",
       " '27560',\n",
       " '27k',\n",
       " '27th',\n",
       " '28',\n",
       " '280',\n",
       " '281',\n",
       " '282',\n",
       " '28202',\n",
       " '2824',\n",
       " '283',\n",
       " '285',\n",
       " '287',\n",
       " '289',\n",
       " '28car',\n",
       " '28k',\n",
       " '28nm',\n",
       " '28th',\n",
       " '29',\n",
       " '2900',\n",
       " '2907',\n",
       " '2907to',\n",
       " '2941',\n",
       " '296',\n",
       " '298',\n",
       " '29927553',\n",
       " '29dpd',\n",
       " '29k',\n",
       " '29th',\n",
       " '2aa',\n",
       " '2am',\n",
       " '2as',\n",
       " '2d',\n",
       " '2database',\n",
       " '2dx',\n",
       " '2e',\n",
       " '2ee',\n",
       " '2experience',\n",
       " '2g',\n",
       " '2gh',\n",
       " '2gig',\n",
       " '2good',\n",
       " '2ideally',\n",
       " '2jb',\n",
       " '2jd',\n",
       " '2k',\n",
       " '2location',\n",
       " '2m',\n",
       " '2mil',\n",
       " '2months',\n",
       " '2mrolodex',\n",
       " '2mysqlrestful',\n",
       " '2nd',\n",
       " '2ndand',\n",
       " '2of',\n",
       " '2oracleno',\n",
       " '2p',\n",
       " '2pm',\n",
       " '2pmapplicants',\n",
       " '2ruby',\n",
       " '2strong',\n",
       " '2vsxug4csy8',\n",
       " '2x',\n",
       " '2years',\n",
       " '2you',\n",
       " '2yrs',\n",
       " '30',\n",
       " '300',\n",
       " '3000',\n",
       " '30000',\n",
       " '300k',\n",
       " '300m',\n",
       " '300please',\n",
       " '301',\n",
       " '301princeton',\n",
       " '303',\n",
       " '30303',\n",
       " '304',\n",
       " '305',\n",
       " '30517',\n",
       " '30am',\n",
       " '30excellent',\n",
       " '30h',\n",
       " '30k',\n",
       " '30k25',\n",
       " '30kcompany',\n",
       " '30lbs',\n",
       " '30m',\n",
       " '30mm',\n",
       " '30noonupto',\n",
       " '30okhla',\n",
       " '30p',\n",
       " '30pm',\n",
       " '30pmaquira',\n",
       " '30pmhealth',\n",
       " '30pmone',\n",
       " '30pmstarting',\n",
       " '30pmtuesday',\n",
       " '30poct',\n",
       " '30responsibilities',\n",
       " '30th',\n",
       " '30thand',\n",
       " '30this',\n",
       " '30wpm',\n",
       " '31',\n",
       " '310',\n",
       " '3100',\n",
       " '313',\n",
       " '314',\n",
       " '317',\n",
       " '31i',\n",
       " '31mm',\n",
       " '31st',\n",
       " '31stfall',\n",
       " '31stspring',\n",
       " '32',\n",
       " '320',\n",
       " '3200',\n",
       " '32008',\n",
       " '3201',\n",
       " '32065',\n",
       " '321',\n",
       " '323',\n",
       " '32465brthomson',\n",
       " '325',\n",
       " '3250',\n",
       " '32506br',\n",
       " '32789',\n",
       " '329w',\n",
       " '32i',\n",
       " '32k',\n",
       " '32st',\n",
       " '33',\n",
       " '330',\n",
       " '3300',\n",
       " '33073office',\n",
       " '331',\n",
       " '33169',\n",
       " '33169keywords',\n",
       " '332',\n",
       " '333',\n",
       " '33308',\n",
       " '33566',\n",
       " '33592',\n",
       " '336',\n",
       " '33607',\n",
       " '339',\n",
       " '33b',\n",
       " '33qualification',\n",
       " '34',\n",
       " '340',\n",
       " '34x',\n",
       " '35',\n",
       " '350',\n",
       " '3500',\n",
       " '350k',\n",
       " '350m',\n",
       " '352',\n",
       " '353',\n",
       " '3536',\n",
       " '358',\n",
       " '35english',\n",
       " '35f',\n",
       " '35k',\n",
       " '35m',\n",
       " '35must',\n",
       " '35per',\n",
       " '36',\n",
       " '360',\n",
       " '3600',\n",
       " '360i',\n",
       " '361',\n",
       " '362',\n",
       " '3636',\n",
       " '3637',\n",
       " '365',\n",
       " '365experience',\n",
       " '365monitoring',\n",
       " '365review',\n",
       " '365several',\n",
       " '365troubleshoot',\n",
       " '367',\n",
       " '368',\n",
       " '369',\n",
       " '36k',\n",
       " '37',\n",
       " '3700',\n",
       " '37067full',\n",
       " '371',\n",
       " '375',\n",
       " '379',\n",
       " '37th',\n",
       " '38',\n",
       " '380',\n",
       " '3800',\n",
       " '380013',\n",
       " '380ksh',\n",
       " '381',\n",
       " '382',\n",
       " '3821329',\n",
       " '384',\n",
       " '385',\n",
       " '386',\n",
       " '387',\n",
       " '388',\n",
       " '389',\n",
       " '38hours',\n",
       " '39',\n",
       " '39129139',\n",
       " '3924',\n",
       " ...]"
      ]
     },
     "execution_count": 86,
     "metadata": {},
     "output_type": "execute_result"
    }
   ],
   "source": [
    "cvtext.get_feature_names()"
   ]
  },
  {
   "cell_type": "code",
   "execution_count": 87,
   "metadata": {},
   "outputs": [
    {
     "ename": "SyntaxError",
     "evalue": "invalid syntax (<ipython-input-87-6a268ef8a15a>, line 1)",
     "output_type": "error",
     "traceback": [
      "\u001b[0;36m  File \u001b[0;32m\"<ipython-input-87-6a268ef8a15a>\"\u001b[0;36m, line \u001b[0;32m1\u001b[0m\n\u001b[0;31m    val_df =\u001b[0m\n\u001b[0m             ^\u001b[0m\n\u001b[0;31mSyntaxError\u001b[0m\u001b[0;31m:\u001b[0m invalid syntax\n"
     ]
    }
   ],
   "source": [
    "val_df = "
   ]
  },
  {
   "cell_type": "code",
   "execution_count": null,
   "metadata": {},
   "outputs": [],
   "source": [
    "y_v.reset_index()"
   ]
  },
  {
   "cell_type": "code",
   "execution_count": null,
   "metadata": {},
   "outputs": [],
   "source": [
    "val_df['predicted'] = lr_3_pred\n",
    "y_v_df = y_v.reset_index()\n",
    "val_df['actual'] = y_v_df['fraudulent']"
   ]
  },
  {
   "cell_type": "code",
   "execution_count": null,
   "metadata": {},
   "outputs": [],
   "source": [
    "val_df.actual"
   ]
  },
  {
   "cell_type": "code",
   "execution_count": null,
   "metadata": {},
   "outputs": [],
   "source": [
    "val_err_df = val_df[val_df['predicted'] != val_df['actual']]\n",
    "val_err_df"
   ]
  },
  {
   "cell_type": "code",
   "execution_count": null,
   "metadata": {},
   "outputs": [],
   "source": [
    "df.iloc[65]"
   ]
  },
  {
   "cell_type": "markdown",
   "metadata": {
    "heading_collapsed": "true"
   },
   "source": [
    "# Investigating Random Forest"
   ]
  },
  {
   "cell_type": "markdown",
   "metadata": {
    "heading_collapsed": "true"
   },
   "source": [
    "# Testing Logistic Regression"
   ]
  },
  {
   "cell_type": "code",
   "execution_count": 110,
   "metadata": {},
   "outputs": [],
   "source": [
    "# splitting and applying CountVectorizer\n",
    "\n",
    "x_tr, x_test, y_tr, y_test = train_test_split(x,y, test_size = 0.20)\n",
    "\n",
    "finalCV = CountVectorizer()\n",
    "x_tr = finalCV.fit_transform(x_tr['text']);\n",
    "x_test = finalCV.transform(x_test['text']);"
   ]
  },
  {
   "cell_type": "code",
   "execution_count": 117,
   "metadata": {},
   "outputs": [],
   "source": [
    "final_lr = LogisticRegression(max_iter = 300)\n",
    "final_lr.fit(x_tr, y_tr)\n",
    "lr_pred = final_lr.predict(x_test)"
   ]
  },
  {
   "cell_type": "code",
   "execution_count": 118,
   "metadata": {},
   "outputs": [
    {
     "data": {
      "text/plain": [
       "0.9809843400447428"
      ]
     },
     "execution_count": 118,
     "metadata": {},
     "output_type": "execute_result"
    }
   ],
   "source": [
    "final_lr.score(x_test, y_test)"
   ]
  },
  {
   "cell_type": "code",
   "execution_count": 119,
   "metadata": {},
   "outputs": [
    {
     "data": {
      "text/plain": [
       "0.9997902684563759"
      ]
     },
     "execution_count": 119,
     "metadata": {},
     "output_type": "execute_result"
    }
   ],
   "source": [
    "final_lr.score(x_tr, y_tr)"
   ]
  },
  {
   "cell_type": "code",
   "execution_count": 120,
   "metadata": {},
   "outputs": [
    {
     "name": "stdout",
     "output_type": "stream",
     "text": [
      "Log loss for lr:  0.087\n",
      "ROC AUC for lr:  0.969\n",
      "F1 for lr:  0.791\n",
      "Recall for lr:  0.679\n",
      "Precision for lr:  0.949\n"
     ]
    }
   ],
   "source": [
    "lr_ll = log_loss(y_test, final_lr.predict_proba(x_test))\n",
    "lr_roc_auc = roc_auc_score(y_test, final_lr.predict_proba(x_test)[:, 1])\n",
    "lr_f1 = f1_score(y_test, final_lr.predict(x_test) )\n",
    "lr_rec = recall_score(y_test, final_lr.predict(x_test))\n",
    "lr_precision = precision_score(y_test, final_lr.predict(x_test))\n",
    "\n",
    "\n",
    "print('Log loss for lr: ', round(lr_ll,3))\n",
    "print('ROC AUC for lr: ', round(lr_roc_auc,3))\n",
    "print('F1 for lr: ', round(lr_f1,3))\n",
    "print('Recall for lr: ', round(lr_rec,3))\n",
    "print('Precision for lr: ', round(lr_precision,3))"
   ]
  },
  {
   "cell_type": "code",
   "execution_count": 121,
   "metadata": {
    "collapsed": true,
    "jupyter": {
     "outputs_hidden": true
    }
   },
   "outputs": [
    {
     "data": {
      "text/plain": [
       "[('link', 0.9386440152911838),\n",
       " ('accountant', 0.8571711520714983),\n",
       " ('english', -0.8048020034611528),\n",
       " ('companies', -0.7404780369006153),\n",
       " ('aptitude', 0.7335280512193881),\n",
       " ('gr', -0.7268111555908304),\n",
       " ('accion', 0.7121383862291418),\n",
       " ('rohan', 0.6852551752342851),\n",
       " ('american', 0.6725324905830034),\n",
       " ('gb', -0.6709171154144364),\n",
       " ('descripción', 0.661379704574064),\n",
       " ('prueba', 0.661379704574064),\n",
       " ('achieve', 0.6524196627251548),\n",
       " ('fun', -0.6445679765275931),\n",
       " ('wages', 0.642684223087424),\n",
       " ('below', 0.6413954770863005),\n",
       " ('earn', 0.6398059547761156),\n",
       " ('associate', -0.6290957570175164),\n",
       " ('tester', 0.62439176026538),\n",
       " ('others', 0.591374391772426),\n",
       " ('northwestern', 0.5791213253432894),\n",
       " ('entry', 0.5753985618082353),\n",
       " ('money', 0.5603660574126198),\n",
       " ('clerical', 0.5587547568396081),\n",
       " ('exciting', 0.5581215998541329),\n",
       " ('duration', 0.5578138630719377),\n",
       " ('exceptional', -0.5554771473003502),\n",
       " ('agency', -0.5468868784451614),\n",
       " ('50', -0.5418891424542737),\n",
       " ('digital', -0.5408826234397426),\n",
       " ('balance', 0.5381077049747104),\n",
       " ('under', 0.5263587256736302),\n",
       " ('revenue', -0.5259920735639949),\n",
       " ('warsaw', 0.5257437202390794),\n",
       " ('mz', 0.5225887253350092),\n",
       " ('hospital', 0.5171759131574123),\n",
       " ('admin', 0.5079719565624125),\n",
       " ('organizational', -0.5019881314113805),\n",
       " ('books', 0.5011746055378634),\n",
       " ('post', 0.5008845337762509),\n",
       " ('personable', 0.5000052237667714),\n",
       " ('handling', -0.494130199555933),\n",
       " ('motivated', 0.49296583773564034),\n",
       " ('au', 0.49217609889636715),\n",
       " ('administrative', 0.48874983767730296),\n",
       " ('pl', 0.4829411908894762),\n",
       " ('reliable', -0.4755896787794471),\n",
       " ('social', -0.47441009865772577),\n",
       " ('rep', 0.4744064127153596),\n",
       " ('operating', 0.47404448213903405),\n",
       " ('word', 0.473710854462961),\n",
       " ('executive', 0.4735002464935538),\n",
       " ('by', -0.47170807373475665),\n",
       " ('cash', 0.467362094162101),\n",
       " ('comfortable', -0.4649585508051133),\n",
       " ('coordinator', 0.4606998790303493),\n",
       " ('basic', -0.45387419983418775),\n",
       " ('28', 0.4529576162194863),\n",
       " ('package', 0.4526975724242408),\n",
       " ('offshore', 0.4520065554941665),\n",
       " ('immediate', 0.4513514462531149),\n",
       " ('ensures', 0.45050839464001863),\n",
       " ('athens', -0.44993281168099714),\n",
       " ('custom', -0.44864813759081884),\n",
       " ('take', 0.44535839816859424),\n",
       " ('web', -0.444120260672132),\n",
       " ('it', -0.44063568094510613),\n",
       " ('income', 0.44014346638745105),\n",
       " ('expected', -0.43874778716311336),\n",
       " ('university', -0.43639391516515524),\n",
       " ('etc', -0.4356061403229715),\n",
       " ('only', -0.43315024208619557),\n",
       " ('bank', -0.433102885516551),\n",
       " ('break', 0.4330889173340431),\n",
       " ('send', 0.4330848493629468),\n",
       " ('ny', 0.4329875658668782),\n",
       " ('limited', 0.4275190713104973),\n",
       " ('about', -0.42742939257836127),\n",
       " ('opportunity', 0.42622858653843715),\n",
       " ('title', -0.42618304294567283),\n",
       " ('months', -0.42597491263328957),\n",
       " ('php', -0.42396142916053037),\n",
       " ('accounting', 0.4227940996092904),\n",
       " ('his', 0.4208020074843434),\n",
       " ('csr', 0.4204022971655777),\n",
       " ('leveraging', 0.4196896723122223),\n",
       " ('expro', 0.41852472141205216),\n",
       " ('bottom', 0.4183735909469783),\n",
       " ('daily', 0.4181408576052367),\n",
       " ('trends', 0.4166658676026072),\n",
       " ('sigma', 0.415619823029328),\n",
       " ('managing', 0.41533342938555695),\n",
       " ('year', -0.4143916478057538),\n",
       " ('new', -0.41416293255097586),\n",
       " ('10', 0.4103560915697144),\n",
       " ('sector', -0.40959429656394636),\n",
       " ('school', 0.4094461308688418),\n",
       " ('000', 0.40795983369416716),\n",
       " ('novation', 0.4077140240904997),\n",
       " ('technologies', 0.4076394048750382),\n",
       " ('email_00e35a10817c0d8e20fb7b138204884f53bb960cf21350f2232d5cb7cd8ff070',\n",
       "  -0.40605032832875115),\n",
       " ('allied', -0.4042120477877693),\n",
       " ('perioperative', 0.403969505967878),\n",
       " ('located', -0.40365916673960256),\n",
       " ('front', 0.402658028374877),\n",
       " ('search', -0.4021160341294033),\n",
       " ('system', -0.40048213324378146),\n",
       " ('needed', 0.3999934456997596),\n",
       " ('comprehensive', 0.39983738066220326),\n",
       " ('helps', -0.39827343731650394),\n",
       " ('cruise', 0.394612522999172),\n",
       " ('become', -0.3945851315814413),\n",
       " ('surgery', 0.393307550791119),\n",
       " ('startup', -0.3930309181880367),\n",
       " ('contractors', 0.39180929976662404),\n",
       " ('microsoft', -0.39084912741089917),\n",
       " ('qa', -0.38934528437982585),\n",
       " ('voice', -0.38860685468901895),\n",
       " ('00', -0.38450187724240587),\n",
       " ('exceed', 0.3778287362238047),\n",
       " ('tasks', -0.37705931648601526),\n",
       " ('contractor', -0.37529934017345584),\n",
       " ('paper', 0.374464881542447),\n",
       " ('houston', 0.372622761836298),\n",
       " ('growing', -0.3718920006943804),\n",
       " ('engineering', 0.37171973966001953),\n",
       " ('west', -0.368575476173555),\n",
       " ('associates', 0.3679281142887895),\n",
       " ('developer', -0.3679070402844842),\n",
       " ('gary', 0.3670391310544624),\n",
       " ('angeles', 0.3668065311190196),\n",
       " ('nbsp', -0.3664122699882321),\n",
       " ('near', -0.366359016729385),\n",
       " ('reps', 0.36386742979041203),\n",
       " ('show', 0.3638321619310498),\n",
       " ('activity', -0.3637790754782392),\n",
       " ('he', 0.36363427215235966),\n",
       " ('experienced', -0.3625409343236097),\n",
       " ('sql', 0.36222649923910694),\n",
       " ('outstanding', -0.3618657774319268),\n",
       " ('kmc', 0.36133271180364845),\n",
       " ('order', -0.36039736461728406),\n",
       " ('know', -0.3603593140161045),\n",
       " ('earnings', 0.3597912696966847),\n",
       " ('per', 0.35906533367330595),\n",
       " ('size', 0.3581788803684898),\n",
       " ('auditing', 0.3581549530286469),\n",
       " ('helpful', 0.3579122571861205),\n",
       " ('rhomobile', 0.35662648005317577),\n",
       " ('sign', -0.3559102512547905),\n",
       " ('businesses', -0.35441509889397954),\n",
       " ('prepare', -0.35425696833464976),\n",
       " ('bw', 0.3542504540235253),\n",
       " ('payroll', -0.3514422382300944),\n",
       " ('talented', -0.351201066349862),\n",
       " ('credit', 0.35021675338860114),\n",
       " ('incoming', 0.3488422367392145),\n",
       " ('ten', 0.3480984371620325),\n",
       " ('groups', 0.34684357252270354),\n",
       " ('use', 0.3458518671365141),\n",
       " ('type', 0.34508863230953934),\n",
       " ('term', 0.3447093933447355),\n",
       " ('programs', -0.34320211457192557),\n",
       " ('employee', 0.34320078068601423),\n",
       " ('subsea', 0.3431621191833946),\n",
       " ('quant', 0.3422720315762357),\n",
       " ('pace', 0.3418923949671958),\n",
       " ('bring', 0.34186728361004654),\n",
       " ('configuration', -0.3414509258362135),\n",
       " ('certified', -0.34127668793837224),\n",
       " ('supervisor', 0.34101950798837244),\n",
       " ('ma', -0.3409430491662751),\n",
       " ('warehouse', -0.34091217836280135),\n",
       " ('large', -0.34019391631091017),\n",
       " ('models', 0.33878793238357074),\n",
       " ('bonus', 0.33805859125347765),\n",
       " ('no', 0.3378310083032228),\n",
       " ('encouraged', 0.3378066638625725),\n",
       " ('south', -0.3368638748425958),\n",
       " ('rn', 0.3360594726723558),\n",
       " ('alliance', 0.335988217548225),\n",
       " ('room', 0.3355016360168871),\n",
       " ('improve', -0.3353801195512552),\n",
       " ('tn', -0.3353097768804858),\n",
       " ('ux', 0.3347639199038266),\n",
       " ('profession', 0.33471123397821095),\n",
       " ('informatica', 0.33458575195654544),\n",
       " ('offer', 0.3332132600729098),\n",
       " ('interest', -0.3328413428303949),\n",
       " ('love', -0.332578076783655),\n",
       " ('version', 0.33227320787446285),\n",
       " ('accesshome', 0.3319553077614424),\n",
       " ('bosshours', 0.3319553077614424),\n",
       " ('commissionbe', 0.3319553077614424),\n",
       " ('laptopcommitment', 0.3319553077614424),\n",
       " ('url_0a7c4df3a2fd5dd5a67beb9cf6c0ba4f8d53ae8372db9449011f37a9deaf7e64',\n",
       "  0.3319553077614424),\n",
       " ('interact', 0.3307580094871246),\n",
       " ('against', 0.33053690287447174),\n",
       " ('list', -0.3301495193673355),\n",
       " ('optical', 0.32965698497739687),\n",
       " ('specialist', -0.32938949488300645),\n",
       " ('pse', 0.32933823992912886),\n",
       " ('brightedge', 0.328226221922453),\n",
       " ('those', 0.3273575550099448),\n",
       " ('days', -0.327351972588048),\n",
       " ('details', -0.32707876543063197),\n",
       " ('entrepreneurial', 0.32704484650893906),\n",
       " ('trading', 0.3266875783595706),\n",
       " ('answering', 0.32654872098568144),\n",
       " ('restaurants', -0.32512621654571844),\n",
       " ('clients', -0.32512487408914387),\n",
       " ('class', -0.3247477404006484),\n",
       " ('colorado', 0.3245952193305486),\n",
       " ('herndon', 0.324133749607496),\n",
       " ('call', 0.323554848855023),\n",
       " ('cv', 0.32327172190280445),\n",
       " ('manage', 0.32284577956932115),\n",
       " ('what', 0.32261857721354137),\n",
       " ('confidential', -0.3220457033600445),\n",
       " ('selling', -0.3216410239613362),\n",
       " ('chief', -0.32157603108540317),\n",
       " ('karachi', 0.32061266790144827),\n",
       " ('analytical', -0.3198625726040898),\n",
       " ('house', -0.31926075611326665),\n",
       " ('accuracy', 0.3191014045589143),\n",
       " ('non', -0.31901839425750905),\n",
       " ('legal', -0.3188104816077078),\n",
       " ('devices', -0.3187199874980202),\n",
       " ('device', 0.31857101609630406),\n",
       " ('candidate', -0.3177989558420836),\n",
       " ('meet', 0.31744632481016605),\n",
       " ('will', -0.31709771119545804),\n",
       " ('email', 0.31628988374617717),\n",
       " ('here', 0.31600658650209856),\n",
       " ('out', 0.3158218468317565),\n",
       " ('architecture', 0.31560022074712457),\n",
       " ('vam', 0.3154012779231044),\n",
       " ('software', -0.3152374786001219),\n",
       " ('unmatched', 0.3148881771852586),\n",
       " ('dealer', -0.3147764491105037),\n",
       " ('fast', -0.3147717061043617),\n",
       " ('tools', -0.31455173087808624),\n",
       " ('clearmark', 0.31407424377934995),\n",
       " ('salary', -0.3140387162793276),\n",
       " ('wilmington', -0.3127772612272767),\n",
       " ('entered', 0.3120586453614182),\n",
       " ('bull', 0.3116401206572352),\n",
       " ('creative', -0.3113276266780355),\n",
       " ('options', 0.310206173382608),\n",
       " ('machine', -0.30959927878164134),\n",
       " ('continuously', 0.30914521174238285),\n",
       " ('adhere', -0.3078758392222483),\n",
       " ('timejob', 0.307438603690244),\n",
       " ('sample', -0.30714715695925604),\n",
       " ('our', -0.30662856525942395),\n",
       " ('do', -0.3065495876312437),\n",
       " ('creation', -0.3056200023862844),\n",
       " ('domain', 0.30550959427689406),\n",
       " ('receptionist', 0.305503505106955),\n",
       " ('want', -0.3050500667383339),\n",
       " ('overall', 0.3048795459786623),\n",
       " ('hardware', -0.30449152765095006),\n",
       " ('option', 0.30430324653878277),\n",
       " ('investments', 0.30426971244016165),\n",
       " ('values', 0.30424136748357367),\n",
       " ('pc', 0.3040212782671109),\n",
       " ('graduate', -0.3038542801376813),\n",
       " ('like', -0.30379341636566914),\n",
       " ('find', 0.3037729841040863),\n",
       " ('networking', 0.30240446745955796),\n",
       " ('delivery', -0.30212733002405234),\n",
       " ('frame', 0.3007082344595097),\n",
       " ('over', 0.30041464731669826),\n",
       " ('los', 0.3002488518303471),\n",
       " ('medical', -0.2990753353363125),\n",
       " ('express', 0.2986774797464911),\n",
       " ('distribution', -0.2984631251450288),\n",
       " ('reporting', -0.29779839726170065),\n",
       " ('story', 0.29725448390539394),\n",
       " ('manner', 0.29676722788614174),\n",
       " ('some', 0.29666638869540574),\n",
       " ('calls', 0.29623291962278825),\n",
       " ('officer', -0.29584044627826345),\n",
       " ('sydney', 0.2954780831265937),\n",
       " ('delivering', -0.2954252655637916),\n",
       " ('wellness', 0.29540235775725693),\n",
       " ('date', -0.29496048817776493),\n",
       " ('positive', -0.2948491633947264),\n",
       " ('abroad', -0.29483107764466243),\n",
       " ('asset', -0.2945390017023543),\n",
       " ('bahrain', 0.294333998473226),\n",
       " ('pto', -0.2941536053471847),\n",
       " ('sti', 0.29354971349249653),\n",
       " ('self', -0.2934963410375599),\n",
       " ('sharingbonus', 0.29298702398745397),\n",
       " ('assisting', 0.2913015494176698),\n",
       " ('net', -0.29117254223158845),\n",
       " ('experts', -0.29088952407911395),\n",
       " ('weather', 0.29081194470542887),\n",
       " ('valor', -0.2901703575196312),\n",
       " ('any', 0.2897671783953839),\n",
       " ('backgrounds', -0.2893076035986021),\n",
       " ('phone', 0.287799767722632),\n",
       " ('personality', 0.28762785975346206),\n",
       " ('intecsea', 0.28741917438013276),\n",
       " ('co', -0.28719683763206355),\n",
       " ('industry', 0.287022724048695),\n",
       " ('report', -0.2849529099129986),\n",
       " ('expenses', 0.28457493436786335),\n",
       " ('beautiful', -0.28395298484240206),\n",
       " ('done', 0.2838670541766454),\n",
       " ('az', -0.28379823433739154),\n",
       " ('passionate', -0.2836794513586528),\n",
       " ('professionalism', -0.282898673739876),\n",
       " ('persons', 0.2828539508695948),\n",
       " ('solid', 0.28284891441922905),\n",
       " ('waiting', 0.2827614159220824),\n",
       " ('span', 0.28248112976034556),\n",
       " ('consultants', -0.2824523999724382),\n",
       " ('fit', -0.2820955303169732),\n",
       " ('bachelor', -0.28195704073424355),\n",
       " ('flexkom', 0.2818752391460277),\n",
       " ('screening', -0.2817551407684613),\n",
       " ('analyst', -0.28153048598568636),\n",
       " ('monday', -0.2814969655674034),\n",
       " ('guidelines', 0.28127524291107775),\n",
       " ('management', -0.2803781146383419),\n",
       " ('sacremento', 0.28013020468632494),\n",
       " ('geographical', 0.27993739526812744),\n",
       " ('guys', 0.27948219541676067),\n",
       " ('update', -0.27935331378020356),\n",
       " ('stock', 0.27931048248745105),\n",
       " ('virginia', -0.2792495907482599),\n",
       " ('answer', 0.279115894342196),\n",
       " ('iseries', 0.279015431585408),\n",
       " ('pk', 0.2789015345933746),\n",
       " ('contracts', 0.2788500011751584),\n",
       " ('place', 0.2787343374307621),\n",
       " ('care', -0.27862409270418),\n",
       " ('test', 0.27808211432300034),\n",
       " ('computer', -0.27789262217803024),\n",
       " ('efficient', 0.27739723181757414),\n",
       " ('excel', 0.27673508557764726),\n",
       " ('oil', 0.2767168747566427),\n",
       " ('starting', -0.2763144979850455),\n",
       " ('closing', -0.27628677489148284),\n",
       " ('suitable', 0.27528454308140976),\n",
       " ('course', -0.2750752596808988),\n",
       " ('reviewing', -0.27506795148291013),\n",
       " ('tx', 0.27488186288311256),\n",
       " ('caregiver', -0.27475480400231467),\n",
       " ('facilitating', 0.2747102672265587),\n",
       " ('won', 0.27420499876231846),\n",
       " ('enthusiasm', -0.273900908029174),\n",
       " ('ideas', -0.27389100289464774),\n",
       " ('consulting', -0.2738544146867928),\n",
       " ('hse', 0.2730495224169413),\n",
       " ('sd', 0.27304650906051886),\n",
       " ('living', -0.2727340708361205),\n",
       " ('signing', 0.2722730054283875),\n",
       " ('model', 0.2718835754437503),\n",
       " ('designers', -0.27060538904452885),\n",
       " ('disciplined', -0.26976852502926457),\n",
       " ('independently', -0.26964273983617204),\n",
       " ('perks', 0.2696370148837913),\n",
       " ('phoenix', -0.2695979639600069),\n",
       " ('receive', 0.2695527231650641),\n",
       " ('denver', 0.2691807668583389),\n",
       " ('egovernment', 0.26905596159223816),\n",
       " ('seek', -0.2689155406757875),\n",
       " ('operations', 0.2685430388776953),\n",
       " ('online', 0.2684010039216917),\n",
       " ('friday', -0.26832287013684597),\n",
       " ('contracting', 0.2682662442299628),\n",
       " ('fluent', -0.26746972726039103),\n",
       " ('effort', 0.26742864710717046),\n",
       " ('fiit', 0.26733777653504737),\n",
       " ('makeing', 0.26733777653504737),\n",
       " ('recruitng', 0.26733777653504737),\n",
       " ('direct', -0.2669701572607044),\n",
       " ('ago', 0.2669027677380171),\n",
       " ('first', -0.26673578131242687),\n",
       " ('load', 0.26654248407112074),\n",
       " ('writing', -0.26641770495170297),\n",
       " ('senior', -0.26584306260472124),\n",
       " ('open', -0.26575602823661026),\n",
       " ('pa', -0.2655383585689242),\n",
       " ('evaluate', 0.26549818923767177),\n",
       " ('cars', 0.2638184141449166),\n",
       " ('sites', 0.26368328944702313),\n",
       " ('earning', 0.2633275100085459),\n",
       " ('communities', 0.2632219628929517),\n",
       " ('operation', 0.26276395860763885),\n",
       " ('azco', 0.26251506864003826),\n",
       " ('tune', 0.2622242087081241),\n",
       " ('london', 0.26194739540889456),\n",
       " ('global', 0.2617656937164789),\n",
       " ('professional', 0.26156853891445014),\n",
       " ('asc', 0.26150154797635006),\n",
       " ('components', -0.26145003989552934),\n",
       " ('organized', -0.2612475310659247),\n",
       " ('restaurant', -0.2609531174276557),\n",
       " ('at', 0.260701676266797),\n",
       " ('corp', -0.2606477749350691),\n",
       " ('represents', 0.2605863628567787),\n",
       " ('loyalty', 0.260564500041123),\n",
       " ('calling', 0.2604567305519533),\n",
       " ('designer', -0.2602455027103474),\n",
       " ('add', 0.2601640240207994),\n",
       " ('rdbms', 0.25957262733748676),\n",
       " ('service', 0.25939482454208673),\n",
       " ('communication', 0.2592343678151584),\n",
       " ('guide', 0.25907654360191323),\n",
       " ('casual', -0.25877381941626865),\n",
       " ('hourly', -0.2587593553609763),\n",
       " ('offers', -0.2584537358308676),\n",
       " ('founded', -0.25828174483022354),\n",
       " ('benefit', 0.25818707640053856),\n",
       " ('rpg', 0.25750619304539424),\n",
       " ('learner', -0.2574998857799046),\n",
       " ('something', -0.2572331530435678),\n",
       " ('negotiations', 0.2571897888930031),\n",
       " ('skillsstrong', -0.2571086657561132),\n",
       " ('its', 0.2566752074452271),\n",
       " ('sr', -0.25637507576774515),\n",
       " ('minutes', 0.2560930189397275),\n",
       " ('access', 0.25594350592922827),\n",
       " ('hood', 0.25572379727809413),\n",
       " ('packages', -0.2557207858329305),\n",
       " ('attorney', -0.2554944351957745),\n",
       " ('degree', -0.25497998106261227),\n",
       " ('line', 0.25437687709521534),\n",
       " ('halliburton', 0.25420393882790987),\n",
       " ('gt', -0.2541226356831275),\n",
       " ('who', 0.253834461007696),\n",
       " ('following', -0.25358870549180274),\n",
       " ('specialty', 0.2529488960185337),\n",
       " ('conceptual', 0.2529451375569861),\n",
       " ('desirable', 0.2528992431646225),\n",
       " ('why', 0.2528365146506375),\n",
       " ('maximum', 0.2521480339611158),\n",
       " ('homes', 0.2520085155501458),\n",
       " ('1500', -0.2516577602834385),\n",
       " ('lines', 0.2510889860184218),\n",
       " ('half', 0.2510249437062193),\n",
       " ('providing', -0.2505921265902029),\n",
       " ('progressive', -0.25057566511684143),\n",
       " ('chat', -0.25040623051152855),\n",
       " ('greet', 0.2503179012589946),\n",
       " ('questions', -0.2502805529854023),\n",
       " ('aker', 0.2501351555511219),\n",
       " ('partnered', 0.2500845698715788),\n",
       " ('prices', 0.2497875381694975),\n",
       " ('mathematical', 0.24957254511120983),\n",
       " ('now', -0.24948735433603525),\n",
       " ('response', 0.24935026224606835),\n",
       " ('teacher', -0.24915331793437193),\n",
       " ('unspecified', 0.24893973215475174),\n",
       " ('off', 0.24832875055710515),\n",
       " ('methods', -0.24826414771046024),\n",
       " ('end', -0.2481914619286909),\n",
       " ('maximize', 0.24785235909240746),\n",
       " ('staffs', 0.24771292603024433),\n",
       " ('years', -0.2470826061094635),\n",
       " ('select', 0.24699109885621154),\n",
       " ('campaign', 0.24676430336590535),\n",
       " ('resources', -0.24648439585073417),\n",
       " ('supply', 0.24588913114464975),\n",
       " ('aae', 0.2454854307846734),\n",
       " ('suit', 0.24528102941909768),\n",
       " ('uncapped', 0.24524676090053116),\n",
       " ('helping', -0.2452204232196189),\n",
       " ('cartwright', 0.2446934857312368),\n",
       " ('which', -0.2446202925870285),\n",
       " ('32k', 0.2441723692816655),\n",
       " ('attitudemust', 0.24385550862861735),\n",
       " ('set', 0.24312551436854618),\n",
       " ('bay', -0.24296922406531962),\n",
       " ('international', -0.24280583140749706),\n",
       " ('loans', -0.24271475253515665),\n",
       " ('sensitive', 0.24266521321839815),\n",
       " ('enjoy', 0.24244078649691359),\n",
       " ('investment', -0.2422714959930107),\n",
       " ('discounts', 0.24226348088374114),\n",
       " ('focuses', 0.24205185097641763),\n",
       " ('shift', -0.24169693872377207),\n",
       " ('vemma', 0.2414897095728943),\n",
       " ('electrical', -0.24148396641201594),\n",
       " ('ultra', 0.24147045999811007),\n",
       " ('accordance', 0.24141899612587672),\n",
       " ('ky', 0.24136792094070522),\n",
       " ('completing', -0.24127567880479164),\n",
       " ('beverage', 0.24123369195957364),\n",
       " ('team', -0.24118361545536754),\n",
       " ('organize', -0.2410246016810932),\n",
       " ('great', -0.24098907018713892),\n",
       " ('implementations', 0.24096525552177947),\n",
       " ('realistic', 0.24064524621580863),\n",
       " ('requires', -0.2406001905681196),\n",
       " ('review', 0.23986797616012173),\n",
       " ('top', -0.2397918836169585),\n",
       " ('purpose', 0.23974272338748628),\n",
       " ('reception', 0.2396159208897546),\n",
       " ('tech', -0.23887115121837427),\n",
       " ('much', 0.23881849789658918),\n",
       " ('criteria', 0.23865394430139256),\n",
       " ('vmware', 0.23838881450329583),\n",
       " ('excellence', 0.2383809900125056),\n",
       " ('graphic', -0.23812594685951916),\n",
       " ('pay', -0.23795190525667007),\n",
       " ('recovery', 0.23718487894075127),\n",
       " ('maintenance', 0.23655549005694),\n",
       " ('flow', 0.2365277029129953),\n",
       " ('confident', 0.23627787821073684),\n",
       " ('see', 0.2359156969529233),\n",
       " ('has', 0.23564731510323225),\n",
       " ('certification', 0.23553107061971057),\n",
       " ('typing', 0.23550528342944285),\n",
       " ('station', -0.23527470118613553),\n",
       " ('cross', 0.23520617105749045),\n",
       " ('atmosphere', -0.23519693672713307),\n",
       " ('ohio', 0.23509633884059217),\n",
       " ('conceptsshould', 0.23503445258306163),\n",
       " ('informaticagood', 0.23503445258306163),\n",
       " ('unixgood', 0.23503445258306163),\n",
       " ('attention', 0.2349270385902795),\n",
       " ('usability', 0.23455914690159316),\n",
       " ('1000', 0.23434098355256763),\n",
       " ('externally', 0.23426073322895954),\n",
       " ('advantage', 0.23411138122110925),\n",
       " ('letters', 0.23406527712133068),\n",
       " ('object', 0.23403198462590863),\n",
       " ('federal', -0.2339773916144759),\n",
       " ('map', -0.23395511870674413),\n",
       " ('move', 0.23391387711429643),\n",
       " ('demonstrates', -0.23385350309642233),\n",
       " ('windows', -0.23308180219650537),\n",
       " ('kentucky', 0.23262588875732276),\n",
       " ('oriented', 0.23246926916155525),\n",
       " ('email_b08cf5e4101b4b7b7594fe3081f94f7f9a0f2d6192fb5d4a1a72ecf03c816e83',\n",
       "  0.23228805674467273),\n",
       " ('extraordinary', 0.23222799804298347),\n",
       " ('pharmaceuticals', -0.23209316435574895),\n",
       " ('aecom', 0.2319511200158788),\n",
       " ('leading', -0.23147045339374298),\n",
       " ('rs', -0.2314244698703736),\n",
       " ('reward', 0.23116584268922571),\n",
       " ('art', -0.23109634938412657),\n",
       " ('physical', -0.23094892626881713),\n",
       " ('collaboration', 0.2309068300884771),\n",
       " ('financing', 0.23056647818325884),\n",
       " ('eye', -0.23040792893077183),\n",
       " ('45', -0.23040459658739648),\n",
       " ('plus', -0.2303719881965587),\n",
       " ('pass', -0.2303571987758033),\n",
       " ('database', 0.2302529819032448),\n",
       " ('3d', -0.23021710671391954),\n",
       " ('understand', -0.23003721881069306),\n",
       " ('note', 0.2298373372082385),\n",
       " ('advertising', 0.2298280663486792),\n",
       " ('temporary', -0.22957542278062984),\n",
       " ('game', -0.2290054305270194),\n",
       " ('back', 0.22898682536925039),\n",
       " ('earliest', 0.22888818008384862),\n",
       " ('establish', 0.22861854956994118),\n",
       " ('allow', -0.22856808448411106),\n",
       " ('robust', 0.22855605645206006),\n",
       " ('types', -0.22794281818582354),\n",
       " ('inquires', 0.22766061354466205),\n",
       " ('multi', 0.22756115053209608),\n",
       " ('telephone', -0.22742608448584747),\n",
       " ('finding', -0.22729863848295942),\n",
       " ('lot', 0.2271378187740622),\n",
       " ('forward', 0.2269985795908515),\n",
       " ('satellite', -0.2268954689643903),\n",
       " ('hoa', 0.22684387829344824),\n",
       " ('ll', -0.22672385298966866),\n",
       " ('is', -0.22669205347048957),\n",
       " ('construction', -0.22653706508200613),\n",
       " ('backed', -0.22649126932626462),\n",
       " ('writer', -0.22637028150298008),\n",
       " ('several', 0.22611364592937805),\n",
       " ('housekeeping', 0.22595073433105606),\n",
       " ('via', 0.22590349973217577),\n",
       " ('explain', 0.22578299644311303),\n",
       " ('opening', 0.2254481916163569),\n",
       " ('bright', 0.22538324910081586),\n",
       " ('directly', -0.22537847168360056),\n",
       " ('systems', 0.22533091248299722),\n",
       " ('rideamigos', 0.2252108704165592),\n",
       " ('department', -0.2252039080971332),\n",
       " ('desire', 0.22508887445384898),\n",
       " ('hotel', 0.2247749273259733),\n",
       " ('affordable', -0.22473874371987781),\n",
       " ('respond', -0.2245837071247895),\n",
       " ('prospects', 0.22404265397240966),\n",
       " ('applicant', 0.22358136770704962),\n",
       " ('targets', -0.22354939444055877),\n",
       " ('recorded', 0.22307147403576233),\n",
       " ('attitude', -0.22296995186404503),\n",
       " ('families', -0.22267575520665725),\n",
       " ('ios', -0.22259155095464409),\n",
       " ('weekends', 0.22235487222279723),\n",
       " ('de', -0.22204503481363436),\n",
       " ('inn', -0.2215669702796407),\n",
       " ('throughout', -0.22148729954135252),\n",
       " ('beverages', -0.2214248757816563),\n",
       " ('optician', 0.22142417967493053),\n",
       " ('interactive', -0.2212933017958847),\n",
       " ('languages', 0.22114737400796777),\n",
       " ('america', -0.2210542472285281),\n",
       " ('virtual', 0.22081494430963694),\n",
       " ('day', 0.2207257045467314),\n",
       " ('ms', 0.22054712332671464),\n",
       " ('two', -0.22050467434014345),\n",
       " ('clerk', 0.22047423582524292),\n",
       " ('telemarketing', 0.2202327370930928),\n",
       " ('bilingual', -0.21980949521760743),\n",
       " ('possess', -0.21968271527699207),\n",
       " ('him', 0.21953636663204484),\n",
       " ('academy', -0.21940430642136766),\n",
       " ('applying', 0.2190878199206633),\n",
       " ('next', -0.21878045619028086),\n",
       " ('player', -0.21873668858366324),\n",
       " ('scale', 0.21871882333648526),\n",
       " ('unique', -0.21841359476203226),\n",
       " ('multiple', -0.21832643107147742),\n",
       " ('secured', 0.21803752759534462),\n",
       " ('from', 0.21723647540902857),\n",
       " ('health', -0.21716967321502345),\n",
       " ('media', -0.21692177043788438),\n",
       " ('oral', 0.21665592199543915),\n",
       " ('laptop', 0.2165436053951838),\n",
       " ('cold', 0.21623386446188547),\n",
       " ('fhcp', 0.21611663163974384),\n",
       " ('kitchen', -0.21541413956491776),\n",
       " ('preventive', 0.21519539395973095),\n",
       " ('environment', 0.21514796412922152),\n",
       " ('portfolio', -0.2148717946310619),\n",
       " ('study', 0.21470432873071524),\n",
       " ('paperwork', -0.2146228233556455),\n",
       " ('eclinical', 0.21460343442443935),\n",
       " ('license', -0.21428782512642958),\n",
       " ('growth', -0.21418266275550873),\n",
       " ('alternative', -0.21398986282207422),\n",
       " ('versed', -0.21379930955258128),\n",
       " ('skillsgood', -0.21375615624632852),\n",
       " ('sell', -0.2137509930365212),\n",
       " ('ext', 0.21368696613894417),\n",
       " ('beneficial', 0.21342929655878176),\n",
       " ('axureillustrator', 0.21338733542960966),\n",
       " ('desgin', 0.21338733542960966),\n",
       " ('csd', -0.21336132079763384),\n",
       " ('job', -0.21334033880834904),\n",
       " ('loves', 0.21328225069118079),\n",
       " ('community', -0.21319638414474432),\n",
       " ('reduce', -0.2128462454925514),\n",
       " ('without', -0.21276658639856916),\n",
       " ('utilizing', 0.21270707095174404),\n",
       " ('nice', -0.21263781702396564),\n",
       " ('label', 0.21257114202351238),\n",
       " ('dozens', 0.21251671249956217),\n",
       " ('build', 0.21224523999958375),\n",
       " ('seminars', 0.21204161850464212),\n",
       " ('assisted', 0.21198217526529797),\n",
       " ('difficult', 0.21188089077751282),\n",
       " ('site', -0.21185931382263185),\n",
       " ('program', 0.2116598445798398),\n",
       " ('four', 0.21125180046718017),\n",
       " ('assigned', 0.2111496159155763),\n",
       " ('retail', -0.2110211195564925),\n",
       " ('studio', -0.21091581164449497),\n",
       " ('close', -0.21079287921287485),\n",
       " ('strongly', 0.2105973648238296),\n",
       " ('paw', -0.21057313829504593),\n",
       " ('good', -0.21052003325948915),\n",
       " ('write', -0.21036395330741775),\n",
       " ('resolving', -0.21035362370472738),\n",
       " ('while', 0.21026221871149103),\n",
       " ('independence', -0.21023526172855628),\n",
       " ('html', -0.2102054405118552),\n",
       " ('information', 0.20983569770880067),\n",
       " ('finance', 0.20953733171457245),\n",
       " ('tool', -0.20940754636592895),\n",
       " ('run', -0.20938716437005983),\n",
       " ('profit', 0.2092849276653639),\n",
       " ('offices', -0.20920294172314982),\n",
       " ('rapidly', -0.20886760069394497),\n",
       " ('150', 0.2086507972374355),\n",
       " ('setting', -0.20864166298769357),\n",
       " ('kuala', 0.2084717477894865),\n",
       " ('lumpur', 0.2084717477894865),\n",
       " ('commissions', -0.20834355392393458),\n",
       " ('skillsa', 0.20833189283414383),\n",
       " ('remain', -0.2083311520058563),\n",
       " ('disabilities', -0.20828425524789176),\n",
       " ('there', -0.20821673075969008),\n",
       " ('touch', -0.20818503250940343),\n",
       " ('chemical', -0.20813494533796323),\n",
       " ('administration', -0.207974426391352),\n",
       " ('big', -0.20780353266983184),\n",
       " ('barcelona', 0.20752494054663323),\n",
       " ('compliance', 0.2072330515458185),\n",
       " ('input', 0.2067358100027489),\n",
       " ('apply', 0.20653574685813578),\n",
       " ('wifi', 0.20649941061503962),\n",
       " ('possible', -0.20630135669298105),\n",
       " ('redmond', 0.20616461798217883),\n",
       " ('proficient', 0.2060920012456247),\n",
       " ('brands', -0.20609018926606343),\n",
       " ('cloud', -0.2060797853368987),\n",
       " ('affairs', 0.20591566488393456),\n",
       " ('among', 0.20573312763663937),\n",
       " ('debug', 0.20555280359372624),\n",
       " ('valid', -0.20548732171536307),\n",
       " ('infrastructure', -0.20526509077906643),\n",
       " ('thomson', 0.20497914722744712),\n",
       " ('literate', 0.20497618615966942),\n",
       " ('annually', 0.20496779788008598),\n",
       " ('controlled', 0.20491381154914562),\n",
       " ('company', 0.20476233939385385),\n",
       " ('currently', -0.20471572190105855),\n",
       " ('broad', 0.20462871795885382),\n",
       " ('uae', 0.20451192950139913),\n",
       " ('indiana', 0.20437974742146187),\n",
       " ('register', 0.2041813384689107),\n",
       " ('franchise', 0.2039074218357776),\n",
       " ('because', -0.20374855300959815),\n",
       " ('surface', 0.2037313043903974),\n",
       " ('criminal', -0.20345848837196623),\n",
       " ('availability', -0.20343056269025941),\n",
       " ('lift', -0.20342728085176148),\n",
       " ('kids', -0.2033995629394421),\n",
       " ('results', 0.2033199693340844),\n",
       " ('bloomington', 0.2031723026089792),\n",
       " ('emerging', -0.2030985139281524),\n",
       " ('urgent', 0.2028863721725648),\n",
       " ('appraisal', 0.20287464302163916),\n",
       " ('mid', -0.202820999490445),\n",
       " ('nationwide', 0.20280779256770262),\n",
       " ('editing', -0.202789898770666),\n",
       " ('dishwashers', -0.20268855376391354),\n",
       " ('law', -0.20261286227858843),\n",
       " ('smart', -0.20259562307476497),\n",
       " ('fantastic', -0.2025774550674535),\n",
       " ('lots', -0.20216699959134604),\n",
       " ('nsw', 0.20204828674263683),\n",
       " ('datasets', 0.20196261364596685),\n",
       " ('letter', -0.20175809940529996),\n",
       " ('up', -0.20161270807100704),\n",
       " ('mtkz', 0.20142239718463584),\n",
       " ('url_dc6a4e8df8c88cf7bb611c27fadf835b2ea6d40cec837463b39bb6ba9bca8852',\n",
       "  0.20142239718463584),\n",
       " ('southeast', 0.20134748042181883),\n",
       " ('eg', 0.20133525054781598),\n",
       " ('multitask', 0.20132209989799082),\n",
       " ('complete', -0.20124577481600958),\n",
       " ('six', 0.20115687598979645),\n",
       " ('methodologies', 0.20070003092050373),\n",
       " ('advantageous', -0.20060232065984654),\n",
       " ('let', 0.2005917012647269),\n",
       " ('having', -0.20050841456656734),\n",
       " ('mature', 0.20038797106552042),\n",
       " ('apps', 0.20030632409039903),\n",
       " ('fitness', 0.1999643532127726),\n",
       " ('cfr', 0.19986456370937175),\n",
       " ('savvy', -0.19975249425304253),\n",
       " ('volume', 0.1997217246108113),\n",
       " ('debt', -0.19946093632694253),\n",
       " ('suits', -0.19923298766342204),\n",
       " ('consistency', 0.199154235996826),\n",
       " ('documents', 0.1990844714733033),\n",
       " ('truck', -0.19874078604591966),\n",
       " ('written', 0.19873326553666382),\n",
       " ('sure', 0.19864685003775084),\n",
       " ('weekend', -0.1985404638045185),\n",
       " ('mo', 0.1981247176267281),\n",
       " ('supervision', 0.1980450178064742),\n",
       " ('talent', -0.19778038859723548),\n",
       " ('montclair', 0.1975637305125034),\n",
       " ('hackensackumc', 0.1975637304322487),\n",
       " ('mountainside', 0.1975637304322487),\n",
       " ('url_84cae77e4a7e59d794047515ef3a88b438de87588afefff1224fad56e0e162f9',\n",
       "  0.1975637304322487),\n",
       " ('cosmopolitan', 0.19756373005460806),\n",
       " ('sacramento', -0.19749466938149607),\n",
       " ('experiance', 0.19740563052936852),\n",
       " ('21', -0.1973975948121859),\n",
       " ('cutting', -0.1972316778108776),\n",
       " ('excelling', 0.1972246267817948),\n",
       " ('straight', 0.1968541341991663),\n",
       " ('eligible', 0.1966048239142895),\n",
       " ('leverage', -0.19650451787237294),\n",
       " ('powerpoint', 0.1960578655781327),\n",
       " ('solaris', -0.196007202283766),\n",
       " ('30am', 0.19546764952283177),\n",
       " ('catering', 0.19527060990711087),\n",
       " ('internally', 0.19512598736999293),\n",
       " ('arlington', -0.19502784248786162),\n",
       " ('directs', 0.19479705005883372),\n",
       " ('execution', 0.19472255030221847),\n",
       " ('assurance', -0.1947106567095561),\n",
       " ('ceo', -0.1945963550611233),\n",
       " ('billing', 0.19447304947147248),\n",
       " ('fields', 0.1943627865433183),\n",
       " ('16', -0.19410535342226315),\n",
       " ('uah', 0.19402992307287878),\n",
       " ('should', 0.1940246186156674),\n",
       " ('machining', 0.19385614806490872),\n",
       " ('urgently', 0.1934759808392699),\n",
       " ('paired', 0.19339385078966856),\n",
       " ('relocation', -0.19331975382416258),\n",
       " ('transport', -0.19306228868553912),\n",
       " ('last', -0.1930406643494794),\n",
       " ('erp', 0.19303654883064336),\n",
       " ('yrs', -0.19297948869510392),\n",
       " ('statistics', 0.1928809696077189),\n",
       " ('md', 0.1927030543231182),\n",
       " ('predictive', 0.19267526085386133),\n",
       " ('35', -0.1926182349917879),\n",
       " ('raised', 0.19252240204588558),\n",
       " ('remote', -0.1925142799621499),\n",
       " ('prior', 0.19249634516129804),\n",
       " ('demonstrated', -0.19238723627461354),\n",
       " ('specialized', -0.19229857375379794),\n",
       " ('decisions', -0.19217397945182596),\n",
       " ('stakeholders', 0.192060333857005),\n",
       " ('other', 0.19183617387339605),\n",
       " ('return', -0.19115661413683566),\n",
       " ('discuss', -0.19107044589245795),\n",
       " ('outlook', 0.19105709575711313),\n",
       " ('too', -0.19082235625531815),\n",
       " ('driver', -0.19077810876519938),\n",
       " ('compensation', 0.1903820138469616),\n",
       " ('retirement', 0.1903604599848201),\n",
       " ('demonstrate', 0.19014064481734344),\n",
       " ('phones', 0.1901089823664617),\n",
       " ('mold', 0.19006600053045453),\n",
       " ('ensure', -0.18987407131788248),\n",
       " ('rate', -0.18977391230297305),\n",
       " ('workshops', 0.18961136399248651),\n",
       " ('believe', -0.1893914820567086),\n",
       " ('marcus', -0.18936629921201287),\n",
       " ('roles', 0.18929119509979186),\n",
       " ('branches', -0.18926058036226873),\n",
       " ('innovate', 0.18915404885323406),\n",
       " ('aware', 0.1891536578093595),\n",
       " ('endoscopy', 0.18908336259924216),\n",
       " ('amazing', -0.1890586426180537),\n",
       " ('verification', -0.18905129996844378),\n",
       " ('mateo', 0.18904800048026013),\n",
       " ('investors', -0.18896332155611814),\n",
       " ('always', 0.18886523974182554),\n",
       " ('cap', 0.18881203577470118),\n",
       " ('shyp', -0.18876611928622175),\n",
       " ('vehicles', -0.18875913344625403),\n",
       " ('preparing', 0.18874500550250825),\n",
       " ('fayetteville', 0.18865316190801035),\n",
       " ('accommodation', 0.1885959588091681),\n",
       " ('previous', -0.1882634567849848),\n",
       " ('crm', -0.18824010268297653),\n",
       " ('logo', 0.18797287348185895),\n",
       " ('aviation', 0.18793272543253997),\n",
       " ('biomedical', -0.1878653996468543),\n",
       " ('20', 0.1877546423527738),\n",
       " ('coffee', -0.1875492092833436),\n",
       " ('medication', -0.1873517767438266),\n",
       " ('reach', 0.18728510524013156),\n",
       " ('staffing', 0.18722796896138533),\n",
       " ('status', -0.18722319683308666),\n",
       " ('controller', -0.18708224404633317),\n",
       " ('objective', -0.18689123959819787),\n",
       " ('demonstrable', 0.18687569710980254),\n",
       " ('whether', -0.18678353832439124),\n",
       " ('employ', 0.1867810822735521),\n",
       " ('url_ddb080358fa5eecf5a67c649cfb4ffc343c484389f1bbaf2a1cb071e3f2b6e7e',\n",
       "  0.18663013236430445),\n",
       " ('verbally', -0.18659724145157766),\n",
       " ('negotiable', -0.18651440709278908),\n",
       " ('ventures', -0.18634017342592438),\n",
       " ('immingham', 0.1862913115027704),\n",
       " ('changes', -0.1861316942170276),\n",
       " ('petrochemical', -0.18598106787532523),\n",
       " ('secure', -0.1859482475559358),\n",
       " ('bills', 0.18594769143245124),\n",
       " ('dining', -0.1858387637663399),\n",
       " ('implement', -0.18566111501700483),\n",
       " ('deal', 0.18552508841549717),\n",
       " ('ordering', -0.18546497658698052),\n",
       " ('physician', -0.18546334833100844),\n",
       " ('not', -0.18544984003172715),\n",
       " ('lives', -0.18544337502161318),\n",
       " ('ad', -0.18535012036513926),\n",
       " ('parallel', 0.18522942072231113),\n",
       " ('precise', -0.18520625742382557),\n",
       " ('welcome', -0.18505378689181587),\n",
       " ('qc', 0.18494092389515857),\n",
       " ('llc', -0.1848580713852926),\n",
       " ('characteristics', -0.18465149252581128),\n",
       " ('photoshop', 0.18460243405882554),\n",
       " ('creating', 0.18423022905701958),\n",
       " ('an', -0.18414159347073797),\n",
       " ('phone_3ab7393b91c85a9f1aa761c4b4d2ece49e6ffa5378521a388e9226ce3fbf0ae9',\n",
       "  0.1841392896447549),\n",
       " ('thinking', -0.1840262213390638),\n",
       " ('utilize', -0.1839518015269606),\n",
       " ('abilitymust', 0.18386688959039038),\n",
       " ('started', 0.1837925037480234),\n",
       " ('url_0fa3f7c5e23a16de16a841e368006cae916884407d90b154dfef3976483a71ae',\n",
       "  0.18377312869349074),\n",
       " ('discoveries', 0.1837720675496506),\n",
       " ('organizing', -0.1837615649625888),\n",
       " ('practical', 0.18373792788192717),\n",
       " ('imports', 0.18348795538753088),\n",
       " ('rock', -0.183334425138393),\n",
       " ('2007', 0.18323749985999058),\n",
       " ('role', -0.18313355132492565),\n",
       " ('entries', -0.1830355311568376),\n",
       " ('bachelors', 0.18303038529317317),\n",
       " ('repair', -0.18293060932529714),\n",
       " ('live', -0.18275489608743378),\n",
       " ('phone_0814f032f01156c9557f6d4239ae10ac57a7260aada4d863cb1db34574f86466',\n",
       "  0.18265551956431852),\n",
       " ('times', 0.1823960229463911),\n",
       " ('luxury', 0.1823516436635561),\n",
       " ('blogs', 0.18228485927609536),\n",
       " ('info', 0.18227596070030455),\n",
       " ('rewarded', 0.18224715774260034),\n",
       " ('drs', 0.18221814921495946),\n",
       " ('willingness', 0.18215743736812506),\n",
       " ('client', -0.18215104225742465),\n",
       " ('body', -0.18214240774562507),\n",
       " ('qualifications', 0.18207779266310675),\n",
       " ('url_ec64af2b4fe2ca316e828f93b0cd098c22f8beba98dcac09d4dd7384b221a5e8',\n",
       "  -0.18195068796908873),\n",
       " ('texas', -0.18194142732482474),\n",
       " ('tests', -0.18192115413635523),\n",
       " ('lean', 0.1818999050038564),\n",
       " ('gas', 0.18157385034837747),\n",
       " ('cast', -0.18134771050720155),\n",
       " ('been', -0.1811577103892612),\n",
       " ('include', 0.18110467109528192),\n",
       " ('language', 0.18100446173209356),\n",
       " ('address', 0.18099328165794593),\n",
       " ('approach', -0.18079724621579277),\n",
       " ('terms', 0.1807797726635938),\n",
       " ('breaker', 0.18066042747946529),\n",
       " ('typist', 0.1804585464992427),\n",
       " ('buyers', -0.1804345943815155),\n",
       " ('this', 0.1801031980867531),\n",
       " ('teachable', 0.18010117258746752),\n",
       " ('courier', 0.1800320004429673),\n",
       " ('doesn', 0.17990226592887823),\n",
       " ('ehs', 0.17972181595736333),\n",
       " ('culture', 0.17950198867447495),\n",
       " ('chicago', 0.17914292418408828),\n",
       " ('confidence', -0.17909171539765892),\n",
       " ('watch', 0.1790038381541865),\n",
       " ('none', -0.17890395625568767),\n",
       " ('development', 0.17877083478517605),\n",
       " ('request', -0.17873358307844708),\n",
       " ('uhc', 0.17871739857595495),\n",
       " ('provista', 0.1787173361750344),\n",
       " ('vha', 0.1787173361750344),\n",
       " ('procurement', -0.1786628845219731),\n",
       " ('minds', -0.17825319106856588),\n",
       " ('canary', -0.1781491285234599),\n",
       " ('speed', -0.17793182156482115),\n",
       " ('reconcile', 0.17786086736625),\n",
       " ('agile', 0.17781743776547765),\n",
       " ('scheduling', 0.1777683760533722),\n",
       " ('farmington', 0.17768821765262438),\n",
       " ('vilnius', -0.177442298019183),\n",
       " ('challenging', 0.17740279516946753),\n",
       " ('everyone', 0.17733188737273128),\n",
       " ('thrive', 0.17729783800904192),\n",
       " ('servers', -0.17728784085891222),\n",
       " ('integrated', -0.1772847913628195),\n",
       " ('delivers', -0.17725414396203507),\n",
       " ('reliability', -0.17719398594815183),\n",
       " ('drivers', -0.1771364583328196),\n",
       " ('must', -0.17700040795385538),\n",
       " ('nursing', 0.17692563102493752),\n",
       " ('sub', 0.17664745942514565),\n",
       " ('feel', -0.17647257437250644),\n",
       " ('rooms', -0.17624522552882937),\n",
       " ('mi', 0.17608875979792565),\n",
       " ('professionals', 0.17582508741714617),\n",
       " ('telecommute', -0.17557023536001162),\n",
       " ('center', -0.175540658869897),\n",
       " ('minded', -0.17551427349313053),\n",
       " ('public', -0.175450395721546),\n",
       " ('create', -0.17540372413257863),\n",
       " ('funded', -0.17536803897739664),\n",
       " ('recommendations', 0.17529332580151216),\n",
       " ('stuff', -0.1752328649491667),\n",
       " ('engage', -0.17500486758109654),\n",
       " ('developments', 0.17487812075342274),\n",
       " ('40', -0.1748680654703188),\n",
       " ('abilities', 0.17455565370209175),\n",
       " ('tomorrow', -0.1743647700657032),\n",
       " ('pool', -0.17435628350796537),\n",
       " ('educational', 0.1742705608248187),\n",
       " ('11', -0.17416702449350127),\n",
       " ('christmas', 0.1741359492555256),\n",
       " ('organazation', 0.17403116680485156),\n",
       " ('natural', 0.17402831869399793),\n",
       " ('30k', 0.1737746646425315),\n",
       " ...]"
      ]
     },
     "execution_count": 121,
     "metadata": {},
     "output_type": "execute_result"
    }
   ],
   "source": [
    "sorted(list(zip(finalCV.get_feature_names(), final_lr.coef_[0])), key=lambda x: abs(x[1]), reverse=True)"
   ]
  },
  {
   "cell_type": "code",
   "execution_count": 141,
   "metadata": {},
   "outputs": [
    {
     "data": {
      "text/plain": [
       "17595    1\n",
       "11064    0\n",
       "11418    0\n",
       "9742     0\n",
       "11123    0\n",
       "        ..\n",
       "4745     0\n",
       "11243    0\n",
       "992      0\n",
       "13620    0\n",
       "2731     0\n",
       "Name: fraudulent, Length: 3576, dtype: int64"
      ]
     },
     "execution_count": 141,
     "metadata": {},
     "output_type": "execute_result"
    }
   ],
   "source": [
    "y_test"
   ]
  },
  {
   "cell_type": "code",
   "execution_count": 133,
   "metadata": {},
   "outputs": [],
   "source": [
    "from sklearn.metrics import precision_recall_curve"
   ]
  },
  {
   "cell_type": "code",
   "execution_count": 165,
   "metadata": {},
   "outputs": [
    {
     "data": {
      "image/png": "[encoded data removed]",
      "text/plain": [
       "<Figure size 1200x800 with 1 Axes>"
      ]
     },
     "metadata": {
      "needs_background": "light"
     },
     "output_type": "display_data"
    }
   ],
   "source": [
    "precision_curve, recall_curve, threshold_curve = precision_recall_curve(y_test, final_lr.predict_proba(x_test)[:,1] )\n",
    "\n",
    "plt.figure(dpi=200)\n",
    "plt.plot(threshold_curve, precision_curve[1:],label='precision')\n",
    "plt.plot(threshold_curve, recall_curve[1:], label='recall')\n",
    "plt.legend(loc='lower left')\n",
    "plt.xlabel('Probability Threshold');\n",
    "plt.title('Logistic Regression Precision and Recall Curves');\n",
    "plt.savefig('final_lr.png')"
   ]
  },
  {
   "cell_type": "code",
   "execution_count": 169,
   "metadata": {},
   "outputs": [
    {
     "name": "stdout",
     "output_type": "stream",
     "text": [
      "Threshold of 0.06:\n",
      "Precision: 0.7926,   Recall: 0.7842\n"
     ]
    }
   ],
   "source": [
    "y_predict = (final_lr.predict_proba(x_test)[:,1] > 0.15)\n",
    "print(\"Threshold of 0.06:\")\n",
    "print(\"Precision: {:6.4f},   Recall: {:6.4f}\".format(precision_score(y_test, y_predict), \n",
    "                                                     recall_score(y_test, y_predict)))"
   ]
  },
  {
   "cell_type": "markdown",
   "metadata": {
    "heading_collapsed": "true"
   },
   "source": [
    "# Testing RF"
   ]
  },
  {
   "cell_type": "code",
   "execution_count": 152,
   "metadata": {},
   "outputs": [],
   "source": [
    "final_rf = RandomForestClassifier()"
   ]
  },
  {
   "cell_type": "code",
   "execution_count": 153,
   "metadata": {},
   "outputs": [
    {
     "data": {
      "text/plain": [
       "RandomForestClassifier()"
      ]
     },
     "execution_count": 153,
     "metadata": {},
     "output_type": "execute_result"
    }
   ],
   "source": [
    "final_rf.fit(x_tr, y_tr)"
   ]
  },
  {
   "cell_type": "code",
   "execution_count": 155,
   "metadata": {},
   "outputs": [],
   "source": [
    "rf_pred = final_rf.predict(x_test)"
   ]
  },
  {
   "cell_type": "code",
   "execution_count": 156,
   "metadata": {},
   "outputs": [
    {
     "name": "stdout",
     "output_type": "stream",
     "text": [
      "Log loss for lrf:  0.063\n",
      "ROC AUC for rf:  0.987\n",
      "F1 for rf:  0.735\n",
      "Recall for rf:  0.584\n",
      "Precision for rf:  0.991\n"
     ]
    }
   ],
   "source": [
    "rf_ll = log_loss(y_test, final_rf.predict_proba(x_test))\n",
    "rf_roc_auc = roc_auc_score(y_test, final_rf.predict_proba(x_test)[:, 1])\n",
    "rf_f1 = f1_score(y_test, final_rf.predict(x_test) )\n",
    "rf_rec = recall_score(y_test, final_rf.predict(x_test))\n",
    "rf_precision = precision_score(y_test, final_rf.predict(x_test))\n",
    "\n",
    "\n",
    "print('Log loss for lrf: ', round(rf_ll,3))\n",
    "print('ROC AUC for rf: ', round(rf_roc_auc,3))\n",
    "print('F1 for rf: ', round(rf_f1,3))\n",
    "print('Recall for rf: ', round(rf_rec,3))\n",
    "print('Precision for rf: ', round(rf_precision,3))"
   ]
  },
  {
   "cell_type": "code",
   "execution_count": null,
   "metadata": {},
   "outputs": [],
   "source": []
  }
 ],
 "metadata": {
  "kernelspec": {
   "display_name": "Python 3",
   "language": "python",
   "name": "python3"
  },
  "language_info": {
   "codemirror_mode": {
    "name": "ipython",
    "version": 3
   },
   "file_extension": ".py",
   "mimetype": "text/x-python",
   "name": "python",
   "nbconvert_exporter": "python",
   "pygments_lexer": "ipython3",
   "version": "3.8.6"
  }
 },
 "nbformat": 4,
 "nbformat_minor": 4
}
